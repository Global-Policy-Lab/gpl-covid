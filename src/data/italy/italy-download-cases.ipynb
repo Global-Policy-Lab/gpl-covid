{
 "cells": [
  {
   "cell_type": "code",
   "execution_count": 1,
   "metadata": {},
   "outputs": [],
   "source": [
    "import os\n",
    "from pathlib import Path\n",
    "import pandas as pd\n",
    "import numpy as np\n",
    "import datetime"
   ]
  },
  {
   "cell_type": "markdown",
   "metadata": {},
   "source": [
    "## Download and read raw data from Github"
   ]
  },
  {
   "cell_type": "markdown",
   "metadata": {},
   "source": [
    "#### Define paths"
   ]
  },
  {
   "cell_type": "code",
   "execution_count": 2,
   "metadata": {},
   "outputs": [],
   "source": [
    "# Root of project\n",
    "gpl_covid_path = Path(os.getcwd()).parent.parent.parent\n",
    "\n",
    "dir_data = gpl_covid_path / 'data'\n",
    "\n",
    "# Administrative unit names\n",
    "path_adm = dir_data / 'interim' / 'adm' / 'adm.csv'\n",
    "\n",
    "# Template for processed dataset (output of this notebook)\n",
    "path_template = dir_data / 'processed' / '[country]_processed.csv'\n",
    "\n",
    "dir_italy_raw = gpl_covid_path / 'data' / 'raw' / 'italy'\n",
    "dir_italy_interim = gpl_covid_path / 'data' / 'interim' / 'italy'\n",
    "dir_processed = gpl_covid_path / 'data' / 'processed'\n",
    "\n",
    "today = datetime.datetime.now().strftime(\"%Y%m%d\")\n",
    "\n",
    "# Inputs\n",
    "# CSV form of policies Google sheet\n",
    "path_italy_policies = dir_italy_raw / f'italy_policy_static_{today}.csv'\n",
    "url_cases_by_province = \"https://raw.githubusercontent.com/pcm-dpc/COVID-19/master/dati-province/dpc-covid19-ita-province.csv\"\n",
    "url_cases_by_region = \"https://raw.githubusercontent.com/pcm-dpc/COVID-19/master/dati-regioni/dpc-covid19-ita-regioni.csv\"\n",
    "\n",
    "# Outputs\n",
    "## Intermediate outputs\n",
    "path_italy_raw_province = dir_italy_raw / 'italy-cases-by-province.csv'\n",
    "path_italy_raw_region = dir_italy_raw / 'italy-cases-by-region.csv'\n",
    "path_italy_interim_province = dir_italy_interim / 'italy-cases-by-province.csv'\n",
    "path_italy_interim_region = dir_italy_interim / 'italy-cases-by-region.csv'\n",
    "\n",
    "## Final outputs\n",
    "path_processed_region = dir_processed / 'adm1' / 'ITA_processed.csv'\n",
    "path_processed_province = dir_processed / 'adm2' / 'ITA_processed.csv'"
   ]
  },
  {
   "cell_type": "markdown",
   "metadata": {},
   "source": [
    "#### Read inputs"
   ]
  },
  {
   "cell_type": "code",
   "execution_count": 3,
   "metadata": {},
   "outputs": [],
   "source": [
    "# Administrative unit names\n",
    "adm_df = pd.read_csv(path_adm)\n",
    "\n",
    "# Columns in template (i.e. columns allowed in output)\n",
    "template_cols = set(pd.read_csv(path_template).columns)\n",
    "\n",
    "# Italy-specific data\n",
    "cases_by_province = pd.read_csv(url_cases_by_province)\n",
    "cases_by_region = pd.read_csv(url_cases_by_region)\n",
    "policies_full = pd.read_csv(path_italy_policies)"
   ]
  },
  {
   "cell_type": "markdown",
   "metadata": {},
   "source": [
    "##### Save raw case data from URL to project folder"
   ]
  },
  {
   "cell_type": "code",
   "execution_count": 4,
   "metadata": {},
   "outputs": [
    {
     "data": {
      "text/html": [
       "<div>\n",
       "<style scoped>\n",
       "    .dataframe tbody tr th:only-of-type {\n",
       "        vertical-align: middle;\n",
       "    }\n",
       "\n",
       "    .dataframe tbody tr th {\n",
       "        vertical-align: top;\n",
       "    }\n",
       "\n",
       "    .dataframe thead th {\n",
       "        text-align: right;\n",
       "    }\n",
       "</style>\n",
       "<table border=\"1\" class=\"dataframe\">\n",
       "  <thead>\n",
       "    <tr style=\"text-align: right;\">\n",
       "      <th></th>\n",
       "      <th>data</th>\n",
       "      <th>stato</th>\n",
       "      <th>codice_regione</th>\n",
       "      <th>denominazione_regione</th>\n",
       "      <th>codice_provincia</th>\n",
       "      <th>denominazione_provincia</th>\n",
       "      <th>sigla_provincia</th>\n",
       "      <th>lat</th>\n",
       "      <th>long</th>\n",
       "      <th>totale_casi</th>\n",
       "    </tr>\n",
       "  </thead>\n",
       "  <tbody>\n",
       "    <tr>\n",
       "      <th>0</th>\n",
       "      <td>2020-02-24 18:00:00</td>\n",
       "      <td>ITA</td>\n",
       "      <td>13</td>\n",
       "      <td>Abruzzo</td>\n",
       "      <td>69</td>\n",
       "      <td>Chieti</td>\n",
       "      <td>CH</td>\n",
       "      <td>42.351032</td>\n",
       "      <td>14.167546</td>\n",
       "      <td>0</td>\n",
       "    </tr>\n",
       "    <tr>\n",
       "      <th>1</th>\n",
       "      <td>2020-02-24 18:00:00</td>\n",
       "      <td>ITA</td>\n",
       "      <td>13</td>\n",
       "      <td>Abruzzo</td>\n",
       "      <td>66</td>\n",
       "      <td>L'Aquila</td>\n",
       "      <td>AQ</td>\n",
       "      <td>42.351222</td>\n",
       "      <td>13.398438</td>\n",
       "      <td>0</td>\n",
       "    </tr>\n",
       "    <tr>\n",
       "      <th>2</th>\n",
       "      <td>2020-02-24 18:00:00</td>\n",
       "      <td>ITA</td>\n",
       "      <td>13</td>\n",
       "      <td>Abruzzo</td>\n",
       "      <td>68</td>\n",
       "      <td>Pescara</td>\n",
       "      <td>PE</td>\n",
       "      <td>42.464584</td>\n",
       "      <td>14.213648</td>\n",
       "      <td>0</td>\n",
       "    </tr>\n",
       "    <tr>\n",
       "      <th>3</th>\n",
       "      <td>2020-02-24 18:00:00</td>\n",
       "      <td>ITA</td>\n",
       "      <td>13</td>\n",
       "      <td>Abruzzo</td>\n",
       "      <td>67</td>\n",
       "      <td>Teramo</td>\n",
       "      <td>TE</td>\n",
       "      <td>42.658918</td>\n",
       "      <td>13.704400</td>\n",
       "      <td>0</td>\n",
       "    </tr>\n",
       "    <tr>\n",
       "      <th>4</th>\n",
       "      <td>2020-02-24 18:00:00</td>\n",
       "      <td>ITA</td>\n",
       "      <td>13</td>\n",
       "      <td>Abruzzo</td>\n",
       "      <td>979</td>\n",
       "      <td>In fase di definizione/aggiornamento</td>\n",
       "      <td>NaN</td>\n",
       "      <td>0.000000</td>\n",
       "      <td>0.000000</td>\n",
       "      <td>0</td>\n",
       "    </tr>\n",
       "  </tbody>\n",
       "</table>\n",
       "</div>"
      ],
      "text/plain": [
       "                  data stato  codice_regione denominazione_regione  \\\n",
       "0  2020-02-24 18:00:00   ITA              13               Abruzzo   \n",
       "1  2020-02-24 18:00:00   ITA              13               Abruzzo   \n",
       "2  2020-02-24 18:00:00   ITA              13               Abruzzo   \n",
       "3  2020-02-24 18:00:00   ITA              13               Abruzzo   \n",
       "4  2020-02-24 18:00:00   ITA              13               Abruzzo   \n",
       "\n",
       "   codice_provincia               denominazione_provincia sigla_provincia  \\\n",
       "0                69                                Chieti              CH   \n",
       "1                66                              L'Aquila              AQ   \n",
       "2                68                               Pescara              PE   \n",
       "3                67                                Teramo              TE   \n",
       "4               979  In fase di definizione/aggiornamento             NaN   \n",
       "\n",
       "         lat       long  totale_casi  \n",
       "0  42.351032  14.167546            0  \n",
       "1  42.351222  13.398438            0  \n",
       "2  42.464584  14.213648            0  \n",
       "3  42.658918  13.704400            0  \n",
       "4   0.000000   0.000000            0  "
      ]
     },
     "execution_count": 4,
     "metadata": {},
     "output_type": "execute_result"
    }
   ],
   "source": [
    "cases_by_province.head()"
   ]
  },
  {
   "cell_type": "code",
   "execution_count": 5,
   "metadata": {},
   "outputs": [
    {
     "data": {
      "text/html": [
       "<div>\n",
       "<style scoped>\n",
       "    .dataframe tbody tr th:only-of-type {\n",
       "        vertical-align: middle;\n",
       "    }\n",
       "\n",
       "    .dataframe tbody tr th {\n",
       "        vertical-align: top;\n",
       "    }\n",
       "\n",
       "    .dataframe thead th {\n",
       "        text-align: right;\n",
       "    }\n",
       "</style>\n",
       "<table border=\"1\" class=\"dataframe\">\n",
       "  <thead>\n",
       "    <tr style=\"text-align: right;\">\n",
       "      <th></th>\n",
       "      <th>data</th>\n",
       "      <th>stato</th>\n",
       "      <th>codice_regione</th>\n",
       "      <th>denominazione_regione</th>\n",
       "      <th>lat</th>\n",
       "      <th>long</th>\n",
       "      <th>ricoverati_con_sintomi</th>\n",
       "      <th>terapia_intensiva</th>\n",
       "      <th>totale_ospedalizzati</th>\n",
       "      <th>isolamento_domiciliare</th>\n",
       "      <th>totale_attualmente_positivi</th>\n",
       "      <th>nuovi_attualmente_positivi</th>\n",
       "      <th>dimessi_guariti</th>\n",
       "      <th>deceduti</th>\n",
       "      <th>totale_casi</th>\n",
       "      <th>tamponi</th>\n",
       "    </tr>\n",
       "  </thead>\n",
       "  <tbody>\n",
       "    <tr>\n",
       "      <th>0</th>\n",
       "      <td>2020-02-24 18:00:00</td>\n",
       "      <td>ITA</td>\n",
       "      <td>13</td>\n",
       "      <td>Abruzzo</td>\n",
       "      <td>42.351222</td>\n",
       "      <td>13.398438</td>\n",
       "      <td>0</td>\n",
       "      <td>0</td>\n",
       "      <td>0</td>\n",
       "      <td>0</td>\n",
       "      <td>0</td>\n",
       "      <td>0</td>\n",
       "      <td>0</td>\n",
       "      <td>0</td>\n",
       "      <td>0</td>\n",
       "      <td>5</td>\n",
       "    </tr>\n",
       "    <tr>\n",
       "      <th>1</th>\n",
       "      <td>2020-02-24 18:00:00</td>\n",
       "      <td>ITA</td>\n",
       "      <td>17</td>\n",
       "      <td>Basilicata</td>\n",
       "      <td>40.639471</td>\n",
       "      <td>15.805148</td>\n",
       "      <td>0</td>\n",
       "      <td>0</td>\n",
       "      <td>0</td>\n",
       "      <td>0</td>\n",
       "      <td>0</td>\n",
       "      <td>0</td>\n",
       "      <td>0</td>\n",
       "      <td>0</td>\n",
       "      <td>0</td>\n",
       "      <td>0</td>\n",
       "    </tr>\n",
       "    <tr>\n",
       "      <th>2</th>\n",
       "      <td>2020-02-24 18:00:00</td>\n",
       "      <td>ITA</td>\n",
       "      <td>4</td>\n",
       "      <td>P.A. Bolzano</td>\n",
       "      <td>46.499335</td>\n",
       "      <td>11.356624</td>\n",
       "      <td>0</td>\n",
       "      <td>0</td>\n",
       "      <td>0</td>\n",
       "      <td>0</td>\n",
       "      <td>0</td>\n",
       "      <td>0</td>\n",
       "      <td>0</td>\n",
       "      <td>0</td>\n",
       "      <td>0</td>\n",
       "      <td>1</td>\n",
       "    </tr>\n",
       "    <tr>\n",
       "      <th>3</th>\n",
       "      <td>2020-02-24 18:00:00</td>\n",
       "      <td>ITA</td>\n",
       "      <td>18</td>\n",
       "      <td>Calabria</td>\n",
       "      <td>38.905976</td>\n",
       "      <td>16.594402</td>\n",
       "      <td>0</td>\n",
       "      <td>0</td>\n",
       "      <td>0</td>\n",
       "      <td>0</td>\n",
       "      <td>0</td>\n",
       "      <td>0</td>\n",
       "      <td>0</td>\n",
       "      <td>0</td>\n",
       "      <td>0</td>\n",
       "      <td>1</td>\n",
       "    </tr>\n",
       "    <tr>\n",
       "      <th>4</th>\n",
       "      <td>2020-02-24 18:00:00</td>\n",
       "      <td>ITA</td>\n",
       "      <td>15</td>\n",
       "      <td>Campania</td>\n",
       "      <td>40.839566</td>\n",
       "      <td>14.250850</td>\n",
       "      <td>0</td>\n",
       "      <td>0</td>\n",
       "      <td>0</td>\n",
       "      <td>0</td>\n",
       "      <td>0</td>\n",
       "      <td>0</td>\n",
       "      <td>0</td>\n",
       "      <td>0</td>\n",
       "      <td>0</td>\n",
       "      <td>10</td>\n",
       "    </tr>\n",
       "  </tbody>\n",
       "</table>\n",
       "</div>"
      ],
      "text/plain": [
       "                  data stato  codice_regione denominazione_regione        lat  \\\n",
       "0  2020-02-24 18:00:00   ITA              13               Abruzzo  42.351222   \n",
       "1  2020-02-24 18:00:00   ITA              17            Basilicata  40.639471   \n",
       "2  2020-02-24 18:00:00   ITA               4          P.A. Bolzano  46.499335   \n",
       "3  2020-02-24 18:00:00   ITA              18              Calabria  38.905976   \n",
       "4  2020-02-24 18:00:00   ITA              15              Campania  40.839566   \n",
       "\n",
       "        long  ricoverati_con_sintomi  terapia_intensiva  totale_ospedalizzati  \\\n",
       "0  13.398438                       0                  0                     0   \n",
       "1  15.805148                       0                  0                     0   \n",
       "2  11.356624                       0                  0                     0   \n",
       "3  16.594402                       0                  0                     0   \n",
       "4  14.250850                       0                  0                     0   \n",
       "\n",
       "   isolamento_domiciliare  totale_attualmente_positivi  \\\n",
       "0                       0                            0   \n",
       "1                       0                            0   \n",
       "2                       0                            0   \n",
       "3                       0                            0   \n",
       "4                       0                            0   \n",
       "\n",
       "   nuovi_attualmente_positivi  dimessi_guariti  deceduti  totale_casi  tamponi  \n",
       "0                           0                0         0            0        5  \n",
       "1                           0                0         0            0        0  \n",
       "2                           0                0         0            0        1  \n",
       "3                           0                0         0            0        1  \n",
       "4                           0                0         0            0       10  "
      ]
     },
     "execution_count": 5,
     "metadata": {},
     "output_type": "execute_result"
    }
   ],
   "source": [
    "cases_by_region.head()"
   ]
  },
  {
   "cell_type": "code",
   "execution_count": 6,
   "metadata": {},
   "outputs": [],
   "source": [
    "cases_by_province.to_csv(path_italy_raw_province, index=False)\n",
    "cases_by_region.to_csv(path_italy_raw_region, index=False)"
   ]
  },
  {
   "cell_type": "markdown",
   "metadata": {},
   "source": [
    "## Translate and clean health data"
   ]
  },
  {
   "cell_type": "markdown",
   "metadata": {},
   "source": [
    "###### Settings"
   ]
  },
  {
   "cell_type": "code",
   "execution_count": 7,
   "metadata": {},
   "outputs": [],
   "source": [
    "cumulative_prefix = 'cum_'\n",
    "imputed_suffix = '_imputed'\n",
    "popweighted_suffix = '_popwt'\n",
    "optional_suffix = '_opt'"
   ]
  },
  {
   "cell_type": "markdown",
   "metadata": {},
   "source": [
    "### Translate field names from Italian to project naming scheme"
   ]
  },
  {
   "cell_type": "code",
   "execution_count": 8,
   "metadata": {},
   "outputs": [],
   "source": [
    "# Column names based on table descriptions here: https://github.com/pcm-dpc/COVID-19\n",
    "replace_dict = {\n",
    "    'data':'date',\n",
    "    'lat':'lat',\n",
    "    'long':'lon',\n",
    "    'stato':'adm0_name',\n",
    "    'denominazione_regione':'adm1_name',\n",
    "    'denominazione_provincia':'adm2_name',\n",
    "    'codice_regione':'adm1_id',\n",
    "    'codice_provincia':'adm2_id',\n",
    "    'sigla_provincia':'province_abbrev',\n",
    "    'totale_attualmente_positivi':'active_cases',\n",
    "    'nuovi_attualmente_positivi':'active_cases_new',\n",
    "    'totale_casi':cumulative_prefix + 'confirmed_cases',\n",
    "    'ricoverati_con_sintomi':cumulative_prefix + 'hospitalized_symptom',\n",
    "    'terapia_intensiva':cumulative_prefix + 'intensive_care',\n",
    "    'totale_ospedalizzati':cumulative_prefix + 'hospitalized',\n",
    "    'isolamento_domiciliare':cumulative_prefix + 'home_confinement',\n",
    "    'dimessi_guariti': cumulative_prefix + 'recoveries',\n",
    "    'deceduti': cumulative_prefix + 'deaths',\n",
    "    'totale_casi': cumulative_prefix + 'confirmed_cases',\n",
    "    'tamponi':cumulative_prefix + 'tests',\n",
    "}\n",
    "\n",
    "cases_by_province = cases_by_province.rename(columns=replace_dict)\n",
    "cases_by_region = cases_by_region.rename(columns=replace_dict)"
   ]
  },
  {
   "cell_type": "markdown",
   "metadata": {},
   "source": [
    "Clean date column"
   ]
  },
  {
   "cell_type": "code",
   "execution_count": 9,
   "metadata": {},
   "outputs": [],
   "source": [
    "def extract_date_from_datetime(dates):\n",
    "    return pd.to_datetime(dates.str[:10])\n",
    "\n",
    "cases_by_province['date'] = extract_date_from_datetime(cases_by_province['date'])\n",
    "cases_by_region['date'] = extract_date_from_datetime(cases_by_region['date'])"
   ]
  },
  {
   "cell_type": "markdown",
   "metadata": {},
   "source": [
    "Clean lat-lon coordinates"
   ]
  },
  {
   "cell_type": "code",
   "execution_count": 10,
   "metadata": {},
   "outputs": [],
   "source": [
    "cases_by_province.loc[:,['lat','lon']] = cases_by_province.loc[:,['lat','lon']].replace(0, np.nan)\n",
    "assert cases_by_region['lat'].isnull().sum() == 0\n",
    "assert cases_by_region['lon'].isnull().sum() == 0"
   ]
  },
  {
   "cell_type": "markdown",
   "metadata": {},
   "source": [
    "Clean unknown province names"
   ]
  },
  {
   "cell_type": "code",
   "execution_count": 11,
   "metadata": {},
   "outputs": [],
   "source": [
    "# \"In fase di definizione/aggiornamento\" translates to \"Being defined / updated\"\n",
    "cases_by_province['adm2_name'] = cases_by_province['adm2_name'].replace(\n",
    "    'In fase di definizione/aggiornamento', 'Unknown')"
   ]
  },
  {
   "cell_type": "markdown",
   "metadata": {},
   "source": [
    "Drop unnecessary column"
   ]
  },
  {
   "cell_type": "code",
   "execution_count": 12,
   "metadata": {},
   "outputs": [],
   "source": [
    "cases_by_province = cases_by_province.drop(columns=['province_abbrev'])"
   ]
  },
  {
   "cell_type": "markdown",
   "metadata": {},
   "source": [
    "### Impute values in cases where cumulative counts rise and then fall"
   ]
  },
  {
   "cell_type": "code",
   "execution_count": 13,
   "metadata": {},
   "outputs": [],
   "source": [
    "def convert_non_monotonic_to_nan(array):\n",
    "    \"\"\"Converts a numpy array to a monotonically increasing one.\n",
    "    Args:\n",
    "        array (numpy.ndarray [N,]): input array\n",
    "    Returns:\n",
    "        numpy.ndarray [N,]: some values marked as missing, all non-missing\n",
    "            values should be monotonically increasing\n",
    "    Usage:\n",
    "        >>> convert_non_monotonic_to_nan(np.array([0, 0, 5, 3, 4, 6, 3, 7, 6, 7, 8]))\n",
    "        np.array([ 0.,  0., np.nan,  3., np.nan, np.nan,  3., np.nan,  6.,  7.,  8.])\n",
    "    \"\"\"\n",
    "    keep = np.arange(0, len(array))\n",
    "    is_monotonic = False\n",
    "    while not is_monotonic:\n",
    "        is_monotonic_array = np.hstack((\n",
    "            array[keep][1:] >= array[keep][:-1], np.array(True)))\n",
    "        is_monotonic = is_monotonic_array.all()\n",
    "        keep = keep[is_monotonic_array]\n",
    "    out_array = np.full_like(array.astype(np.float), np.nan)\n",
    "    out_array[keep] = array[keep]\n",
    "    return out_array\n",
    "\n",
    "def log_interpolate(array):\n",
    "    \"\"\"Interpolates assuming log growth.\n",
    "    Args:\n",
    "        array (numpy.ndarray [N,]): input array with missing values\n",
    "    Returns:\n",
    "        numpy.ndarray [N,]: all missing values will be filled\n",
    "    Usage:\n",
    "        >>> log_interpolate(np.array([0, np.nan, 2, np.nan, 4, 6, np.nan, 7, 8]))\n",
    "        np.array([0, 0, 2, 3, 4, 6, 7, 7, 8])\n",
    "    \"\"\"\n",
    "    idx = np.arange(0, len(array))\n",
    "    log_array = np.log(array.astype(np.float32) + 1e-1)\n",
    "    interp_array = np.interp(\n",
    "        x=idx, xp=idx[~np.isnan(array)], fp=log_array[~np.isnan(array)])\n",
    "    return np.round(np.exp(interp_array)).astype(np.int32)\n",
    "\n",
    "def impute_cumulative_array(array):\n",
    "    \"\"\"Ensures array is cumulative, imputing where necessary\n",
    "    Args:\n",
    "        array-like (numpy.ndarray [N,], pandas.Series, etc.): input array with missing values\n",
    "    Returns:\n",
    "        numpy.ndarray [N,]: all non-monotonic values will be filled by logarithmic interpolation\n",
    "    Usage:\n",
    "        >>> impute_cumulative_array(np.array([0, 0, 5, 3, 4, 6, 3, 7, 6, 7, 8]))\n",
    "        np.array([0, 0, 2, 3, 4, 6, 7, 7, 8])\n",
    "    \"\"\"\n",
    "    array = np.array(array)\n",
    "    array = convert_non_monotonic_to_nan(array)\n",
    "    array = log_interpolate(array)\n",
    "    return array\n",
    "\n",
    "def impute_cumulative_df(df, src_col, dst_col, groupby_col):\n",
    "    \"\"\"Calculates imputed columns and returns \n",
    "    Args:\n",
    "        df (pandas.DataFrame): input DataFrame with a cumulative column\n",
    "        src_col (str): name of cumulative column to impute\n",
    "        dst_col (str): name of imputed cumulative column\n",
    "        groupby_col (str): name of column containing names of administrative units,\n",
    "            values should correspond to groups whose values should be accumulating\n",
    "    Returns:\n",
    "        pandas.DataFrame: a copy of `df` with a newly imputed column specified by `dst_col`\n",
    "    Usage:\n",
    "        >>> impute_cumulative_df(pandas.DataFrame([[0, 'a'], [5, 'b'], [3, 'a'], [2, 'a'], [6, 'b']]), 0, 1)\n",
    "        pandas.DataFrame([[0, 'a', 0], [5, 'b', 5], [3, 'a', 0], [2, 'a', 2], [6, 'b', 6]], columns=[0, 1, 'imputed'])\n",
    "    \"\"\"\n",
    "    if dst_col not in df.columns:\n",
    "        df[dst_col] = -1\n",
    "\n",
    "    for adm_name in df[groupby_col].unique():\n",
    "        sub = df.loc[df[groupby_col] == adm_name].copy()\n",
    "        sub[dst_col] = impute_cumulative_array(sub[src_col])\n",
    "        df.loc[df[groupby_col] == adm_name] = sub\n",
    "        \n",
    "    return df"
   ]
  },
  {
   "cell_type": "code",
   "execution_count": 14,
   "metadata": {},
   "outputs": [],
   "source": [
    "cases_by_province = impute_cumulative_df(cases_by_province, 'cum_confirmed_cases', 'cum_confirmed_cases' + imputed_suffix, 'adm2_id')\n",
    "\n",
    "cases_by_region_cum_cols = [col for col in cases_by_region.columns if 'cum_' in col]\n",
    "for src_col in cases_by_region_cum_cols:\n",
    "    dst_col = src_col + imputed_suffix\n",
    "    cases_by_region = impute_cumulative_df(cases_by_region, src_col, dst_col, 'adm1_name')"
   ]
  },
  {
   "cell_type": "code",
   "execution_count": 15,
   "metadata": {},
   "outputs": [],
   "source": [
    "cases_by_province.to_csv(path_italy_interim_province, index=False)\n",
    "cases_by_region.to_csv(path_italy_interim_region, index=False)"
   ]
  },
  {
   "cell_type": "markdown",
   "metadata": {},
   "source": [
    "## Merge Health with Policies"
   ]
  },
  {
   "cell_type": "code",
   "execution_count": 16,
   "metadata": {},
   "outputs": [],
   "source": [
    "policies_full['Date'] = pd.to_datetime(policies_full['Date'])\n",
    "policies_full['Policy'] = policies_full['Policy'].str.strip()\n",
    "policies_full['Opt'] = policies_full['Opt'].replace({\"Y\":1, \"N\":0})\n",
    "policies_full['Opt'] = policies_full['Opt'].fillna('N')\n",
    "\n",
    "policies_full['adm0_name'] = policies_full['adm0_name'].fillna('Italy')\n",
    "policies_full['adm1_affected'] = policies_full['adm1_affected'].fillna('All')\n",
    "policies_full['adm2_affected'] = policies_full['adm2_affected'].fillna('All')\n",
    "policies_full['adm3_affected'] = policies_full['adm3_affected'].fillna('All')\n",
    "\n",
    "assert len(policies_full[policies_full['adm1_pop_weight_perc_affected'].isnull()]) == 0\n",
    "assert len(policies_full[policies_full['adm2_pop_weight_perc_affected'].isnull()]) == 0\n",
    "\n",
    "policies = policies_full[\n",
    "    ['adm3_affected','adm2_pop_weight_perc_affected','adm2_affected', \n",
    "     'adm1_pop_weight_perc_affected','adm1_affected','adm0_name',\n",
    "     'Date','Policy','Opt']\n",
    "].drop_duplicates()"
   ]
  },
  {
   "cell_type": "code",
   "execution_count": 17,
   "metadata": {},
   "outputs": [],
   "source": [
    "# If this fails, implement `testing_regime` as categorical variable\n",
    "assert policies.groupby('Policy')['Policy'].count()['testing_regime'] == 1"
   ]
  },
  {
   "cell_type": "code",
   "execution_count": 18,
   "metadata": {},
   "outputs": [],
   "source": [
    "policies['home_isolation_partial'] = False\n",
    "policies.loc[policies['Policy'] == 'home_isolation_partial', 'home_isolation_partial'] = True\n",
    "\n",
    "policies.loc[policies['Policy'] == 'home_isolation_partial', 'adm2_pop_weight_perc_affected'] = policies.loc[policies['Policy'] == 'home_isolation_partial', 'adm2_pop_weight_perc_affected'] * 0.5\n",
    "policies.loc[policies['Policy'] == 'home_isolation_partial', 'adm1_pop_weight_perc_affected'] = policies.loc[policies['Policy'] == 'home_isolation_partial', 'adm1_pop_weight_perc_affected'] * 0.5\n",
    "policies['Policy'] = policies['Policy'].replace('home_isolation_partial', 'home_isolation')\n",
    "\n",
    "policies.loc[policies['Opt'] == 1, 'Policy'] = policies.loc[policies['Opt'] == 1, 'Policy'] + optional_suffix"
   ]
  },
  {
   "cell_type": "code",
   "execution_count": 19,
   "metadata": {},
   "outputs": [],
   "source": [
    "replace_dict = {\n",
    "    'Lombardy':'Lombardia',\n",
    "    'Piedmont':'Piemonte',\n",
    "    'Emilia-Romagna':'Emilia Romagna',\n",
    "    'Padua':'Padova',\n",
    "    'Venice':'Venezia',\n",
    "    'Pesaro and Urbino':'Pesaro e Urbino',\n",
    "    'Apulia':'Puglia', \n",
    "}"
   ]
  },
  {
   "cell_type": "code",
   "execution_count": 20,
   "metadata": {},
   "outputs": [
    {
     "name": "stdout",
     "output_type": "stream",
     "text": [
      "set() set()\n"
     ]
    }
   ],
   "source": [
    "adm1_not_found = set(policies['adm1_affected'].unique()) - set(cases_by_region['adm1_name'].unique()) - set(['All']) - set(replace_dict.keys())\n",
    "adm2_not_found = set(policies['adm2_affected'].unique()) - set(cases_by_province['adm2_name'].unique()) - set(['All']) - set(replace_dict.keys())\n",
    "print(adm1_not_found, adm2_not_found)\n",
    "assert len(adm1_not_found) == 0\n",
    "assert len(adm2_not_found) == 0"
   ]
  },
  {
   "cell_type": "code",
   "execution_count": 21,
   "metadata": {},
   "outputs": [],
   "source": [
    "# Need to translate all regions\n",
    "policies['adm1_affected'] = policies['adm1_affected'].replace(replace_dict)\n",
    "\n",
    "# Need to translate all provinces\n",
    "policies['adm2_affected'] = policies['adm2_affected'].replace(replace_dict)"
   ]
  },
  {
   "cell_type": "markdown",
   "metadata": {},
   "source": [
    "Interpret `home_isolation_partial` as `home_isolation` with a 1/2 multiplier"
   ]
  },
  {
   "cell_type": "code",
   "execution_count": 22,
   "metadata": {},
   "outputs": [],
   "source": [
    "policies_by_region = pd.DataFrame(policies.groupby(['Date', 'adm1_affected', 'Policy', 'Opt', 'home_isolation_partial'])['adm1_pop_weight_perc_affected'].sum()).reset_index()\n",
    "policies_by_province = pd.DataFrame(policies.groupby(['Date', 'adm1_affected', 'adm2_affected', 'Policy', 'Opt', 'home_isolation_partial'])['adm2_pop_weight_perc_affected'].sum()).reset_index()"
   ]
  },
  {
   "cell_type": "markdown",
   "metadata": {},
   "source": [
    "Assign policy indicators"
   ]
  },
  {
   "cell_type": "code",
   "execution_count": 23,
   "metadata": {},
   "outputs": [],
   "source": [
    "for policy_name in policies['Policy'].unique():\n",
    "    cases_by_region[policy_name] = 0\n",
    "    cases_by_region[policy_name + popweighted_suffix] = 0\n",
    "    cases_by_province[policy_name] = 0\n",
    "    cases_by_province[policy_name + popweighted_suffix] = 0\n",
    "\n",
    "for time, policy, optional, adm, perc_affected, partial in policies_by_region[['Date', 'Policy', 'Opt', 'adm1_affected', 'adm1_pop_weight_perc_affected', 'home_isolation_partial']].to_numpy():\n",
    "    cases_by_region.loc[\n",
    "        (cases_by_region['date'] >= time) &\n",
    "        ((cases_by_region['adm1_name'] == adm) | (adm == 'All')), policy\n",
    "    ] = 1 if not (policy == 'home_isolation' and partial == True) else 0.5\n",
    "    \n",
    "    cases_by_region.loc[\n",
    "        (cases_by_region['date'] >= time) &\n",
    "        ((cases_by_region['adm1_name'] == adm) | (adm == 'All')), policy + popweighted_suffix\n",
    "    ] = perc_affected\n",
    "    \n",
    "for time, policy, optional, adm1, adm2, perc_affected, partial in policies_by_province[['Date', 'Policy', 'Opt', 'adm1_affected', 'adm2_affected', 'adm2_pop_weight_perc_affected', 'home_isolation_partial']].to_numpy():\n",
    "    cases_by_province.loc[\n",
    "        (cases_by_province['date'] >= time) &\n",
    "        (\n",
    "            (cases_by_province['adm2_name'] == adm2) | \n",
    "            (adm1 == 'All') | \n",
    "            (\n",
    "                (adm2 == 'All') & (adm1 == cases_by_province['adm1_name'])\n",
    "            )\n",
    "        ), policy\n",
    "    ] = 1 if not (policy == 'home_isolation' and partial == True) else 0.5\n",
    "    \n",
    "    cases_by_province.loc[\n",
    "        (cases_by_province['date'] >= time) &\n",
    "        (\n",
    "            (cases_by_province['adm2_name'] == adm2) | \n",
    "            (adm1 == 'All') | \n",
    "            (\n",
    "                (adm2 == 'All') & (adm1 == cases_by_province['adm1_name'])\n",
    "            )\n",
    "        ), policy + popweighted_suffix\n",
    "    ] = perc_affected\n",
    "    \n",
    "cases_by_region['policies_enacted'] = 0\n",
    "cases_by_province['policies_enacted'] = 0\n",
    "for policy_name in policies['Policy'].unique():\n",
    "    cases_by_region['policies_enacted'] += cases_by_region[policy_name]\n",
    "    cases_by_province['policies_enacted'] += cases_by_province[policy_name]"
   ]
  },
  {
   "cell_type": "code",
   "execution_count": 24,
   "metadata": {},
   "outputs": [],
   "source": [
    "cases_by_region['no_gathering_size'] = 0\n",
    "cases_by_province['no_gathering_size'] = 0"
   ]
  },
  {
   "cell_type": "code",
   "execution_count": 25,
   "metadata": {},
   "outputs": [],
   "source": [
    "travel_international_popweighted_cols = [col for col in cases_by_region.columns if 'travel_ban_intl' in col and popweighted_suffix in col]\n",
    "assert len(travel_international_popweighted_cols) > 0\n",
    "cases_by_region = cases_by_region.drop(columns=travel_international_popweighted_cols)\n",
    "cases_by_province = cases_by_province.drop(columns=travel_international_popweighted_cols)\n",
    "\n",
    "cases_by_region = cases_by_region.drop(columns='testing_regime' + popweighted_suffix)\n",
    "cases_by_province = cases_by_province.drop(columns='testing_regime' + popweighted_suffix)"
   ]
  },
  {
   "cell_type": "code",
   "execution_count": 42,
   "metadata": {},
   "outputs": [],
   "source": [
    "template = pd.read_csv(path_template)"
   ]
  },
  {
   "cell_type": "code",
   "execution_count": 43,
   "metadata": {},
   "outputs": [
    {
     "data": {
      "text/plain": [
       "set()"
      ]
     },
     "execution_count": 43,
     "metadata": {},
     "output_type": "execute_result"
    }
   ],
   "source": [
    "missing_from_template = (set(cases_by_region.columns) | set(cases_by_province.columns)) - set(template.columns)\n",
    "missing_from_template"
   ]
  },
  {
   "cell_type": "code",
   "execution_count": 34,
   "metadata": {},
   "outputs": [],
   "source": [
    "new_template_cols = list(template.columns)[1:]"
   ]
  },
  {
   "cell_type": "code",
   "execution_count": 35,
   "metadata": {},
   "outputs": [
    {
     "data": {
      "text/plain": [
       "['date',\n",
       " 'adm0_name',\n",
       " 'adm1_name',\n",
       " 'adm2_name',\n",
       " 'adm1_id',\n",
       " 'adm2_id',\n",
       " 'lat',\n",
       " 'lon',\n",
       " 'cum_confirmed_cases',\n",
       " 'cum_confirmed_cases_imputed',\n",
       " 'cum_estimated_cases',\n",
       " 'cum_estimated_cases_imputed',\n",
       " 'active_cases',\n",
       " 'active_cases_imputed',\n",
       " 'active_cases_new',\n",
       " 'active_cases_new_imputed',\n",
       " 'cum_deaths',\n",
       " 'cum_deaths_imputed',\n",
       " 'cum_recoveries',\n",
       " 'cum_recoveries_imputed',\n",
       " 'cum_home_confinement',\n",
       " 'cum_home_confinement_imputed',\n",
       " 'cum_hospitalized',\n",
       " 'cum_hospitalized_imputed',\n",
       " 'cum_hospitalized_with_symptoms',\n",
       " 'cum_hospitalized_symptom_imputed',\n",
       " 'cum_intensive_care',\n",
       " 'cum_intensive_care_imputed',\n",
       " 'cum_tests',\n",
       " 'cum_tests_imputed',\n",
       " 'testing_regime',\n",
       " 'school_closure',\n",
       " 'school_closure_opt',\n",
       " 'school_closure_popwt',\n",
       " 'school_closure_opt_popwt',\n",
       " 'business_closure',\n",
       " 'business_closure_opt',\n",
       " 'business_closure_popwt',\n",
       " 'business_closure_opt_popwt',\n",
       " 'no_gathering',\n",
       " 'no_gathering_opt',\n",
       " 'no_gathering_popwt',\n",
       " 'no_gathering_opt_popwt',\n",
       " 'no_gathering_size',\n",
       " 'travel_ban_local',\n",
       " 'travel_ban_local_opt',\n",
       " 'travel_ban_local_popwt',\n",
       " 'travel_ban_local_opt_popwt',\n",
       " 'travel_ban_intl_outbound',\n",
       " 'travel_ban_intl_out_opt',\n",
       " 'travel_ban_intl_out_country_list',\n",
       " 'travel_ban_intl_inbound',\n",
       " 'travel_ban_intl_in_opt',\n",
       " 'travel_ban_intl_in_country_list',\n",
       " 'home_isolation',\n",
       " 'home_isolation_opt',\n",
       " 'home_isolation_popwt',\n",
       " 'home_isolation_opt_popwt',\n",
       " 'paid_sick_leave',\n",
       " 'paid_sick_leave_opt',\n",
       " 'paid_sick_leave_popwt',\n",
       " 'paid_sick_leave_opt_popwt',\n",
       " 'work_from_home',\n",
       " 'work_from_home_opt',\n",
       " 'work_from_home_popwt',\n",
       " 'work_from_home_opt_popwt',\n",
       " 'pos_cases_quarantine',\n",
       " 'pos_cases_quarantine_opt',\n",
       " 'pos_cases_quarantine_popwt',\n",
       " 'pos_cases_quarantine_opt_popwt',\n",
       " 'transit_suspension',\n",
       " 'transit_suspension_opt',\n",
       " 'transit_suspension_popwt',\n",
       " 'transit_suspension_opt_popwt',\n",
       " 'event_cancel',\n",
       " 'event_cancel_opt',\n",
       " 'event_cancel_popwt',\n",
       " 'event_cancel_opt_popwt',\n",
       " 'social_distance',\n",
       " 'social_distance_opt',\n",
       " 'social_distance_popwt',\n",
       " 'social_distance_opt_popwt',\n",
       " 'no_demonstration',\n",
       " 'no_demonstration_opt',\n",
       " 'no_demonstration_popwt',\n",
       " 'no_demonstration_opt_popwt',\n",
       " 'emergency_declaration',\n",
       " 'emergency_declaration_popwt',\n",
       " 'shutdown_relgious_places',\n",
       " 'religious_closure_opt',\n",
       " 'religious_closure_popwt',\n",
       " 'religious_closure_opt_popwt',\n",
       " 'policies_enacted']"
      ]
     },
     "execution_count": 35,
     "metadata": {},
     "output_type": "execute_result"
    }
   ],
   "source": [
    "new_template_cols"
   ]
  },
  {
   "cell_type": "code",
   "execution_count": 36,
   "metadata": {},
   "outputs": [],
   "source": [
    "cases_by_region.to_csv(path_processed_region, index=False)\n",
    "cases_by_province.to_csv(path_processed_province, index=False)"
   ]
  }
 ],
 "metadata": {
  "kernelspec": {
   "display_name": "Python 3",
   "language": "python",
   "name": "python3"
  },
  "language_info": {
   "codemirror_mode": {
    "name": "ipython",
    "version": 3
   },
   "file_extension": ".py",
   "mimetype": "text/x-python",
   "name": "python",
   "nbconvert_exporter": "python",
   "pygments_lexer": "ipython3",
   "version": "3.7.4"
  }
 },
 "nbformat": 4,
 "nbformat_minor": 2
}
