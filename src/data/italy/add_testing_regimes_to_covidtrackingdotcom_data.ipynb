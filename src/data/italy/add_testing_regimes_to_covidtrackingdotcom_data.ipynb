{
 "cells": [
  {
   "cell_type": "code",
   "execution_count": 1,
   "metadata": {},
   "outputs": [
    {
     "ename": "ModuleNotFoundError",
     "evalue": "No module named 'download_latest_covidtrackingdotcom_data'",
     "output_type": "error",
     "traceback": [
      "\u001b[1;31m---------------------------------------------------------------------------\u001b[0m",
      "\u001b[1;31mModuleNotFoundError\u001b[0m                       Traceback (most recent call last)",
      "\u001b[1;32m<ipython-input-1-63616ff3de82>\u001b[0m in \u001b[0;36m<module>\u001b[1;34m\u001b[0m\n\u001b[0;32m      4\u001b[0m \u001b[1;33m\u001b[0m\u001b[0m\n\u001b[0;32m      5\u001b[0m \u001b[1;31m# local imports\u001b[0m\u001b[1;33m\u001b[0m\u001b[1;33m\u001b[0m\u001b[1;33m\u001b[0m\u001b[0m\n\u001b[1;32m----> 6\u001b[1;33m \u001b[1;32mimport\u001b[0m \u001b[0mdownload_latest_covidtrackingdotcom_data\u001b[0m \u001b[1;32mas\u001b[0m \u001b[0mdata_loader\u001b[0m\u001b[1;33m\u001b[0m\u001b[1;33m\u001b[0m\u001b[0m\n\u001b[0m\u001b[0;32m      7\u001b[0m \u001b[1;33m\u001b[0m\u001b[0m\n\u001b[0;32m      8\u001b[0m \u001b[1;31m# flag whether to save this output in the /data/interim/usa folder\u001b[0m\u001b[1;33m\u001b[0m\u001b[1;33m\u001b[0m\u001b[1;33m\u001b[0m\u001b[0m\n",
      "\u001b[1;31mModuleNotFoundError\u001b[0m: No module named 'download_latest_covidtrackingdotcom_data'"
     ]
    }
   ],
   "source": [
    "import pandas as pd\n",
    "import numpy as np\n",
    "import os\n",
    "\n",
    "# local imports\n",
    "import download_latest_covidtrackingdotcom_data as data_loader\n",
    "\n",
    "# flag whether to save this output in the /data/interim/usa folder \n",
    "save_notebook_output = True\n",
    "\n",
    "path_to_int_data = '../../../data/interim/italy'\n",
    "fn_out = 'italy_covidtrackingdotcom_int_with_testing_regimes_region.csv'\n",
    "fp_out = os.path.join(path_to_int_data, fn_out)"
   ]
  },
  {
   "cell_type": "markdown",
   "metadata": {},
   "source": [
    "## define the functions to programmatically look for testing regime changes"
   ]
  },
  {
   "cell_type": "code",
   "execution_count": 2,
   "metadata": {},
   "outputs": [],
   "source": [
    "def state_data_to_time_series(state_data):\n",
    "    state_data_sorted = state_data.sort_values('date',inplace=False)\n",
    "    \n",
    "    timeseries_state_data = pd.Series(state_data_sorted['cumulative_tests'].values,\n",
    "                    pd.DatetimeIndex([pd.to_datetime(x) for x in state_data_sorted['date'].values]))\n",
    "    \n",
    "    return state_data_sorted, timeseries_state_data\n",
    "\n",
    "def calculate_testing_regimes(state_data, pct_chg_thresh=0.4, abs_chg_thresh=50):\n",
    "    # calculates testing regimes as changing whenever the pct_chg of total tests between previous \n",
    "    # current dates is above pct_chg_thresh\n",
    "        \n",
    "    state_data_sorted, timeseries_state_data = state_data_to_time_series(state_data)\n",
    "    \n",
    "    pct_changes_in_testing = timeseries_state_data.pct_change(freq='D').values\n",
    "    abs_changes_in_testing = timeseries_state_data.diff()\n",
    "\n",
    "    testing_regimes = np.zeros(len(pct_changes_in_testing))\n",
    "    regime = 0\n",
    "    \n",
    "    # transition to a new regime if the absolute *and* percent changes exceed the thresholds\n",
    "    for i, (pct_change, abs_change) in enumerate(zip(pct_changes_in_testing, abs_changes_in_testing)):\n",
    "        if pct_change > pct_chg_thresh and abs_change > abs_chg_thresh:\n",
    "            regime += 1\n",
    "        testing_regimes[i] = regime\n",
    "        \n",
    "    # return the pandas indices and the \n",
    "    return testing_regimes, state_data_sorted.index"
   ]
  },
  {
   "cell_type": "markdown",
   "metadata": {},
   "source": [
    "# 1. Download the data locally "
   ]
  },
  {
   "cell_type": "code",
   "execution_count": 3,
   "metadata": {},
   "outputs": [],
   "source": [
    "# option a: take from local (avoids downloading again):\n",
    "# data_loader.main() # to refresh data\n",
    "states_data = pd.read_csv(os.path.join(fp_out.replace('_with_testing_regimes', '')))\n",
    "\n",
    "# option b: download from covidtracker.com:\n",
    "# don't save locally (you can, but you can also run the python script to refresh the underlying data)\n",
    "#states_data_raw = data_loader.download_and_save_data_raw(save_locally=False)\n",
    "#states_data = data_loader.process_and_save_data_int(states_data_raw, save_locally=False)"
   ]
  },
  {
   "cell_type": "markdown",
   "metadata": {},
   "source": [
    "## 2. Programmatically add in testing regime changes"
   ]
  },
  {
   "cell_type": "code",
   "execution_count": 7,
   "metadata": {},
   "outputs": [
    {
     "name": "stdout",
     "output_type": "stream",
     "text": [
      "51 states represented\n"
     ]
    }
   ],
   "source": [
    "# 2. add variable for testing regime\n",
    "states_data['testing_regime'] = 1\n",
    "\n",
    "state_names = np.unique(states_data['adm1_name'])\n",
    "print(len(state_names), \"states represented\")\n",
    "\n",
    "# These factors determine what is programatically considered as a testing regime change candidate\n",
    "pct_change_thresh = 1.0\n",
    "abs_change_thresh = 125\n",
    "\n",
    "for state in state_names:\n",
    "    # find the testing regimes for this state\n",
    "    state_data = states_data[states_data['adm1_name'] == state]\n",
    "    state_testing_regimes, state_data_idxs =  calculate_testing_regimes(state_data, \n",
    "                                                                        pct_chg_thresh=pct_change_thresh,\n",
    "                                                                        abs_chg_thresh=abs_change_thresh)\n",
    "\n",
    "    states_data.loc[state_data_idxs,'testing_regime'] = state_testing_regimes\n",
    "    "
   ]
  },
  {
   "cell_type": "markdown",
   "metadata": {},
   "source": [
    "## 3. Manually inspect results\n",
    "### 3a. print any date/state comboes with testing_regime > 0"
   ]
  },
  {
   "cell_type": "code",
   "execution_count": 9,
   "metadata": {},
   "outputs": [
    {
     "data": {
      "text/html": [
       "<div>\n",
       "<style scoped>\n",
       "    .dataframe tbody tr th:only-of-type {\n",
       "        vertical-align: middle;\n",
       "    }\n",
       "\n",
       "    .dataframe tbody tr th {\n",
       "        vertical-align: top;\n",
       "    }\n",
       "\n",
       "    .dataframe thead th {\n",
       "        text-align: right;\n",
       "    }\n",
       "</style>\n",
       "<table border=\"1\" class=\"dataframe\">\n",
       "  <thead>\n",
       "    <tr style=\"text-align: right;\">\n",
       "      <th></th>\n",
       "      <th>date</th>\n",
       "      <th>adm0_name</th>\n",
       "      <th>adm1_name</th>\n",
       "      <th>adm_level</th>\n",
       "      <th>cumulative_confirmed_cases</th>\n",
       "      <th>cumulative_tests</th>\n",
       "      <th>cumulative_deaths</th>\n",
       "      <th>testing_regime</th>\n",
       "    </tr>\n",
       "  </thead>\n",
       "  <tbody>\n",
       "    <tr>\n",
       "      <th>70</th>\n",
       "      <td>03/14/2020</td>\n",
       "      <td>USA</td>\n",
       "      <td>MA</td>\n",
       "      <td>1</td>\n",
       "      <td>138.0</td>\n",
       "      <td>490.0</td>\n",
       "      <td>NaN</td>\n",
       "      <td>1.0</td>\n",
       "    </tr>\n",
       "    <tr>\n",
       "      <th>19</th>\n",
       "      <td>03/15/2020</td>\n",
       "      <td>USA</td>\n",
       "      <td>MA</td>\n",
       "      <td>1</td>\n",
       "      <td>138.0</td>\n",
       "      <td>490.0</td>\n",
       "      <td>NaN</td>\n",
       "      <td>1.0</td>\n",
       "    </tr>\n",
       "    <tr>\n",
       "      <th>32</th>\n",
       "      <td>03/15/2020</td>\n",
       "      <td>USA</td>\n",
       "      <td>NM</td>\n",
       "      <td>1</td>\n",
       "      <td>13.0</td>\n",
       "      <td>495.0</td>\n",
       "      <td>NaN</td>\n",
       "      <td>1.0</td>\n",
       "    </tr>\n",
       "    <tr>\n",
       "      <th>237</th>\n",
       "      <td>03/11/2020</td>\n",
       "      <td>USA</td>\n",
       "      <td>NV</td>\n",
       "      <td>1</td>\n",
       "      <td>5.0</td>\n",
       "      <td>173.0</td>\n",
       "      <td>NaN</td>\n",
       "      <td>1.0</td>\n",
       "    </tr>\n",
       "    <tr>\n",
       "      <th>186</th>\n",
       "      <td>03/12/2020</td>\n",
       "      <td>USA</td>\n",
       "      <td>NV</td>\n",
       "      <td>1</td>\n",
       "      <td>7.0</td>\n",
       "      <td>175.0</td>\n",
       "      <td>NaN</td>\n",
       "      <td>1.0</td>\n",
       "    </tr>\n",
       "    <tr>\n",
       "      <th>135</th>\n",
       "      <td>03/13/2020</td>\n",
       "      <td>USA</td>\n",
       "      <td>NV</td>\n",
       "      <td>1</td>\n",
       "      <td>11.0</td>\n",
       "      <td>179.0</td>\n",
       "      <td>NaN</td>\n",
       "      <td>1.0</td>\n",
       "    </tr>\n",
       "    <tr>\n",
       "      <th>84</th>\n",
       "      <td>03/14/2020</td>\n",
       "      <td>USA</td>\n",
       "      <td>NV</td>\n",
       "      <td>1</td>\n",
       "      <td>20.0</td>\n",
       "      <td>188.0</td>\n",
       "      <td>NaN</td>\n",
       "      <td>1.0</td>\n",
       "    </tr>\n",
       "    <tr>\n",
       "      <th>33</th>\n",
       "      <td>03/15/2020</td>\n",
       "      <td>USA</td>\n",
       "      <td>NV</td>\n",
       "      <td>1</td>\n",
       "      <td>21.0</td>\n",
       "      <td>189.0</td>\n",
       "      <td>NaN</td>\n",
       "      <td>1.0</td>\n",
       "    </tr>\n",
       "    <tr>\n",
       "      <th>136</th>\n",
       "      <td>03/13/2020</td>\n",
       "      <td>USA</td>\n",
       "      <td>NY</td>\n",
       "      <td>1</td>\n",
       "      <td>421.0</td>\n",
       "      <td>3200.0</td>\n",
       "      <td>NaN</td>\n",
       "      <td>1.0</td>\n",
       "    </tr>\n",
       "    <tr>\n",
       "      <th>85</th>\n",
       "      <td>03/14/2020</td>\n",
       "      <td>USA</td>\n",
       "      <td>NY</td>\n",
       "      <td>1</td>\n",
       "      <td>524.0</td>\n",
       "      <td>3303.0</td>\n",
       "      <td>NaN</td>\n",
       "      <td>1.0</td>\n",
       "    </tr>\n",
       "    <tr>\n",
       "      <th>34</th>\n",
       "      <td>03/15/2020</td>\n",
       "      <td>USA</td>\n",
       "      <td>NY</td>\n",
       "      <td>1</td>\n",
       "      <td>729.0</td>\n",
       "      <td>5272.0</td>\n",
       "      <td>3.0</td>\n",
       "      <td>1.0</td>\n",
       "    </tr>\n",
       "    <tr>\n",
       "      <th>45</th>\n",
       "      <td>03/15/2020</td>\n",
       "      <td>USA</td>\n",
       "      <td>VA</td>\n",
       "      <td>1</td>\n",
       "      <td>45.0</td>\n",
       "      <td>408.0</td>\n",
       "      <td>1.0</td>\n",
       "      <td>1.0</td>\n",
       "    </tr>\n",
       "  </tbody>\n",
       "</table>\n",
       "</div>"
      ],
      "text/plain": [
       "           date adm0_name adm1_name  adm_level  cumulative_confirmed_cases  \\\n",
       "70   03/14/2020       USA        MA          1                       138.0   \n",
       "19   03/15/2020       USA        MA          1                       138.0   \n",
       "32   03/15/2020       USA        NM          1                        13.0   \n",
       "237  03/11/2020       USA        NV          1                         5.0   \n",
       "186  03/12/2020       USA        NV          1                         7.0   \n",
       "135  03/13/2020       USA        NV          1                        11.0   \n",
       "84   03/14/2020       USA        NV          1                        20.0   \n",
       "33   03/15/2020       USA        NV          1                        21.0   \n",
       "136  03/13/2020       USA        NY          1                       421.0   \n",
       "85   03/14/2020       USA        NY          1                       524.0   \n",
       "34   03/15/2020       USA        NY          1                       729.0   \n",
       "45   03/15/2020       USA        VA          1                        45.0   \n",
       "\n",
       "     cumulative_tests  cumulative_deaths  testing_regime  \n",
       "70              490.0                NaN             1.0  \n",
       "19              490.0                NaN             1.0  \n",
       "32              495.0                NaN             1.0  \n",
       "237             173.0                NaN             1.0  \n",
       "186             175.0                NaN             1.0  \n",
       "135             179.0                NaN             1.0  \n",
       "84              188.0                NaN             1.0  \n",
       "33              189.0                NaN             1.0  \n",
       "136            3200.0                NaN             1.0  \n",
       "85             3303.0                NaN             1.0  \n",
       "34             5272.0                3.0             1.0  \n",
       "45              408.0                1.0             1.0  "
      ]
     },
     "execution_count": 9,
     "metadata": {},
     "output_type": "execute_result"
    }
   ],
   "source": [
    "# check on any places where we made a testing regime change -- we might want to manually change \n",
    "# anything that looks inconsistent\n",
    "entries_with_regime_change = states_data[states_data['testing_regime'] >0].sort_values(['adm1_name','date'],inplace=False)\n",
    "states_with_regime_change = np.unique(entries_with_regime_change['adm1_name'])\n",
    "\n",
    "entries_with_regime_change"
   ]
  },
  {
   "cell_type": "markdown",
   "metadata": {},
   "source": [
    "### 3b plot the states that have regime changes, + the states that "
   ]
  },
  {
   "cell_type": "code",
   "execution_count": 10,
   "metadata": {},
   "outputs": [
    {
     "name": "stdout",
     "output_type": "stream",
     "text": [
      "Populating the interactive namespace from numpy and matplotlib\n"
     ]
    },
    {
     "data": {
      "text/plain": [
       "Text(0.5, 0, 'date')"
      ]
     },
     "execution_count": 10,
     "metadata": {},
     "output_type": "execute_result"
    },
    {
     "data": {
      "image/png": "[encoded data removed]",
      "text/plain": [
       "<Figure size 432x288 with 1 Axes>"
      ]
     },
     "metadata": {
      "needs_background": "light"
     },
     "output_type": "display_data"
    }
   ],
   "source": [
    "%pylab inline\n",
    "import matplotlib.pyplot as plt\n",
    "\n",
    "# note: we plot these b/c missing we don't want to miss a testing regime change in these states \n",
    "high_instances_states = ['WA',\"CA\",\"NY\",'FL',\"MA\"]\n",
    "\n",
    "states_to_plot = np.union1d(high_instances_states,states_with_regime_change)\n",
    "for state in states_to_plot:\n",
    "#for state in state_names:\n",
    "\n",
    "    state_data = states_data[states_data['adm1_name'] == state]\n",
    "\n",
    "    _, ts = state_data_to_time_series(state_data)\n",
    "\n",
    "\n",
    "    ts.plot(label=state)\n",
    "    \n",
    "    plt.legend(loc=(1,0))\n",
    "    \n",
    "    plt.yscale('log')\n",
    "    \n",
    "plt.ylabel('# tests over time')\n",
    "plt.xlabel('date')"
   ]
  },
  {
   "cell_type": "markdown",
   "metadata": {},
   "source": [
    "### 3c.  spot check and make any nessecary changes"
   ]
  },
  {
   "cell_type": "code",
   "execution_count": 11,
   "metadata": {},
   "outputs": [
    {
     "name": "stdout",
     "output_type": "stream",
     "text": [
      "Populating the interactive namespace from numpy and matplotlib\n",
      "2020-03-07      5.0\n",
      "2020-03-08      5.0\n",
      "2020-03-09      5.0\n",
      "2020-03-10     11.0\n",
      "2020-03-11     18.0\n",
      "2020-03-12     35.0\n",
      "2020-03-13     82.0\n",
      "2020-03-14    191.0\n",
      "2020-03-15    336.0\n",
      "dtype: float64\n"
     ]
    },
    {
     "data": {
      "text/plain": [
       "Text(0.5, 0, 'date')"
      ]
     },
     "execution_count": 11,
     "metadata": {},
     "output_type": "execute_result"
    },
    {
     "data": {
      "image/png": "[encoded data removed]",
      "text/plain": [
       "<Figure size 432x288 with 1 Axes>"
      ]
     },
     "metadata": {
      "needs_background": "light"
     },
     "output_type": "display_data"
    }
   ],
   "source": [
    "# make any refinements before changing\n",
    "\n",
    "%pylab inline\n",
    "import matplotlib.pyplot as plt\n",
    "\n",
    "for state in ['SD']:\n",
    "#for state in state_names:\n",
    "\n",
    "    state_data = states_data[states_data['adm1_name'] == state]\n",
    "\n",
    "    _, ts = state_data_to_time_series(state_data)\n",
    "    print(ts)\n",
    "\n",
    "    ts.plot(label=state)\n",
    "    \n",
    "    plt.legend()\n",
    "    \n",
    "    plt.yscale('log')\n",
    "    \n",
    "plt.ylabel('log (tests @ time t) - log (tests @ time t-1)')\n",
    "plt.xlabel('date')"
   ]
  },
  {
   "cell_type": "markdown",
   "metadata": {},
   "source": [
    "## 4. Make any changes to the testing regime designations"
   ]
  },
  {
   "cell_type": "code",
   "execution_count": 12,
   "metadata": {},
   "outputs": [],
   "source": [
    "# for now i have none, but this will likeley change as ore data comes in\n",
    "\n",
    "# the NM and VA changes don't look sever enough\n",
    "for state in ['NM','VA']:\n",
    "    states_data.loc[states_data['adm1_name'] == state, 'testing_regime'] = 0"
   ]
  },
  {
   "cell_type": "code",
   "execution_count": 13,
   "metadata": {},
   "outputs": [
    {
     "data": {
      "text/html": [
       "<div>\n",
       "<style scoped>\n",
       "    .dataframe tbody tr th:only-of-type {\n",
       "        vertical-align: middle;\n",
       "    }\n",
       "\n",
       "    .dataframe tbody tr th {\n",
       "        vertical-align: top;\n",
       "    }\n",
       "\n",
       "    .dataframe thead th {\n",
       "        text-align: right;\n",
       "    }\n",
       "</style>\n",
       "<table border=\"1\" class=\"dataframe\">\n",
       "  <thead>\n",
       "    <tr style=\"text-align: right;\">\n",
       "      <th></th>\n",
       "      <th>date</th>\n",
       "      <th>adm0_name</th>\n",
       "      <th>adm1_name</th>\n",
       "      <th>adm_level</th>\n",
       "      <th>cumulative_confirmed_cases</th>\n",
       "      <th>cumulative_tests</th>\n",
       "      <th>cumulative_deaths</th>\n",
       "      <th>testing_regime</th>\n",
       "    </tr>\n",
       "  </thead>\n",
       "  <tbody>\n",
       "    <tr>\n",
       "      <th>70</th>\n",
       "      <td>03/14/2020</td>\n",
       "      <td>USA</td>\n",
       "      <td>MA</td>\n",
       "      <td>1</td>\n",
       "      <td>138.0</td>\n",
       "      <td>490.0</td>\n",
       "      <td>NaN</td>\n",
       "      <td>1.0</td>\n",
       "    </tr>\n",
       "    <tr>\n",
       "      <th>19</th>\n",
       "      <td>03/15/2020</td>\n",
       "      <td>USA</td>\n",
       "      <td>MA</td>\n",
       "      <td>1</td>\n",
       "      <td>138.0</td>\n",
       "      <td>490.0</td>\n",
       "      <td>NaN</td>\n",
       "      <td>1.0</td>\n",
       "    </tr>\n",
       "    <tr>\n",
       "      <th>237</th>\n",
       "      <td>03/11/2020</td>\n",
       "      <td>USA</td>\n",
       "      <td>NV</td>\n",
       "      <td>1</td>\n",
       "      <td>5.0</td>\n",
       "      <td>173.0</td>\n",
       "      <td>NaN</td>\n",
       "      <td>1.0</td>\n",
       "    </tr>\n",
       "    <tr>\n",
       "      <th>186</th>\n",
       "      <td>03/12/2020</td>\n",
       "      <td>USA</td>\n",
       "      <td>NV</td>\n",
       "      <td>1</td>\n",
       "      <td>7.0</td>\n",
       "      <td>175.0</td>\n",
       "      <td>NaN</td>\n",
       "      <td>1.0</td>\n",
       "    </tr>\n",
       "    <tr>\n",
       "      <th>135</th>\n",
       "      <td>03/13/2020</td>\n",
       "      <td>USA</td>\n",
       "      <td>NV</td>\n",
       "      <td>1</td>\n",
       "      <td>11.0</td>\n",
       "      <td>179.0</td>\n",
       "      <td>NaN</td>\n",
       "      <td>1.0</td>\n",
       "    </tr>\n",
       "    <tr>\n",
       "      <th>84</th>\n",
       "      <td>03/14/2020</td>\n",
       "      <td>USA</td>\n",
       "      <td>NV</td>\n",
       "      <td>1</td>\n",
       "      <td>20.0</td>\n",
       "      <td>188.0</td>\n",
       "      <td>NaN</td>\n",
       "      <td>1.0</td>\n",
       "    </tr>\n",
       "    <tr>\n",
       "      <th>33</th>\n",
       "      <td>03/15/2020</td>\n",
       "      <td>USA</td>\n",
       "      <td>NV</td>\n",
       "      <td>1</td>\n",
       "      <td>21.0</td>\n",
       "      <td>189.0</td>\n",
       "      <td>NaN</td>\n",
       "      <td>1.0</td>\n",
       "    </tr>\n",
       "    <tr>\n",
       "      <th>136</th>\n",
       "      <td>03/13/2020</td>\n",
       "      <td>USA</td>\n",
       "      <td>NY</td>\n",
       "      <td>1</td>\n",
       "      <td>421.0</td>\n",
       "      <td>3200.0</td>\n",
       "      <td>NaN</td>\n",
       "      <td>1.0</td>\n",
       "    </tr>\n",
       "    <tr>\n",
       "      <th>85</th>\n",
       "      <td>03/14/2020</td>\n",
       "      <td>USA</td>\n",
       "      <td>NY</td>\n",
       "      <td>1</td>\n",
       "      <td>524.0</td>\n",
       "      <td>3303.0</td>\n",
       "      <td>NaN</td>\n",
       "      <td>1.0</td>\n",
       "    </tr>\n",
       "    <tr>\n",
       "      <th>34</th>\n",
       "      <td>03/15/2020</td>\n",
       "      <td>USA</td>\n",
       "      <td>NY</td>\n",
       "      <td>1</td>\n",
       "      <td>729.0</td>\n",
       "      <td>5272.0</td>\n",
       "      <td>3.0</td>\n",
       "      <td>1.0</td>\n",
       "    </tr>\n",
       "  </tbody>\n",
       "</table>\n",
       "</div>"
      ],
      "text/plain": [
       "           date adm0_name adm1_name  adm_level  cumulative_confirmed_cases  \\\n",
       "70   03/14/2020       USA        MA          1                       138.0   \n",
       "19   03/15/2020       USA        MA          1                       138.0   \n",
       "237  03/11/2020       USA        NV          1                         5.0   \n",
       "186  03/12/2020       USA        NV          1                         7.0   \n",
       "135  03/13/2020       USA        NV          1                        11.0   \n",
       "84   03/14/2020       USA        NV          1                        20.0   \n",
       "33   03/15/2020       USA        NV          1                        21.0   \n",
       "136  03/13/2020       USA        NY          1                       421.0   \n",
       "85   03/14/2020       USA        NY          1                       524.0   \n",
       "34   03/15/2020       USA        NY          1                       729.0   \n",
       "\n",
       "     cumulative_tests  cumulative_deaths  testing_regime  \n",
       "70              490.0                NaN             1.0  \n",
       "19              490.0                NaN             1.0  \n",
       "237             173.0                NaN             1.0  \n",
       "186             175.0                NaN             1.0  \n",
       "135             179.0                NaN             1.0  \n",
       "84              188.0                NaN             1.0  \n",
       "33              189.0                NaN             1.0  \n",
       "136            3200.0                NaN             1.0  \n",
       "85             3303.0                NaN             1.0  \n",
       "34             5272.0                3.0             1.0  "
      ]
     },
     "execution_count": 13,
     "metadata": {},
     "output_type": "execute_result"
    }
   ],
   "source": [
    "# check the changes\n",
    "\n",
    "entries_with_regime_change = states_data[states_data['testing_regime'] >0].sort_values(['adm1_name','date'],inplace=False)\n",
    "states_with_regime_change = np.unique(entries_with_regime_change['adm1_name'])\n",
    "\n",
    "entries_with_regime_change"
   ]
  },
  {
   "cell_type": "markdown",
   "metadata": {},
   "source": [
    "## 5. Save data!"
   ]
  },
  {
   "cell_type": "code",
   "execution_count": 14,
   "metadata": {},
   "outputs": [
    {
     "name": "stdout",
     "output_type": "stream",
     "text": [
      "writing csv with testing regime changes to ../../../data/interim/usa/usa_states_covidtrackingdotcom_int_with_testing_regimes.csv\n"
     ]
    }
   ],
   "source": [
    "if save_notebook_output:\n",
    "    print('writing csv with testing regime changes to {0}'.format(fp_out))\n",
    "    states_data.to_csv(fp_out, index=False)"
   ]
  },
  {
   "cell_type": "code",
   "execution_count": null,
   "metadata": {},
   "outputs": [],
   "source": []
  }
 ],
 "metadata": {
  "kernelspec": {
   "display_name": "Python 3",
   "language": "python",
   "name": "python3"
  },
  "language_info": {
   "codemirror_mode": {
    "name": "ipython",
    "version": 3
   },
   "file_extension": ".py",
   "mimetype": "text/x-python",
   "name": "python",
   "nbconvert_exporter": "python",
   "pygments_lexer": "ipython3",
   "version": "3.7.4"
  }
 },
 "nbformat": 4,
 "nbformat_minor": 2
}
