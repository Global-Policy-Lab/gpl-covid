{
 "cells": [
  {
   "cell_type": "markdown",
   "metadata": {},
   "source": [
    "# Tabulate policies by country and adm-level\n",
    "- Save Google Sheet of policies as Excel file\n",
    "- Calculate number of policies for each country / adm-level\n",
    "- Paste into template at `figures/appendix/table_a1/policy_counts_table.xlsx`\n",
    "- Save output at `figures/appendix/table_a1/policy_counts_table.png`"
   ]
  },
  {
   "cell_type": "code",
   "execution_count": null,
   "metadata": {},
   "outputs": [],
   "source": [
    "from pathlib import Path\n",
    "import os\n",
    "import pandas as pd"
   ]
  },
  {
   "cell_type": "code",
   "execution_count": null,
   "metadata": {},
   "outputs": [],
   "source": [
    "dir_gpl_covid = Path(os.getcwd()).parent.parent\n",
    "\n",
    "# Save Google Sheet at `SI/data_sources.gdoc` to 'data_sources_static_YYYYMMDD.xlsx'\n",
    "path_data_sources = dir_gpl_covid / 'SI' / 'data_sources_static_20200320.xlsx'\n",
    "\n",
    "path_out_csv = dir_gpl_covid / 'figures' / 'appendix' / 'table_a1' / 'policy_counts_table_raw.csv'\n",
    "\n",
    "countries = ['china', 'france', 'iran', 'italy', 'korea', 'usa']\n",
    "\n",
    "# Read in policies for each country, into dict of DataFrames\n",
    "policies = dict()\n",
    "for country in countries:\n",
    "    policies[country] = pd.read_excel(path_data_sources, sheet_name='policy_' + country)\n",
    "\n",
    "def get_policy_level(row):\n",
    "    \"\"\"Assign row to a policy level by choosing the highest level of specificity of the policy within the row\"\"\"\n",
    "    for level in ['adm3', 'adm2', 'adm1']:\n",
    "        level_name = level + '_name'\n",
    "        if level_name in row and row[level_name] != 'All':\n",
    "            return level\n",
    "        \n",
    "    return 'adm0'\n",
    "\n",
    "def get_adm_counts(policies_df):\n",
    "    \"\"\"Get adm-level policy counts for a country policy sheet\"\"\"\n",
    "    \n",
    "    # List all adm-levels in this policy sheet\n",
    "    adm_levels = set(['adm0_name', 'adm1_name', 'adm2_name', 'adm3_name']) & set(policies_df.columns)\n",
    "    \n",
    "    # Group by all existing adm-levels, along with date and policy category\n",
    "    groupby_cols = sorted(list(adm_levels) + ['date_start', 'policy'])\n",
    "    \n",
    "    # Check for missing values\n",
    "    for col in groupby_cols:\n",
    "        assert policies_df[col].isnull().sum() == 0\n",
    "        \n",
    "    # Drop duplicates over groupby_cols\n",
    "    policies_df = policies_df[groupby_cols].drop_duplicates()\n",
    "    \n",
    "    # Replace 'all' with 'All' to work with `get_policy_level()`\n",
    "    for adm_level in adm_levels:\n",
    "        policies_df[adm_level] = policies_df[adm_level].replace({'all':'All'})\n",
    "        \n",
    "    # Don't count testing regime changes\n",
    "    policies_df = policies_df[policies_df['policy'] != 'testing_regime']\n",
    "        \n",
    "    # Determine adm-level of each policy in `policies_df`\n",
    "    policies_df['policy_level'] = policies_df.apply(get_policy_level, axis=1)\n",
    "    \n",
    "    # Return adm-level counts for this country\n",
    "    return policies_df.groupby('policy_level')['policy_level'].count().to_dict()\n",
    "\n",
    "country_counts = dict()\n",
    "for country in policies:\n",
    "    country_counts[country] = get_adm_counts(policies[country])"
   ]
  },
  {
   "cell_type": "markdown",
   "metadata": {},
   "source": [
    "Turn country-adm-level dict into table"
   ]
  },
  {
   "cell_type": "code",
   "execution_count": null,
   "metadata": {},
   "outputs": [],
   "source": [
    "country_counts_df = pd.DataFrame.from_dict(country_counts).transpose()[['adm0', 'adm1', 'adm2', 'adm3']]\n",
    "country_counts_df = country_counts_df.fillna(0).sort_index()\n",
    "\n",
    "# Add total row and column\n",
    "country_counts_df['total'] = country_counts_df.sum(axis=1)\n",
    "country_counts_df = country_counts_df.append(country_counts_df.sum(axis=0).rename('total')).astype(int)\n",
    "\n",
    "country_counts_df"
   ]
  },
  {
   "cell_type": "code",
   "execution_count": null,
   "metadata": {},
   "outputs": [],
   "source": [
    "country_counts_df.to_csv(path_out_csv, index=False)"
   ]
  },
  {
   "cell_type": "markdown",
   "metadata": {},
   "source": [
    "### Final step: paste into Excel and save as image\n",
    "- Paste from `path_out_csv` (`figures/appendix/table_a1/policy_counts_table_raw.csv`) into template at `figures/appendix/policy_counts_table.xlsx`\n",
    "- Screenshot and save output at `figures/appendix/table_a1/policy_counts_table.png`"
   ]
  }
 ],
 "metadata": {
  "kernelspec": {
   "display_name": "Python 3",
   "language": "python",
   "name": "python3"
  },
  "language_info": {
   "codemirror_mode": {
    "name": "ipython",
    "version": 3
   },
   "file_extension": ".py",
   "mimetype": "text/x-python",
   "name": "python",
   "nbconvert_exporter": "python",
   "pygments_lexer": "ipython3",
   "version": "3.7.4"
  }
 },
 "nbformat": 4,
 "nbformat_minor": 2
}
