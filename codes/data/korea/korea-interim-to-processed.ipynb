{
 "cells": [
  {
   "cell_type": "markdown",
   "metadata": {},
   "source": [
    "### Process `KOR_interim.csv` -> `KOR_processed.csv`, renaming columns and filtering to length of analysis"
   ]
  },
  {
   "cell_type": "code",
   "execution_count": null,
   "metadata": {},
   "outputs": [],
   "source": [
    "import pandas as pd\n",
    "from pathlib import Path\n",
    "import os\n",
    "\n",
    "end_of_analysis_date = \"2020-03-18\""
   ]
  },
  {
   "cell_type": "markdown",
   "metadata": {},
   "source": [
    "Define paths"
   ]
  },
  {
   "cell_type": "code",
   "execution_count": null,
   "metadata": {},
   "outputs": [],
   "source": [
    "gpl_covid_path = Path(os.getcwd()).parent.parent.parent\n",
    "\n",
    "dir_data_interim = gpl_covid_path / 'data' / 'interim'\n",
    "dir_data_processed = gpl_covid_path / 'data' / 'processed'\n",
    "\n",
    "template = pd.read_csv(gpl_covid_path / 'data' / 'processed' / '[country]_processed.csv')\n",
    "path_kor_interim = dir_data_interim / 'korea' / 'KOR_interim.csv'\n",
    "path_kor_processed = dir_data_processed / 'adm1' / 'KOR_processed.csv'"
   ]
  },
  {
   "cell_type": "markdown",
   "metadata": {},
   "source": [
    "Read interim file"
   ]
  },
  {
   "cell_type": "code",
   "execution_count": null,
   "metadata": {},
   "outputs": [],
   "source": [
    "kor = pd.read_csv(path_kor_interim)"
   ]
  },
  {
   "cell_type": "markdown",
   "metadata": {},
   "source": [
    "Drop deprecated column"
   ]
  },
  {
   "cell_type": "code",
   "execution_count": null,
   "metadata": {},
   "outputs": [],
   "source": [
    "kor = kor.drop(columns='travel_advisory_outbound_optional')"
   ]
  },
  {
   "cell_type": "code",
   "execution_count": null,
   "metadata": {},
   "outputs": [],
   "source": [
    "replace_columns = {\n",
    "    'shutdown_religious_places':'religious_closure',\n",
    "    'business_closure_optional':'business_closure_opt',\n",
    "    'cumulative_confirmed_cases':'cum_confirmed_cases',\n",
    "    'cumulative_deaths':'cum_deaths',\n",
    "    'cumulative_recoveries':'cum_recoveries',\n",
    "    'social_distance_optional':'social_distance_opt',\n",
    "    'work_from_home_optional':'work_from_home_opt',\n",
    "}\n",
    "\n",
    "kor = kor.rename(columns=replace_columns)\n",
    "\n",
    "# Check that all columns are in template\n",
    "assert len(set(kor.columns) - set(template.columns)) == 0"
   ]
  },
  {
   "cell_type": "markdown",
   "metadata": {},
   "source": [
    "Filter to 3/18 and before"
   ]
  },
  {
   "cell_type": "code",
   "execution_count": null,
   "metadata": {},
   "outputs": [],
   "source": [
    "kor = kor[pd.to_datetime(kor['date']) <= pd.to_datetime(end_of_analysis_date)]"
   ]
  },
  {
   "cell_type": "markdown",
   "metadata": {},
   "source": [
    "Output"
   ]
  },
  {
   "cell_type": "code",
   "execution_count": null,
   "metadata": {},
   "outputs": [],
   "source": [
    "kor.to_csv(path_kor_processed, index=False)"
   ]
  }
 ],
 "metadata": {
  "kernelspec": {
   "display_name": "Python 3",
   "language": "python",
   "name": "python3"
  },
  "language_info": {
   "codemirror_mode": {
    "name": "ipython",
    "version": 3
   },
   "file_extension": ".py",
   "mimetype": "text/x-python",
   "name": "python",
   "nbconvert_exporter": "python",
   "pygments_lexer": "ipython3",
   "version": "3.7.4"
  }
 },
 "nbformat": 4,
 "nbformat_minor": 2
}
