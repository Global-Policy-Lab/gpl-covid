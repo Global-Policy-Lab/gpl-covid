{
 "cells": [
  {
   "cell_type": "code",
   "execution_count": 26,
   "metadata": {},
   "outputs": [],
   "source": [
    "import pandas as pd\n",
    "from pathlib import Path\n",
    "import difflib"
   ]
  },
  {
   "cell_type": "code",
   "execution_count": 23,
   "metadata": {},
   "outputs": [
    {
     "data": {
      "text/plain": [
       "[]"
      ]
     },
     "execution_count": 23,
     "metadata": {},
     "output_type": "execute_result"
    }
   ],
   "source": [
    "list(Path(\"bds\").glob(\"*.csv\"))"
   ]
  },
  {
   "cell_type": "code",
   "execution_count": 39,
   "metadata": {},
   "outputs": [],
   "source": [
    "import ipystata"
   ]
  },
  {
   "cell_type": "code",
   "execution_count": 41,
   "metadata": {},
   "outputs": [
    {
     "name": "stdout",
     "output_type": "stream",
     "text": [
      "\n",
      "(3 vars, 16 obs)\n",
      "file /tmp/St19174.000001 saved\n",
      "(3 vars, 16 obs)\n",
      "file /tmp/St19174.000002 saved\n",
      "(3 vars, 16 obs)\n",
      "file /tmp/St19174.000003 saved\n",
      "(3 vars, 16 obs)\n",
      "file /tmp/St19174.000004 saved\n",
      "(3 vars, 16 obs)\n",
      "file /tmp/St19174.000005 saved\n",
      "(16 observations deleted)variable L was byte now float\n",
      "(16 real changes made)\n",
      "(16 real changes made)\n",
      "(16 real changes made)\n",
      "(16 real changes made)\n",
      "> || connect r2 L if grp == 2, mc(maroon) lc(maroon) || rspike max min L if grp == 2, lc(maroon*.7) ///\n",
      "> || connect r2 L if grp == 3, mc(ebblue) lc(ebblue) || rspike max min L if grp == 3, lc(ebblue*.7) ///\n",
      "> || connect r2 L if grp == 4, mc(green) lc(green) || rspike max min L if grp == 4, lc(green*.7) ///\n",
      "> || connect r2 L if grp == 5, mc(black) lc(black) || rspike max min L if grp == 5, lc(black*.7) ///\n",
      "> legend(order(1 3 5 7 9) lab(1 \"FRA\") lab(3 \"IRN\") lab(5 \"ITA\") lab(7 \"KOR\") lab(9 \"USA\") rows(1) region(lstyle(none))) ///\n",
      "> xtitle(# fixed lags) ytitle(R-squared, height(10))\n"
     ]
    }
   ],
   "source": [
    "%%stata -o df\n",
    "foreach ADM in \"FRA\" \"IRN\" \"KOR\" \"ITA\" \"USA\" {\n",
    "\timport delim using \"results/source_data/indiv/ExtendedDataFigure5_r2_`ADM'.csv\", clear\n",
    "\tg adm0 = \"`ADM'\"\n",
    "\ttempfile f`ADM'\n",
    "\tsave `f`ADM''\n",
    "}\n",
    "\n",
    "drop if _n > 0\n",
    "\n",
    "foreach ADM in \"FRA\" \"IRN\" \"KOR\" \"ITA\" \"USA\" {\n",
    "\tappend using `f`ADM''\n",
    "}\n",
    "\n",
    "egen grp = group(adm0)\n",
    "rename lag_ L\n",
    "g max = r2 + 1.96*se\n",
    "g min = r2 - 1.96*se\n",
    "\n",
    "foreach GRP of num 2/5{\n",
    "\treplace L = L + `GRP'/10 if grp == `GRP'\n",
    "}\n",
    "\n",
    "tw connect r2 L if grp == 1, mc(gold) lc(gold) || rspike max min L if grp == 1, lc(gold*.7) ///\n",
    "|| connect r2 L if grp == 2, mc(maroon) lc(maroon) || rspike max min L if grp == 2, lc(maroon*.7) ///\n",
    "|| connect r2 L if grp == 3, mc(ebblue) lc(ebblue) || rspike max min L if grp == 3, lc(ebblue*.7) ///\n",
    "|| connect r2 L if grp == 4, mc(green) lc(green) || rspike max min L if grp == 4, lc(green*.7) ///\n",
    "|| connect r2 L if grp == 5, mc(black) lc(black) || rspike max min L if grp == 5, lc(black*.7) ///\n",
    "legend(order(1 3 5 7 9) lab(1 \"FRA\") lab(3 \"IRN\") lab(5 \"ITA\") lab(7 \"KOR\") lab(9 \"USA\") rows(1) region(lstyle(none))) ///\n",
    "xtitle(# fixed lags) ytitle(R-squared, height(10))"
   ]
  },
  {
   "cell_type": "code",
   "execution_count": 44,
   "metadata": {},
   "outputs": [
    {
     "data": {
      "text/html": [
       "<div>\n",
       "<style scoped>\n",
       "    .dataframe tbody tr th:only-of-type {\n",
       "        vertical-align: middle;\n",
       "    }\n",
       "\n",
       "    .dataframe tbody tr th {\n",
       "        vertical-align: top;\n",
       "    }\n",
       "\n",
       "    .dataframe thead th {\n",
       "        text-align: right;\n",
       "    }\n",
       "</style>\n",
       "<table border=\"1\" class=\"dataframe\">\n",
       "  <thead>\n",
       "    <tr style=\"text-align: right;\">\n",
       "      <th></th>\n",
       "      <th>r2</th>\n",
       "      <th>se</th>\n",
       "      <th>L</th>\n",
       "      <th>adm0</th>\n",
       "      <th>grp</th>\n",
       "      <th>max</th>\n",
       "      <th>min</th>\n",
       "    </tr>\n",
       "  </thead>\n",
       "  <tbody>\n",
       "    <tr>\n",
       "      <th>0</th>\n",
       "      <td>0.312427</td>\n",
       "      <td>0.032536</td>\n",
       "      <td>0.0</td>\n",
       "      <td>FRA</td>\n",
       "      <td>1.0</td>\n",
       "      <td>0.376197</td>\n",
       "      <td>0.248657</td>\n",
       "    </tr>\n",
       "    <tr>\n",
       "      <th>1</th>\n",
       "      <td>0.317720</td>\n",
       "      <td>0.045695</td>\n",
       "      <td>1.0</td>\n",
       "      <td>FRA</td>\n",
       "      <td>1.0</td>\n",
       "      <td>0.407282</td>\n",
       "      <td>0.228158</td>\n",
       "    </tr>\n",
       "    <tr>\n",
       "      <th>2</th>\n",
       "      <td>0.328810</td>\n",
       "      <td>0.067644</td>\n",
       "      <td>2.0</td>\n",
       "      <td>FRA</td>\n",
       "      <td>1.0</td>\n",
       "      <td>0.461393</td>\n",
       "      <td>0.196227</td>\n",
       "    </tr>\n",
       "    <tr>\n",
       "      <th>3</th>\n",
       "      <td>0.312963</td>\n",
       "      <td>0.056744</td>\n",
       "      <td>3.0</td>\n",
       "      <td>FRA</td>\n",
       "      <td>1.0</td>\n",
       "      <td>0.424182</td>\n",
       "      <td>0.201744</td>\n",
       "    </tr>\n",
       "    <tr>\n",
       "      <th>4</th>\n",
       "      <td>0.302412</td>\n",
       "      <td>0.063205</td>\n",
       "      <td>4.0</td>\n",
       "      <td>FRA</td>\n",
       "      <td>1.0</td>\n",
       "      <td>0.426294</td>\n",
       "      <td>0.178530</td>\n",
       "    </tr>\n",
       "    <tr>\n",
       "      <th>...</th>\n",
       "      <td>...</td>\n",
       "      <td>...</td>\n",
       "      <td>...</td>\n",
       "      <td>...</td>\n",
       "      <td>...</td>\n",
       "      <td>...</td>\n",
       "      <td>...</td>\n",
       "    </tr>\n",
       "    <tr>\n",
       "      <th>75</th>\n",
       "      <td>0.285256</td>\n",
       "      <td>0.019564</td>\n",
       "      <td>11.5</td>\n",
       "      <td>USA</td>\n",
       "      <td>5.0</td>\n",
       "      <td>0.323602</td>\n",
       "      <td>0.246911</td>\n",
       "    </tr>\n",
       "    <tr>\n",
       "      <th>76</th>\n",
       "      <td>0.304735</td>\n",
       "      <td>0.009145</td>\n",
       "      <td>12.5</td>\n",
       "      <td>USA</td>\n",
       "      <td>5.0</td>\n",
       "      <td>0.322659</td>\n",
       "      <td>0.286812</td>\n",
       "    </tr>\n",
       "    <tr>\n",
       "      <th>77</th>\n",
       "      <td>0.279846</td>\n",
       "      <td>0.016856</td>\n",
       "      <td>13.5</td>\n",
       "      <td>USA</td>\n",
       "      <td>5.0</td>\n",
       "      <td>0.312885</td>\n",
       "      <td>0.246808</td>\n",
       "    </tr>\n",
       "    <tr>\n",
       "      <th>78</th>\n",
       "      <td>0.263680</td>\n",
       "      <td>0.002194</td>\n",
       "      <td>14.5</td>\n",
       "      <td>USA</td>\n",
       "      <td>5.0</td>\n",
       "      <td>0.267981</td>\n",
       "      <td>0.259380</td>\n",
       "    </tr>\n",
       "    <tr>\n",
       "      <th>79</th>\n",
       "      <td>0.277763</td>\n",
       "      <td>0.010804</td>\n",
       "      <td>15.5</td>\n",
       "      <td>USA</td>\n",
       "      <td>5.0</td>\n",
       "      <td>0.298939</td>\n",
       "      <td>0.256586</td>\n",
       "    </tr>\n",
       "  </tbody>\n",
       "</table>\n",
       "<p>80 rows × 7 columns</p>\n",
       "</div>"
      ],
      "text/plain": [
       "          r2        se     L adm0  grp       max       min\n",
       "0   0.312427  0.032536   0.0  FRA  1.0  0.376197  0.248657\n",
       "1   0.317720  0.045695   1.0  FRA  1.0  0.407282  0.228158\n",
       "2   0.328810  0.067644   2.0  FRA  1.0  0.461393  0.196227\n",
       "3   0.312963  0.056744   3.0  FRA  1.0  0.424182  0.201744\n",
       "4   0.302412  0.063205   4.0  FRA  1.0  0.426294  0.178530\n",
       "..       ...       ...   ...  ...  ...       ...       ...\n",
       "75  0.285256  0.019564  11.5  USA  5.0  0.323602  0.246911\n",
       "76  0.304735  0.009145  12.5  USA  5.0  0.322659  0.286812\n",
       "77  0.279846  0.016856  13.5  USA  5.0  0.312885  0.246808\n",
       "78  0.263680  0.002194  14.5  USA  5.0  0.267981  0.259380\n",
       "79  0.277763  0.010804  15.5  USA  5.0  0.298939  0.256586\n",
       "\n",
       "[80 rows x 7 columns]"
      ]
     },
     "execution_count": 44,
     "metadata": {},
     "output_type": "execute_result"
    }
   ],
   "source": [
    "df"
   ]
  },
  {
   "cell_type": "code",
   "execution_count": 37,
   "metadata": {},
   "outputs": [
    {
     "name": "stdout",
     "output_type": "stream",
     "text": [
      "name 'sdf' is not defined\n"
     ]
    }
   ],
   "source": [
    "try:\n",
    "    x = sdf\n",
    "except NameError as err:\n",
    "    print(err)"
   ]
  },
  {
   "cell_type": "code",
   "execution_count": 34,
   "metadata": {},
   "outputs": [
    {
     "name": "stdout",
     "output_type": "stream",
     "text": [
      "--- \n",
      "\n",
      "+++ \n",
      "\n",
      "@@ -60,8 +60,8 @@\n",
      "\n",
      "  \n",
      "  \n",
      "  \n",
      "- \n",
      "-5\n",
      "+7\n",
      "+2\n",
      "  \n",
      "  \n",
      "  \n"
     ]
    }
   ],
   "source": [
    "for line in difflib.unified_diff(a.to_string(), b.to_string()):\n",
    "    print(line)"
   ]
  },
  {
   "cell_type": "code",
   "execution_count": 13,
   "metadata": {},
   "outputs": [],
   "source": [
    "a = Path(\"a.csv\")"
   ]
  },
  {
   "cell_type": "code",
   "execution_count": 16,
   "metadata": {},
   "outputs": [
    {
     "data": {
      "text/plain": [
       "'.csv'"
      ]
     },
     "execution_count": 16,
     "metadata": {},
     "output_type": "execute_result"
    }
   ],
   "source": [
    "a.suffix"
   ]
  },
  {
   "cell_type": "code",
   "execution_count": 10,
   "metadata": {},
   "outputs": [
    {
     "name": "stdout",
     "output_type": "stream",
     "text": [
      "\n",
      "(3 vars, 16 obs)\n"
     ]
    }
   ],
   "source": [
    "%%stata -o df\n",
    "import delim using \"results/source_data/indiv/ExtendedDataFigure5_r2_USA.csv\""
   ]
  },
  {
   "cell_type": "code",
   "execution_count": 11,
   "metadata": {},
   "outputs": [
    {
     "data": {
      "text/html": [
       "<div>\n",
       "<style scoped>\n",
       "    .dataframe tbody tr th:only-of-type {\n",
       "        vertical-align: middle;\n",
       "    }\n",
       "\n",
       "    .dataframe tbody tr th {\n",
       "        vertical-align: top;\n",
       "    }\n",
       "\n",
       "    .dataframe thead th {\n",
       "        text-align: right;\n",
       "    }\n",
       "</style>\n",
       "<table border=\"1\" class=\"dataframe\">\n",
       "  <thead>\n",
       "    <tr style=\"text-align: right;\">\n",
       "      <th></th>\n",
       "      <th>r2</th>\n",
       "      <th>se</th>\n",
       "      <th>lag_length</th>\n",
       "    </tr>\n",
       "  </thead>\n",
       "  <tbody>\n",
       "    <tr>\n",
       "      <th>0</th>\n",
       "      <td>0.298082</td>\n",
       "      <td>0.004275</td>\n",
       "      <td>0</td>\n",
       "    </tr>\n",
       "    <tr>\n",
       "      <th>1</th>\n",
       "      <td>0.277292</td>\n",
       "      <td>0.023378</td>\n",
       "      <td>1</td>\n",
       "    </tr>\n",
       "    <tr>\n",
       "      <th>2</th>\n",
       "      <td>0.280468</td>\n",
       "      <td>0.008113</td>\n",
       "      <td>2</td>\n",
       "    </tr>\n",
       "    <tr>\n",
       "      <th>3</th>\n",
       "      <td>0.303585</td>\n",
       "      <td>0.022003</td>\n",
       "      <td>3</td>\n",
       "    </tr>\n",
       "    <tr>\n",
       "      <th>4</th>\n",
       "      <td>0.308593</td>\n",
       "      <td>0.086194</td>\n",
       "      <td>4</td>\n",
       "    </tr>\n",
       "    <tr>\n",
       "      <th>5</th>\n",
       "      <td>0.284360</td>\n",
       "      <td>0.006746</td>\n",
       "      <td>5</td>\n",
       "    </tr>\n",
       "    <tr>\n",
       "      <th>6</th>\n",
       "      <td>0.283391</td>\n",
       "      <td>0.027308</td>\n",
       "      <td>6</td>\n",
       "    </tr>\n",
       "    <tr>\n",
       "      <th>7</th>\n",
       "      <td>0.302851</td>\n",
       "      <td>0.008798</td>\n",
       "      <td>7</td>\n",
       "    </tr>\n",
       "    <tr>\n",
       "      <th>8</th>\n",
       "      <td>0.300125</td>\n",
       "      <td>0.040935</td>\n",
       "      <td>8</td>\n",
       "    </tr>\n",
       "    <tr>\n",
       "      <th>9</th>\n",
       "      <td>0.305607</td>\n",
       "      <td>0.017665</td>\n",
       "      <td>9</td>\n",
       "    </tr>\n",
       "    <tr>\n",
       "      <th>10</th>\n",
       "      <td>0.300894</td>\n",
       "      <td>0.010867</td>\n",
       "      <td>10</td>\n",
       "    </tr>\n",
       "    <tr>\n",
       "      <th>11</th>\n",
       "      <td>0.285256</td>\n",
       "      <td>0.019564</td>\n",
       "      <td>11</td>\n",
       "    </tr>\n",
       "    <tr>\n",
       "      <th>12</th>\n",
       "      <td>0.304735</td>\n",
       "      <td>0.009145</td>\n",
       "      <td>12</td>\n",
       "    </tr>\n",
       "    <tr>\n",
       "      <th>13</th>\n",
       "      <td>0.279846</td>\n",
       "      <td>0.016856</td>\n",
       "      <td>13</td>\n",
       "    </tr>\n",
       "    <tr>\n",
       "      <th>14</th>\n",
       "      <td>0.263680</td>\n",
       "      <td>0.002194</td>\n",
       "      <td>14</td>\n",
       "    </tr>\n",
       "    <tr>\n",
       "      <th>15</th>\n",
       "      <td>0.277763</td>\n",
       "      <td>0.010804</td>\n",
       "      <td>15</td>\n",
       "    </tr>\n",
       "  </tbody>\n",
       "</table>\n",
       "</div>"
      ],
      "text/plain": [
       "          r2        se  lag_length\n",
       "0   0.298082  0.004275           0\n",
       "1   0.277292  0.023378           1\n",
       "2   0.280468  0.008113           2\n",
       "3   0.303585  0.022003           3\n",
       "4   0.308593  0.086194           4\n",
       "5   0.284360  0.006746           5\n",
       "6   0.283391  0.027308           6\n",
       "7   0.302851  0.008798           7\n",
       "8   0.300125  0.040935           8\n",
       "9   0.305607  0.017665           9\n",
       "10  0.300894  0.010867          10\n",
       "11  0.285256  0.019564          11\n",
       "12  0.304735  0.009145          12\n",
       "13  0.279846  0.016856          13\n",
       "14  0.263680  0.002194          14\n",
       "15  0.277763  0.010804          15"
      ]
     },
     "execution_count": 11,
     "metadata": {},
     "output_type": "execute_result"
    }
   ],
   "source": [
    "df"
   ]
  },
  {
   "cell_type": "code",
   "execution_count": null,
   "metadata": {},
   "outputs": [],
   "source": []
  }
 ],
 "metadata": {
  "kernelspec": {
   "display_name": "gpl-covid",
   "language": "python",
   "name": "gpl-covid"
  },
  "language_info": {
   "codemirror_mode": {
    "name": "ipython",
    "version": 3
   },
   "file_extension": ".py",
   "mimetype": "text/x-python",
   "name": "python",
   "nbconvert_exporter": "python",
   "pygments_lexer": "ipython3",
   "version": "3.7.6"
  }
 },
 "nbformat": 4,
 "nbformat_minor": 4
}
