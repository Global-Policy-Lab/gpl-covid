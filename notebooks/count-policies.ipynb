{
 "cells": [
  {
   "cell_type": "code",
   "execution_count": 221,
   "metadata": {},
   "outputs": [],
   "source": [
    "from pathlib import Path\n",
    "import os\n",
    "import pandas as pd"
   ]
  },
  {
   "cell_type": "code",
   "execution_count": 222,
   "metadata": {},
   "outputs": [],
   "source": [
    "gpl_covid_path = Path(os.getcwd()).parent"
   ]
  },
  {
   "cell_type": "code",
   "execution_count": 223,
   "metadata": {},
   "outputs": [],
   "source": [
    "dir_data_raw = gpl_covid_path / 'data' / 'raw'"
   ]
  },
  {
   "cell_type": "code",
   "execution_count": 224,
   "metadata": {},
   "outputs": [],
   "source": [
    "country_dirs = {\n",
    "    country:dir_data_raw / country for country in ['china', 'france', 'italy', 'korea', 'usa']\n",
    "}\n",
    "\n",
    "country_dirs['iran'] = gpl_covid_path / 'data' / 'interim' / 'iran'"
   ]
  },
  {
   "cell_type": "code",
   "execution_count": 225,
   "metadata": {},
   "outputs": [],
   "source": [
    "country_paths = dict()"
   ]
  },
  {
   "cell_type": "markdown",
   "metadata": {},
   "source": [
    "Exploration"
   ]
  },
  {
   "cell_type": "code",
   "execution_count": 226,
   "metadata": {},
   "outputs": [],
   "source": [
    "# os.listdir(country_dirs['korea'])\n",
    "# sorted([filename for filename in os.listdir(country_dirs['korea']) if 'korea_policy_static' in filename])[-1]"
   ]
  },
  {
   "cell_type": "markdown",
   "metadata": {},
   "source": [
    "Set paths"
   ]
  },
  {
   "cell_type": "code",
   "execution_count": 227,
   "metadata": {},
   "outputs": [],
   "source": [
    "country_paths['china'] = country_dirs['china'] / 'china_city_policy.xlsx'\n",
    "country_paths['france'] = country_dirs['france'] / sorted([filename for filename in os.listdir(country_dirs['france']) if 'france_policy_static' in filename])[-1]\n",
    "country_paths['iran'] = country_dirs['iran'] / 'covid_iran_policies.csv'\n",
    "country_paths['italy'] = country_dirs['italy'] / sorted([filename for filename in os.listdir(country_dirs['italy']) if 'italy_policy_static' in filename])[-1]\n",
    "country_paths['korea'] = country_dirs['korea'] / sorted([filename for filename in os.listdir(country_dirs['korea']) if 'korea_policy_static' in filename])[-1]\n",
    "country_paths['usa'] = country_dirs['usa'] / 'US_COVID-19_policies.csv'"
   ]
  },
  {
   "cell_type": "code",
   "execution_count": 228,
   "metadata": {},
   "outputs": [],
   "source": [
    "country_policies = dict()"
   ]
  },
  {
   "cell_type": "code",
   "execution_count": 229,
   "metadata": {},
   "outputs": [],
   "source": [
    "for country in country_paths:\n",
    "    path = country_paths[country]\n",
    "    if path.suffix == '.xlsx':\n",
    "        if country == 'korea':\n",
    "            country_policies[country] = pd.read_excel(country_paths[country], sheet_name='mapping_policy_cleaned')\n",
    "        else:\n",
    "            country_policies[country] = pd.read_excel(country_paths[country])\n",
    "    elif path.suffix == '.csv':\n",
    "        if country in ['france', 'iran', 'usa']:\n",
    "            country_policies[country] = pd.read_csv(country_paths[country], encoding='latin1')\n",
    "        else:\n",
    "            country_policies[country] = pd.read_csv(country_paths[country])"
   ]
  },
  {
   "cell_type": "code",
   "execution_count": 230,
   "metadata": {},
   "outputs": [],
   "source": [
    "country_counts = dict()\n",
    "country_counts['adm0'] = dict()\n",
    "country_counts['adm1'] = dict()\n",
    "country_counts['adm2'] = dict()\n",
    "country_counts['adm3'] = dict()"
   ]
  },
  {
   "cell_type": "code",
   "execution_count": null,
   "metadata": {},
   "outputs": [],
   "source": [
    "pandas_counts = dict()"
   ]
  },
  {
   "cell_type": "markdown",
   "metadata": {},
   "source": [
    "USA"
   ]
  },
  {
   "cell_type": "code",
   "execution_count": 231,
   "metadata": {},
   "outputs": [],
   "source": [
    "country_policies['usa'] = country_policies['usa'][['adm1_name', 'adm2_name', 'adm3_name', 'date', 'policy']].drop_duplicates()\n",
    "\n",
    "def get_policy_level_usa(row):\n",
    "    if row['adm3_name'] != 'all':\n",
    "        return 'adm3'\n",
    "    if row['adm2_name'] != 'all':\n",
    "        return 'adm2'\n",
    "    if row['adm1_name'] != 'all':\n",
    "        return 'adm1'\n",
    "    return 'adm0'\n",
    "\n",
    "country_policies['usa']['policy_level'] = country_policies['usa'].apply(get_policy_level_usa, axis=1)\n",
    "\n",
    "us_counts = country_policies['usa'].groupby('policy_level')['policy_level'].count()\n",
    "\n",
    "for level in ['adm0', 'adm1', 'adm2', 'adm3']:\n",
    "    if level in us_counts:\n",
    "        country_counts[level]['usa'] = us_counts[level]"
   ]
  },
  {
   "cell_type": "markdown",
   "metadata": {},
   "source": [
    "Korea"
   ]
  },
  {
   "cell_type": "code",
   "execution_count": 232,
   "metadata": {},
   "outputs": [],
   "source": [
    "country_policies['korea']['adm1_affected'] = country_policies['korea']['adm1_affected'].fillna('All')\n",
    "country_policies['korea']['adm1_affected'] = country_policies['korea']['adm1_affected'].replace('national', 'All')\n",
    "country_policies['korea'] = country_policies['korea'][['adm1_affected', 'date_start', 'mapped_variable']].drop_duplicates()\n",
    "\n",
    "def get_policy_level_korea(row):\n",
    "    if row['adm1_affected'] != 'All':\n",
    "        return 'adm1'\n",
    "    return 'adm0'\n",
    "\n",
    "\n",
    "country_policies['korea']['policy_level'] = country_policies['korea'].apply(get_policy_level_korea, axis=1)\n",
    "\n",
    "korea_counts = country_policies['korea'].groupby('policy_level')['policy_level'].count()\n",
    "\n",
    "for level in ['adm0', 'adm1', 'adm2', 'adm3']:\n",
    "    if level in korea_counts:\n",
    "        country_counts[level]['korea'] = korea_counts[level]"
   ]
  },
  {
   "cell_type": "markdown",
   "metadata": {},
   "source": [
    "Iran"
   ]
  },
  {
   "cell_type": "code",
   "execution_count": 233,
   "metadata": {},
   "outputs": [],
   "source": [
    "country_policies['iran'] = country_policies['iran'].dropna(how='all')\n",
    "country_policies['iran'] = country_policies['iran'].dropna(subset=['date'])\n",
    "\n",
    "def get_policy_level_iran(locations_affected):\n",
    "    if locations_affected == 'National' or pd.isnull(locations_affected):\n",
    "        return 'adm0'\n",
    "    return 'adm2'\n",
    "\n",
    "country_policies['iran']['Locations affected'] = country_policies['iran']['Locations affected'].replace('None', 'National')\n",
    "country_policies['iran']['policy_level'] = country_policies['iran']['Locations affected'].apply(get_policy_level_iran)\n",
    "\n",
    "def count_comma_separated(locations):\n",
    "    if pd.isnull(locations):\n",
    "        return 1\n",
    "    loc_split = locations.split(',')\n",
    "    return len(loc_split)\n",
    "\n",
    "country_policies['iran']['policy_count'] = country_policies['iran']['Locations affected'].apply(count_comma_separated)\n",
    "country_policies['iran'] = country_policies['iran'][country_policies['iran']['Cancelled'].isnull()]\n",
    "\n",
    "iran_counts = country_policies['iran'].groupby(['policy_level'])['policy_count'].sum()\n",
    "for level in ['adm0', 'adm1', 'adm2', 'adm3']:\n",
    "    if level in iran_counts:\n",
    "        country_counts[level]['iran'] = iran_counts[level]"
   ]
  },
  {
   "cell_type": "code",
   "execution_count": 253,
   "metadata": {},
   "outputs": [
    {
     "data": {
      "text/plain": [
       "{'adm0': {'usa': 16, 'korea': 17, 'iran': 7},\n",
       " 'adm1': {'usa': 199, 'korea': 20},\n",
       " 'adm2': {'usa': 38, 'iran': 19},\n",
       " 'adm3': {'usa': 245}}"
      ]
     },
     "execution_count": 253,
     "metadata": {},
     "output_type": "execute_result"
    }
   ],
   "source": [
    "country_counts"
   ]
  },
  {
   "cell_type": "code",
   "execution_count": 259,
   "metadata": {},
   "outputs": [],
   "source": [
    "def get_policy_level_china(row):\n",
    "    if row['adm2_name'] != 'ALL':\n",
    "        return 'adm2'\n",
    "    if row['adm1_name'] != 'ALL':\n",
    "        return 'adm1'\n",
    "    return 'adm0'\n",
    "\n",
    "country_policies['china'] = country_policies['china'][['adm1_name', 'adm2_name', 'date_start', 'policy']].drop_duplicates()\n",
    "country_policies['china']['policy_level'] = country_policies['china'].apply(get_policy_level_china, axis=1)\n",
    "\n",
    "china_counts = country_policies['china'].groupby('policy_level')['policy_level'].count()\n",
    "for level in ['adm0', 'adm1', 'adm2', 'adm3']:\n",
    "    if level in china_counts:\n",
    "        country_counts[level]['china'] = china_counts[level]"
   ]
  },
  {
   "cell_type": "code",
   "execution_count": 265,
   "metadata": {},
   "outputs": [],
   "source": [
    "country_policies['france']['adm1'] = country_policies['france']['adm1'].fillna('All')\n",
    "country_policies['france']['adm2'] = country_policies['france']['adm2'].fillna('All')"
   ]
  },
  {
   "cell_type": "code",
   "execution_count": 267,
   "metadata": {},
   "outputs": [
    {
     "data": {
      "text/html": [
       "<div>\n",
       "<style scoped>\n",
       "    .dataframe tbody tr th:only-of-type {\n",
       "        vertical-align: middle;\n",
       "    }\n",
       "\n",
       "    .dataframe tbody tr th {\n",
       "        vertical-align: top;\n",
       "    }\n",
       "\n",
       "    .dataframe thead th {\n",
       "        text-align: right;\n",
       "    }\n",
       "</style>\n",
       "<table border=\"1\" class=\"dataframe\">\n",
       "  <thead>\n",
       "    <tr style=\"text-align: right;\">\n",
       "      <th></th>\n",
       "      <th>adm0</th>\n",
       "      <th>adm1</th>\n",
       "      <th>adm2</th>\n",
       "      <th>date</th>\n",
       "      <th>policy_category</th>\n",
       "      <th>policy_description</th>\n",
       "      <th>optional</th>\n",
       "      <th>minor</th>\n",
       "      <th>source</th>\n",
       "      <th>access_date</th>\n",
       "    </tr>\n",
       "  </thead>\n",
       "  <tbody>\n",
       "    <tr>\n",
       "      <th>0</th>\n",
       "      <td>France</td>\n",
       "      <td>11</td>\n",
       "      <td>75</td>\n",
       "      <td>2/29/2020</td>\n",
       "      <td>event_cancel</td>\n",
       "      <td>Paris half marathon for March 1</td>\n",
       "      <td>NaN</td>\n",
       "      <td>NaN</td>\n",
       "      <td>https://fr.wikipedia.org/wiki/Pand%C3%A9mie_de...</td>\n",
       "      <td>3/14/2020</td>\n",
       "    </tr>\n",
       "    <tr>\n",
       "      <th>1</th>\n",
       "      <td>France</td>\n",
       "      <td>32</td>\n",
       "      <td>60</td>\n",
       "      <td>2/29/2020</td>\n",
       "      <td>no_gathering</td>\n",
       "      <td>no gathering</td>\n",
       "      <td>NaN</td>\n",
       "      <td>NaN</td>\n",
       "      <td>https://fr.wikipedia.org/wiki/Pand%C3%A9mie_de...</td>\n",
       "      <td>3/14/2020</td>\n",
       "    </tr>\n",
       "    <tr>\n",
       "      <th>2</th>\n",
       "      <td>France</td>\n",
       "      <td>32</td>\n",
       "      <td>60</td>\n",
       "      <td>2/29/2020</td>\n",
       "      <td>school_closure_5</td>\n",
       "      <td>5 cities</td>\n",
       "      <td>NaN</td>\n",
       "      <td>NaN</td>\n",
       "      <td>https://fr.wikipedia.org/wiki/Pand%C3%A9mie_de...</td>\n",
       "      <td>3/14/2020</td>\n",
       "    </tr>\n",
       "    <tr>\n",
       "      <th>3</th>\n",
       "      <td>France</td>\n",
       "      <td>All</td>\n",
       "      <td>All</td>\n",
       "      <td>2/29/2020</td>\n",
       "      <td>no_gathering_5000</td>\n",
       "      <td>limit gatherings of more than 5000</td>\n",
       "      <td>NaN</td>\n",
       "      <td>NaN</td>\n",
       "      <td>https://www.gouvernement.fr/info-coronavirus</td>\n",
       "      <td>3/14/2020</td>\n",
       "    </tr>\n",
       "    <tr>\n",
       "      <th>4</th>\n",
       "      <td>France</td>\n",
       "      <td>76</td>\n",
       "      <td>82</td>\n",
       "      <td>2/29/2020</td>\n",
       "      <td>event_cancel</td>\n",
       "      <td>Championnats de France de cross-country for Ma...</td>\n",
       "      <td>NaN</td>\n",
       "      <td>1.0</td>\n",
       "      <td>https://fr.wikipedia.org/wiki/Pand%C3%A9mie_de...</td>\n",
       "      <td>3/14/2020</td>\n",
       "    </tr>\n",
       "    <tr>\n",
       "      <th>...</th>\n",
       "      <td>...</td>\n",
       "      <td>...</td>\n",
       "      <td>...</td>\n",
       "      <td>...</td>\n",
       "      <td>...</td>\n",
       "      <td>...</td>\n",
       "      <td>...</td>\n",
       "      <td>...</td>\n",
       "      <td>...</td>\n",
       "      <td>...</td>\n",
       "    </tr>\n",
       "    <tr>\n",
       "      <th>56</th>\n",
       "      <td>France</td>\n",
       "      <td>11</td>\n",
       "      <td>All</td>\n",
       "      <td>3/14/2020</td>\n",
       "      <td>social_distance</td>\n",
       "      <td>Activation of the ARS Business Continuity Plan...</td>\n",
       "      <td>NaN</td>\n",
       "      <td>NaN</td>\n",
       "      <td>https://www.iledefrance.ars.sante.fr/system/fi...</td>\n",
       "      <td>3/15/2020</td>\n",
       "    </tr>\n",
       "    <tr>\n",
       "      <th>57</th>\n",
       "      <td>France</td>\n",
       "      <td>44</td>\n",
       "      <td>67</td>\n",
       "      <td>3/14/2020</td>\n",
       "      <td>no_gathering_50</td>\n",
       "      <td>excludes shops, businesses, restaurants, bars,...</td>\n",
       "      <td>NaN</td>\n",
       "      <td>NaN</td>\n",
       "      <td>https://www.grand-est.ars.sante.fr/system/file...</td>\n",
       "      <td>3/14/2020</td>\n",
       "    </tr>\n",
       "    <tr>\n",
       "      <th>58</th>\n",
       "      <td>France</td>\n",
       "      <td>All</td>\n",
       "      <td>All</td>\n",
       "      <td>3/16/2020</td>\n",
       "      <td>school_closure_all</td>\n",
       "      <td>for minimum of 15 days or as long as necessary</td>\n",
       "      <td>NaN</td>\n",
       "      <td>NaN</td>\n",
       "      <td>https://www.gouvernement.fr/info-coronavirus</td>\n",
       "      <td>3/14/2020</td>\n",
       "    </tr>\n",
       "    <tr>\n",
       "      <th>59</th>\n",
       "      <td>France</td>\n",
       "      <td>All</td>\n",
       "      <td>All</td>\n",
       "      <td>3/16/2020</td>\n",
       "      <td>business_closure</td>\n",
       "      <td>NaN</td>\n",
       "      <td>NaN</td>\n",
       "      <td>NaN</td>\n",
       "      <td>https://www.gouvernement.fr/info-coronavirus</td>\n",
       "      <td>3/17/2020</td>\n",
       "    </tr>\n",
       "    <tr>\n",
       "      <th>60</th>\n",
       "      <td>France</td>\n",
       "      <td>All</td>\n",
       "      <td>All</td>\n",
       "      <td>3/17/2020</td>\n",
       "      <td>home_isolation</td>\n",
       "      <td>NaN</td>\n",
       "      <td>NaN</td>\n",
       "      <td>NaN</td>\n",
       "      <td>https://www.gouvernement.fr/info-coronavirus</td>\n",
       "      <td>3/17/2020</td>\n",
       "    </tr>\n",
       "  </tbody>\n",
       "</table>\n",
       "<p>61 rows × 10 columns</p>\n",
       "</div>"
      ],
      "text/plain": [
       "      adm0 adm1 adm2       date     policy_category  \\\n",
       "0   France   11   75  2/29/2020        event_cancel   \n",
       "1   France   32   60  2/29/2020        no_gathering   \n",
       "2   France   32   60  2/29/2020    school_closure_5   \n",
       "3   France  All  All  2/29/2020   no_gathering_5000   \n",
       "4   France   76   82  2/29/2020        event_cancel   \n",
       "..     ...  ...  ...        ...                 ...   \n",
       "56  France   11  All  3/14/2020     social_distance   \n",
       "57  France   44   67  3/14/2020     no_gathering_50   \n",
       "58  France  All  All  3/16/2020  school_closure_all   \n",
       "59  France  All  All  3/16/2020    business_closure   \n",
       "60  France  All  All  3/17/2020      home_isolation   \n",
       "\n",
       "                                   policy_description  optional  minor  \\\n",
       "0                     Paris half marathon for March 1       NaN    NaN   \n",
       "1                                        no gathering       NaN    NaN   \n",
       "2                                            5 cities       NaN    NaN   \n",
       "3                  limit gatherings of more than 5000       NaN    NaN   \n",
       "4   Championnats de France de cross-country for Ma...       NaN    1.0   \n",
       "..                                                ...       ...    ...   \n",
       "56  Activation of the ARS Business Continuity Plan...       NaN    NaN   \n",
       "57  excludes shops, businesses, restaurants, bars,...       NaN    NaN   \n",
       "58     for minimum of 15 days or as long as necessary       NaN    NaN   \n",
       "59                                                NaN       NaN    NaN   \n",
       "60                                                NaN       NaN    NaN   \n",
       "\n",
       "                                               source access_date  \n",
       "0   https://fr.wikipedia.org/wiki/Pand%C3%A9mie_de...   3/14/2020  \n",
       "1   https://fr.wikipedia.org/wiki/Pand%C3%A9mie_de...   3/14/2020  \n",
       "2   https://fr.wikipedia.org/wiki/Pand%C3%A9mie_de...   3/14/2020  \n",
       "3        https://www.gouvernement.fr/info-coronavirus   3/14/2020  \n",
       "4   https://fr.wikipedia.org/wiki/Pand%C3%A9mie_de...   3/14/2020  \n",
       "..                                                ...         ...  \n",
       "56  https://www.iledefrance.ars.sante.fr/system/fi...   3/15/2020  \n",
       "57  https://www.grand-est.ars.sante.fr/system/file...   3/14/2020  \n",
       "58       https://www.gouvernement.fr/info-coronavirus   3/14/2020  \n",
       "59       https://www.gouvernement.fr/info-coronavirus   3/17/2020  \n",
       "60       https://www.gouvernement.fr/info-coronavirus   3/17/2020  \n",
       "\n",
       "[61 rows x 10 columns]"
      ]
     },
     "execution_count": 267,
     "metadata": {},
     "output_type": "execute_result"
    }
   ],
   "source": [
    "country_policies['france']"
   ]
  },
  {
   "cell_type": "code",
   "execution_count": 268,
   "metadata": {},
   "outputs": [],
   "source": [
    "def get_policy_level_france(row):\n",
    "    if row['adm2'] != 'All':\n",
    "        return 'adm2'\n",
    "    if row['adm1'] != 'All':\n",
    "        return 'adm1'\n",
    "    return 'adm0'\n",
    "\n",
    "country_policies['france'] = country_policies['france'][['adm1', 'adm2', 'date', 'policy_category']].drop_duplicates()\n",
    "country_policies['france']['policy_level'] = country_policies['france'].apply(get_policy_level_france, axis=1)\n",
    "\n",
    "france_counts = country_policies['france'].groupby('policy_level')['policy_level'].count()\n",
    "for level in ['adm0', 'adm1', 'adm2', 'adm3']:\n",
    "    if level in france_counts:\n",
    "        country_counts[level]['france'] = france_counts[level]"
   ]
  },
  {
   "cell_type": "code",
   "execution_count": 272,
   "metadata": {},
   "outputs": [],
   "source": [
    "def get_policy_level_italy(row):\n",
    "    if row['adm3_affected'] != 'All':\n",
    "        return 'adm3'\n",
    "    if row['adm2_affected'] != 'All':\n",
    "        return 'adm2'\n",
    "    if row['adm1_affected'] != 'All':\n",
    "        return 'adm1'\n",
    "    return 'adm0'\n",
    "\n",
    "country_policies['italy'] = country_policies['italy'][['adm1_affected', 'adm2_affected', 'adm3_affected', 'Date', 'Policy']].drop_duplicates()\n",
    "country_policies['italy']['policy_level'] = country_policies['italy'].apply(get_policy_level_italy, axis=1)\n",
    "\n",
    "italy_counts = country_policies['italy'].groupby('policy_level')['policy_level'].count()\n",
    "for level in ['adm0', 'adm1', 'adm2', 'adm3']:\n",
    "    if level in italy_counts:\n",
    "        country_counts[level]['italy'] = italy_counts[level]"
   ]
  },
  {
   "cell_type": "code",
   "execution_count": 273,
   "metadata": {},
   "outputs": [
    {
     "data": {
      "text/plain": [
       "{'adm0': {'usa': 16, 'korea': 17, 'iran': 7, 'france': 8, 'italy': 13},\n",
       " 'adm1': {'usa': 199, 'korea': 20, 'china': 4, 'france': 2, 'italy': 24},\n",
       " 'adm2': {'usa': 38, 'iran': 19, 'china': 126, 'france': 49, 'italy': 81},\n",
       " 'adm3': {'usa': 245, 'italy': 77}}"
      ]
     },
     "execution_count": 273,
     "metadata": {},
     "output_type": "execute_result"
    }
   ],
   "source": [
    "country_counts"
   ]
  },
  {
   "cell_type": "code",
   "execution_count": 277,
   "metadata": {},
   "outputs": [],
   "source": [
    "country_counts_df = pd.DataFrame.from_dict(country_counts)\n",
    "country_counts_df = country_counts_df.fillna(0).sort_index()"
   ]
  },
  {
   "cell_type": "code",
   "execution_count": 282,
   "metadata": {},
   "outputs": [],
   "source": [
    "country_counts_df['total'] = country_counts_df.sum(axis=1)"
   ]
  },
  {
   "cell_type": "code",
   "execution_count": 286,
   "metadata": {},
   "outputs": [],
   "source": [
    "x = country_counts_df.sum(axis=0)"
   ]
  },
  {
   "cell_type": "code",
   "execution_count": 290,
   "metadata": {},
   "outputs": [
    {
     "data": {
      "text/html": [
       "<div>\n",
       "<style scoped>\n",
       "    .dataframe tbody tr th:only-of-type {\n",
       "        vertical-align: middle;\n",
       "    }\n",
       "\n",
       "    .dataframe tbody tr th {\n",
       "        vertical-align: top;\n",
       "    }\n",
       "\n",
       "    .dataframe thead th {\n",
       "        text-align: right;\n",
       "    }\n",
       "</style>\n",
       "<table border=\"1\" class=\"dataframe\">\n",
       "  <thead>\n",
       "    <tr style=\"text-align: right;\">\n",
       "      <th></th>\n",
       "      <th>adm0</th>\n",
       "      <th>adm1</th>\n",
       "      <th>adm2</th>\n",
       "      <th>adm3</th>\n",
       "      <th>total</th>\n",
       "    </tr>\n",
       "  </thead>\n",
       "  <tbody>\n",
       "    <tr>\n",
       "      <th>china</th>\n",
       "      <td>0</td>\n",
       "      <td>4</td>\n",
       "      <td>126</td>\n",
       "      <td>0</td>\n",
       "      <td>130</td>\n",
       "    </tr>\n",
       "    <tr>\n",
       "      <th>france</th>\n",
       "      <td>8</td>\n",
       "      <td>2</td>\n",
       "      <td>49</td>\n",
       "      <td>0</td>\n",
       "      <td>59</td>\n",
       "    </tr>\n",
       "    <tr>\n",
       "      <th>iran</th>\n",
       "      <td>7</td>\n",
       "      <td>0</td>\n",
       "      <td>19</td>\n",
       "      <td>0</td>\n",
       "      <td>26</td>\n",
       "    </tr>\n",
       "    <tr>\n",
       "      <th>italy</th>\n",
       "      <td>13</td>\n",
       "      <td>24</td>\n",
       "      <td>81</td>\n",
       "      <td>77</td>\n",
       "      <td>195</td>\n",
       "    </tr>\n",
       "    <tr>\n",
       "      <th>korea</th>\n",
       "      <td>17</td>\n",
       "      <td>20</td>\n",
       "      <td>0</td>\n",
       "      <td>0</td>\n",
       "      <td>37</td>\n",
       "    </tr>\n",
       "    <tr>\n",
       "      <th>usa</th>\n",
       "      <td>16</td>\n",
       "      <td>199</td>\n",
       "      <td>38</td>\n",
       "      <td>245</td>\n",
       "      <td>498</td>\n",
       "    </tr>\n",
       "    <tr>\n",
       "      <th>total</th>\n",
       "      <td>61</td>\n",
       "      <td>249</td>\n",
       "      <td>313</td>\n",
       "      <td>322</td>\n",
       "      <td>945</td>\n",
       "    </tr>\n",
       "  </tbody>\n",
       "</table>\n",
       "</div>"
      ],
      "text/plain": [
       "        adm0  adm1  adm2  adm3  total\n",
       "china      0     4   126     0    130\n",
       "france     8     2    49     0     59\n",
       "iran       7     0    19     0     26\n",
       "italy     13    24    81    77    195\n",
       "korea     17    20     0     0     37\n",
       "usa       16   199    38   245    498\n",
       "total     61   249   313   322    945"
      ]
     },
     "execution_count": 290,
     "metadata": {},
     "output_type": "execute_result"
    }
   ],
   "source": [
    "country_counts_df.append(country_counts_df.sum(axis=0).rename('total')).astype(int)"
   ]
  }
 ],
 "metadata": {
  "kernelspec": {
   "display_name": "Python 3",
   "language": "python",
   "name": "python3"
  },
  "language_info": {
   "codemirror_mode": {
    "name": "ipython",
    "version": 3
   },
   "file_extension": ".py",
   "mimetype": "text/x-python",
   "name": "python",
   "nbconvert_exporter": "python",
   "pygments_lexer": "ipython3",
   "version": "3.7.4"
  }
 },
 "nbformat": 4,
 "nbformat_minor": 2
}
