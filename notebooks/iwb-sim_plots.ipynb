{
 "cells": [
  {
   "cell_type": "code",
   "execution_count": 202,
   "metadata": {},
   "outputs": [
    {
     "name": "stdout",
     "output_type": "stream",
     "text": [
      "The autoreload extension is already loaded. To reload it, use:\n",
      "  %reload_ext autoreload\n"
     ]
    }
   ],
   "source": [
    "%load_ext autoreload\n",
    "%autoreload 2\n",
    "\n",
    "import xarray as xr\n",
    "import numpy as np\n",
    "import seaborn as sns\n",
    "import matplotlib.pyplot as plt\n",
    "import matplotlib as mpl\n",
    "from codes import utils as cutil\n",
    "from codes.models import epi\n",
    "import warnings\n",
    "\n",
    "sns.set(context=\"paper\", style=\"ticks\", font_scale=.65)\n",
    "mpl.rc('figure', max_open_warning = 0)\n",
    "\n",
    "## settings\n",
    "bn = 0.1\n",
    "sn = 0\n",
    "gn = 0\n",
    "\n",
    "\n",
    "dirname_sim = f\"betaNoise_{bn}_gammaNoise_{gn}_sigmaNoise_{sn}\"\n",
    "out_home = cutil.RESULTS / \"other\" / \"sims\" / dirname_sim\n",
    "plot_dir = cutil.RESULTS / \"figures\" / \"appendix\" / \"sims\"\n",
    "plot_dir.mkdir(exist_ok=True)"
   ]
  },
  {
   "cell_type": "markdown",
   "metadata": {},
   "source": [
    "## Plotting econometric model robustness"
   ]
  },
  {
   "cell_type": "code",
   "execution_count": 155,
   "metadata": {},
   "outputs": [],
   "source": [
    "sir_dir = out_home / \"SIR\" / \"regression\"\n",
    "reg_res = epi.load_reg_results(sir_dir)\n",
    "reg_res[\"sigma\"] = [np.inf]\n",
    "coeffs_sir = reg_res.coefficient.sum(\"reg_lag\", skipna=False).to_dataset(dim=\"policy\").merge(reg_res[[\"Intercept\", \"S_min\", \"S_min_p3\"]])\n",
    "\n",
    "seir_dir = out_home / \"SEIR\" / \"regression\"\n",
    "reg_res = epi.load_reg_results(seir_dir)\n",
    "coeffs_seir = reg_res.coefficient.sum(\"reg_lag\", skipna=False).to_dataset(dim=\"policy\").merge(reg_res[[\"Intercept\", \"S_min\", \"S_min_p3\"]])\n",
    "\n",
    "coeffs = xr.concat([coeffs_seir, coeffs_sir], dim=\"sigma\")\n",
    "coeffs.attrs = reg_res.attrs\n",
    "\n",
    "coeffs[\"cum_effect\"] = coeffs[[\"p1\",\"p2\",\"p3\"]].to_array().sum(dim=\"variable\", skipna=False)\n",
    "\n",
    "coeffs = coeffs.sortby(\"sigma\")"
   ]
  },
  {
   "cell_type": "code",
   "execution_count": 203,
   "metadata": {},
   "outputs": [],
   "source": [
    "def plot_factor_coeff(ds, pop, LHS_var, coef, title=None, n_bins=40, hist_kwargs={\"edgecolor\": \"none\"}, fig_label=None, **facet_kwargs):\n",
    "    if true_vals[coef] > 0:\n",
    "        xmin = 0\n",
    "        xmax = true_vals[coef] * 2\n",
    "    elif true_vals[coef] < 0:\n",
    "        xmin = true_vals[coef] * 2\n",
    "        xmax = 0\n",
    "\n",
    "    g = xr.plot.FacetGrid(ds.sel(LHS=LHS_var, pop=pop), sharey=\"row\", **facet_kwargs)\n",
    "    for ax in g.axes.flat:\n",
    "        ax.axvline(true_vals[coef], color=\"k\", label=\"True\")\n",
    "        ax.set_xlim(xmin, xmax)\n",
    "\n",
    "    def nowarn_hist(data, *args, xmin=None, xmax=None, **kwargs):\n",
    "        binmin = max(xmin, np.nanmin(data))\n",
    "        binmax = min(xmax, np.nanmax(data))\n",
    "        with warnings.catch_warnings():\n",
    "            warnings.simplefilter(\"ignore\")\n",
    "            return plt.hist(data, *args, bins=np.linspace(binmin, binmax, n_bins), **kwargs)\n",
    "\n",
    "    g.map(nowarn_hist, coef, xmin=xmin, xmax=xmax, **hist_kwargs)\n",
    "    g.map(\n",
    "        lambda x: plt.axvline(\n",
    "            np.nanmedian(x), color=\"r\", linestyle=\"--\", label=\"Median\\nestimate\"\n",
    "        ),\n",
    "        coef,\n",
    "    )\n",
    "    g.map(\n",
    "        lambda x, y: plt.text(\n",
    "            0.97,\n",
    "            0.97,\n",
    "            f\"$min(S)$: {x.min().item():.2f}\\n$min(S)_{{p3}}$: {y.min().item():.2f}\",\n",
    "            horizontalalignment=\"right\",\n",
    "            verticalalignment=\"top\",\n",
    "            transform=plt.gca().transAxes,\n",
    "        ),\n",
    "        \"S_min\",\n",
    "        \"S_min_p3\",\n",
    "    )\n",
    "    g.axes.flat[0].legend(loc=\"upper left\")\n",
    "    g.set_xlabels(\"Growth rate effect\")\n",
    "    g.set_titles(\"$\\{coord} = {value}$\")\n",
    "    g.map(lambda: plt.yticks([]))\n",
    "    if title is None:\n",
    "        title = f\"LHS: {LHS_var}; variable: {coef}\"\n",
    "    if fig_label is not None:\n",
    "        g.fig.text(.03, .97, fig_label, fontsize=7, fontweight='bold', va='top', ha='left')\n",
    "    g.fig.suptitle(title, va=\"bottom\", y=0.99)\n",
    "    sns.despine(g.fig, left=True)\n",
    "    return g"
   ]
  },
  {
   "cell_type": "code",
   "execution_count": 204,
   "metadata": {},
   "outputs": [
    {
     "data": {
      "text/plain": [
       "<Figure size 468x234 with 0 Axes>"
      ]
     },
     "metadata": {},
     "output_type": "display_data"
    },
    {
     "data": {
      "text/plain": [
       "<Figure size 468x234 with 0 Axes>"
      ]
     },
     "metadata": {},
     "output_type": "display_data"
    },
    {
     "data": {
      "text/plain": [
       "<Figure size 468x234 with 0 Axes>"
      ]
     },
     "metadata": {},
     "output_type": "display_data"
    },
    {
     "data": {
      "text/plain": [
       "<Figure size 468x234 with 0 Axes>"
      ]
     },
     "metadata": {},
     "output_type": "display_data"
    },
    {
     "data": {
      "text/plain": [
       "<Figure size 468x234 with 0 Axes>"
      ]
     },
     "metadata": {},
     "output_type": "display_data"
    },
    {
     "data": {
      "text/plain": [
       "<Figure size 468x234 with 0 Axes>"
      ]
     },
     "metadata": {},
     "output_type": "display_data"
    },
    {
     "data": {
      "text/plain": [
       "<Figure size 468x234 with 0 Axes>"
      ]
     },
     "metadata": {},
     "output_type": "display_data"
    },
    {
     "data": {
      "text/plain": [
       "<Figure size 468x234 with 0 Axes>"
      ]
     },
     "metadata": {},
     "output_type": "display_data"
    },
    {
     "data": {
      "text/plain": [
       "<Figure size 468x234 with 0 Axes>"
      ]
     },
     "metadata": {},
     "output_type": "display_data"
    },
    {
     "data": {
      "text/plain": [
       "<Figure size 468x234 with 0 Axes>"
      ]
     },
     "metadata": {},
     "output_type": "display_data"
    },
    {
     "data": {
      "text/plain": [
       "<Figure size 468x234 with 0 Axes>"
      ]
     },
     "metadata": {},
     "output_type": "display_data"
    },
    {
     "data": {
      "text/plain": [
       "<Figure size 468x234 with 0 Axes>"
      ]
     },
     "metadata": {},
     "output_type": "display_data"
    },
    {
     "data": {
      "text/plain": [
       "<Figure size 468x234 with 0 Axes>"
      ]
     },
     "metadata": {},
     "output_type": "display_data"
    },
    {
     "data": {
      "text/plain": [
       "<Figure size 468x234 with 0 Axes>"
      ]
     },
     "metadata": {},
     "output_type": "display_data"
    },
    {
     "data": {
      "text/plain": [
       "<Figure size 468x234 with 0 Axes>"
      ]
     },
     "metadata": {},
     "output_type": "display_data"
    },
    {
     "data": {
      "text/plain": [
       "<Figure size 468x234 with 0 Axes>"
      ]
     },
     "metadata": {},
     "output_type": "display_data"
    },
    {
     "data": {
      "text/plain": [
       "<Figure size 468x234 with 0 Axes>"
      ]
     },
     "metadata": {},
     "output_type": "display_data"
    },
    {
     "data": {
      "text/plain": [
       "<Figure size 468x234 with 0 Axes>"
      ]
     },
     "metadata": {},
     "output_type": "display_data"
    },
    {
     "data": {
      "text/plain": [
       "<Figure size 468x234 with 0 Axes>"
      ]
     },
     "metadata": {},
     "output_type": "display_data"
    },
    {
     "data": {
      "text/plain": [
       "<Figure size 468x234 with 0 Axes>"
      ]
     },
     "metadata": {},
     "output_type": "display_data"
    },
    {
     "data": {
      "text/plain": [
       "<Figure size 468x234 with 0 Axes>"
      ]
     },
     "metadata": {},
     "output_type": "display_data"
    },
    {
     "data": {
      "text/plain": [
       "<Figure size 468x234 with 0 Axes>"
      ]
     },
     "metadata": {},
     "output_type": "display_data"
    },
    {
     "data": {
      "text/plain": [
       "<Figure size 468x234 with 0 Axes>"
      ]
     },
     "metadata": {},
     "output_type": "display_data"
    },
    {
     "data": {
      "text/plain": [
       "<Figure size 468x234 with 0 Axes>"
      ]
     },
     "metadata": {},
     "output_type": "display_data"
    },
    {
     "data": {
      "text/plain": [
       "<Figure size 468x234 with 0 Axes>"
      ]
     },
     "metadata": {},
     "output_type": "display_data"
    },
    {
     "data": {
      "text/plain": [
       "<Figure size 468x234 with 0 Axes>"
      ]
     },
     "metadata": {},
     "output_type": "display_data"
    },
    {
     "data": {
      "text/plain": [
       "<Figure size 468x234 with 0 Axes>"
      ]
     },
     "metadata": {},
     "output_type": "display_data"
    },
    {
     "data": {
      "text/plain": [
       "<Figure size 468x234 with 0 Axes>"
      ]
     },
     "metadata": {},
     "output_type": "display_data"
    },
    {
     "data": {
      "text/plain": [
       "<Figure size 468x234 with 0 Axes>"
      ]
     },
     "metadata": {},
     "output_type": "display_data"
    },
    {
     "data": {
      "text/plain": [
       "<Figure size 468x234 with 0 Axes>"
      ]
     },
     "metadata": {},
     "output_type": "display_data"
    },
    {
     "data": {
      "text/plain": [
       "<Figure size 468x234 with 0 Axes>"
      ]
     },
     "metadata": {},
     "output_type": "display_data"
    },
    {
     "data": {
      "text/plain": [
       "<Figure size 468x234 with 0 Axes>"
      ]
     },
     "metadata": {},
     "output_type": "display_data"
    },
    {
     "data": {
      "text/plain": [
       "<Figure size 468x234 with 0 Axes>"
      ]
     },
     "metadata": {},
     "output_type": "display_data"
    },
    {
     "data": {
      "text/plain": [
       "<Figure size 468x234 with 0 Axes>"
      ]
     },
     "metadata": {},
     "output_type": "display_data"
    },
    {
     "data": {
      "text/plain": [
       "<Figure size 468x234 with 0 Axes>"
      ]
     },
     "metadata": {},
     "output_type": "display_data"
    },
    {
     "data": {
      "text/plain": [
       "<Figure size 468x234 with 0 Axes>"
      ]
     },
     "metadata": {},
     "output_type": "display_data"
    },
    {
     "data": {
      "text/plain": [
       "<Figure size 468x234 with 0 Axes>"
      ]
     },
     "metadata": {},
     "output_type": "display_data"
    },
    {
     "data": {
      "text/plain": [
       "<Figure size 468x234 with 0 Axes>"
      ]
     },
     "metadata": {},
     "output_type": "display_data"
    },
    {
     "data": {
      "text/plain": [
       "<Figure size 468x234 with 0 Axes>"
      ]
     },
     "metadata": {},
     "output_type": "display_data"
    },
    {
     "data": {
      "text/plain": [
       "<Figure size 468x234 with 0 Axes>"
      ]
     },
     "metadata": {},
     "output_type": "display_data"
    }
   ],
   "source": [
    "true_vals = reg_res.effect.mean(\"pop\").to_dataframe().effect\n",
    "true_vals.loc[\"Intercept\"] = reg_res.attrs[\"no_policy_growth_rate\"]\n",
    "true_vals[\"cum_effect\"] = true_vals[\"p1\"] + true_vals[\"p2\"] + true_vals[\"p3\"]\n",
    "\n",
    "coef = \"cum_effect\"\n",
    "LHS_var = \"I\"\n",
    "facet_kwargs = dict(\n",
    "    row=\"sigma\",\n",
    "    col=\"gamma\"\n",
    ")\n",
    "pop = 1e6\n",
    "\n",
    "for p in coeffs.pop.values:\n",
    "    for LHS in [\"I\", \"IR\"]:\n",
    "        if p==1e8 and LHS==\"I\":\n",
    "            fig_label=\"a\"\n",
    "        elif p==1e5 and LHS==\"IR\":\n",
    "            fig_label=\"b\"\n",
    "        else:\n",
    "            fig_label=None\n",
    "        for var in [\"Intercept\", \"cum_effect\", \"p1\", \"p2\", \"p3\"]:\n",
    "            g = plot_factor_coeff(\n",
    "                coeffs, \n",
    "                p, \n",
    "                LHS, \n",
    "                var, \n",
    "                title=\"\", \n",
    "                figsize=(6.5,3.25),\n",
    "                fig_label=fig_label,\n",
    "                **facet_kwargs\n",
    "            )\n",
    "            for suffix in [\"pdf\", \"png\"]:\n",
    "                g.fig.savefig(plot_dir / f\"{var}_pop_{p}_LHS_{LHS}.{suffix}\", dpi=300)\n",
    "            \n",
    "            plt.clf()"
   ]
  },
  {
   "cell_type": "markdown",
   "metadata": {},
   "source": [
    "## Showing re-projection performance"
   ]
  },
  {
   "cell_type": "code",
   "execution_count": 2,
   "metadata": {},
   "outputs": [],
   "source": [
    "true = xr.open_dataset(proj_dir / \"true.nc\")\n",
    "sir = xr.open_dataset(proj_dir / \"pred_sir.nc\")\n",
    "seir = xr.open_dataset(proj_dir / \"pred_seir.nc\")\n",
    "true.load()\n",
    "sir.load()\n",
    "seir.load()\n",
    "\n",
    "sir[\"cum_cases_steady_state\"] = 1 - (sir.gamma_deterministic / sir.beta_deterministic.isel(t=-1))\n",
    "seir[\"cum_cases_steady_state\"] = 1 - (seir.gamma_deterministic / seir.beta_deterministic.isel(t=-1))\n",
    "true[\"cum_cases_steady_state\"] = 1 - (true.gamma / 24 / true.beta_deterministic.isel(t=-1))\n",
    "\n",
    "full_ds = {\n",
    "    \"true\": true,\n",
    "    \"sir\": sir,\n",
    "    \"seir\": seir\n",
    "}\n",
    "\n",
    "# add on cum observed cases\n",
    "for k,v in full_ds.items():\n",
    "    v[\"IR\"] = v.I + v.R"
   ]
  },
  {
   "cell_type": "code",
   "execution_count": 3,
   "metadata": {},
   "outputs": [],
   "source": [
    "means = {k:v.mean(dim=\"sample\") for k,v in full_ds.items()}\n",
    "p95 = {k:v.quantile(.95, dim=\"sample\") for k,v in full_ds.items()}\n",
    "p50 = {k:v.quantile(.5, dim=\"sample\") for k,v in full_ds.items()}\n",
    "p05 = {k:v.quantile(.05, dim=\"sample\") for k,v in full_ds.items()}\n",
    "\n",
    "qs = {k: xr.concat([p05[k], p50[k], p95[k]], dim=\"quantile\") for k in p50.keys()}"
   ]
  },
  {
   "cell_type": "code",
   "execution_count": 8,
   "metadata": {
    "collapsed": true,
    "jupyter": {
     "outputs_hidden": true
    }
   },
   "outputs": [
    {
     "name": "stderr",
     "output_type": "stream",
     "text": [
      "/home/bolliger/miniconda3/envs/gpl-covid/lib/python3.7/site-packages/xarray/plot/facetgrid.py:171: RuntimeWarning: More than 20 figures have been opened. Figures created through the pyplot interface (`matplotlib.pyplot.figure`) are retained until explicitly closed and may consume too much memory. (To control this warning, see the rcParam `figure.max_open_warning`).\n",
      "  subplot_kw=subplot_kws,\n",
      "/home/bolliger/miniconda3/envs/gpl-covid/lib/python3.7/site-packages/xarray/plot/facetgrid.py:171: RuntimeWarning: More than 20 figures have been opened. Figures created through the pyplot interface (`matplotlib.pyplot.figure`) are retained until explicitly closed and may consume too much memory. (To control this warning, see the rcParam `figure.max_open_warning`).\n",
      "  subplot_kw=subplot_kws,\n",
      "/home/bolliger/miniconda3/envs/gpl-covid/lib/python3.7/site-packages/xarray/plot/facetgrid.py:171: RuntimeWarning: More than 20 figures have been opened. Figures created through the pyplot interface (`matplotlib.pyplot.figure`) are retained until explicitly closed and may consume too much memory. (To control this warning, see the rcParam `figure.max_open_warning`).\n",
      "  subplot_kw=subplot_kws,\n",
      "/home/bolliger/miniconda3/envs/gpl-covid/lib/python3.7/site-packages/xarray/plot/facetgrid.py:171: RuntimeWarning: More than 20 figures have been opened. Figures created through the pyplot interface (`matplotlib.pyplot.figure`) are retained until explicitly closed and may consume too much memory. (To control this warning, see the rcParam `figure.max_open_warning`).\n",
      "  subplot_kw=subplot_kws,\n",
      "/home/bolliger/miniconda3/envs/gpl-covid/lib/python3.7/site-packages/xarray/plot/facetgrid.py:171: RuntimeWarning: More than 20 figures have been opened. Figures created through the pyplot interface (`matplotlib.pyplot.figure`) are retained until explicitly closed and may consume too much memory. (To control this warning, see the rcParam `figure.max_open_warning`).\n",
      "  subplot_kw=subplot_kws,\n",
      "/home/bolliger/miniconda3/envs/gpl-covid/lib/python3.7/site-packages/xarray/plot/facetgrid.py:171: RuntimeWarning: More than 20 figures have been opened. Figures created through the pyplot interface (`matplotlib.pyplot.figure`) are retained until explicitly closed and may consume too much memory. (To control this warning, see the rcParam `figure.max_open_warning`).\n",
      "  subplot_kw=subplot_kws,\n",
      "/home/bolliger/miniconda3/envs/gpl-covid/lib/python3.7/site-packages/xarray/plot/facetgrid.py:171: RuntimeWarning: More than 20 figures have been opened. Figures created through the pyplot interface (`matplotlib.pyplot.figure`) are retained until explicitly closed and may consume too much memory. (To control this warning, see the rcParam `figure.max_open_warning`).\n",
      "  subplot_kw=subplot_kws,\n",
      "/home/bolliger/miniconda3/envs/gpl-covid/lib/python3.7/site-packages/xarray/plot/facetgrid.py:171: RuntimeWarning: More than 20 figures have been opened. Figures created through the pyplot interface (`matplotlib.pyplot.figure`) are retained until explicitly closed and may consume too much memory. (To control this warning, see the rcParam `figure.max_open_warning`).\n",
      "  subplot_kw=subplot_kws,\n",
      "/home/bolliger/miniconda3/envs/gpl-covid/lib/python3.7/site-packages/xarray/plot/facetgrid.py:171: RuntimeWarning: More than 20 figures have been opened. Figures created through the pyplot interface (`matplotlib.pyplot.figure`) are retained until explicitly closed and may consume too much memory. (To control this warning, see the rcParam `figure.max_open_warning`).\n",
      "  subplot_kw=subplot_kws,\n",
      "/home/bolliger/miniconda3/envs/gpl-covid/lib/python3.7/site-packages/xarray/plot/facetgrid.py:171: RuntimeWarning: More than 20 figures have been opened. Figures created through the pyplot interface (`matplotlib.pyplot.figure`) are retained until explicitly closed and may consume too much memory. (To control this warning, see the rcParam `figure.max_open_warning`).\n",
      "  subplot_kw=subplot_kws,\n",
      "/home/bolliger/miniconda3/envs/gpl-covid/lib/python3.7/site-packages/xarray/plot/facetgrid.py:171: RuntimeWarning: More than 20 figures have been opened. Figures created through the pyplot interface (`matplotlib.pyplot.figure`) are retained until explicitly closed and may consume too much memory. (To control this warning, see the rcParam `figure.max_open_warning`).\n",
      "  subplot_kw=subplot_kws,\n",
      "/home/bolliger/miniconda3/envs/gpl-covid/lib/python3.7/site-packages/xarray/plot/facetgrid.py:171: RuntimeWarning: More than 20 figures have been opened. Figures created through the pyplot interface (`matplotlib.pyplot.figure`) are retained until explicitly closed and may consume too much memory. (To control this warning, see the rcParam `figure.max_open_warning`).\n",
      "  subplot_kw=subplot_kws,\n",
      "/home/bolliger/miniconda3/envs/gpl-covid/lib/python3.7/site-packages/xarray/plot/facetgrid.py:171: RuntimeWarning: More than 20 figures have been opened. Figures created through the pyplot interface (`matplotlib.pyplot.figure`) are retained until explicitly closed and may consume too much memory. (To control this warning, see the rcParam `figure.max_open_warning`).\n",
      "  subplot_kw=subplot_kws,\n",
      "/home/bolliger/miniconda3/envs/gpl-covid/lib/python3.7/site-packages/xarray/plot/facetgrid.py:171: RuntimeWarning: More than 20 figures have been opened. Figures created through the pyplot interface (`matplotlib.pyplot.figure`) are retained until explicitly closed and may consume too much memory. (To control this warning, see the rcParam `figure.max_open_warning`).\n",
      "  subplot_kw=subplot_kws,\n",
      "/home/bolliger/miniconda3/envs/gpl-covid/lib/python3.7/site-packages/xarray/plot/facetgrid.py:171: RuntimeWarning: More than 20 figures have been opened. Figures created through the pyplot interface (`matplotlib.pyplot.figure`) are retained until explicitly closed and may consume too much memory. (To control this warning, see the rcParam `figure.max_open_warning`).\n",
      "  subplot_kw=subplot_kws,\n",
      "/home/bolliger/miniconda3/envs/gpl-covid/lib/python3.7/site-packages/xarray/plot/facetgrid.py:171: RuntimeWarning: More than 20 figures have been opened. Figures created through the pyplot interface (`matplotlib.pyplot.figure`) are retained until explicitly closed and may consume too much memory. (To control this warning, see the rcParam `figure.max_open_warning`).\n",
      "  subplot_kw=subplot_kws,\n"
     ]
    },
    {
     "data": {
      "text/plain": [
       "<Figure size 720x648 with 0 Axes>"
      ]
     },
     "metadata": {},
     "output_type": "display_data"
    },
    {
     "data": {
      "text/plain": [
       "<Figure size 720x648 with 0 Axes>"
      ]
     },
     "metadata": {},
     "output_type": "display_data"
    },
    {
     "data": {
      "text/plain": [
       "<Figure size 720x648 with 0 Axes>"
      ]
     },
     "metadata": {},
     "output_type": "display_data"
    },
    {
     "data": {
      "text/plain": [
       "<Figure size 720x648 with 0 Axes>"
      ]
     },
     "metadata": {},
     "output_type": "display_data"
    },
    {
     "data": {
      "text/plain": [
       "<Figure size 720x648 with 0 Axes>"
      ]
     },
     "metadata": {},
     "output_type": "display_data"
    },
    {
     "data": {
      "text/plain": [
       "<Figure size 720x648 with 0 Axes>"
      ]
     },
     "metadata": {},
     "output_type": "display_data"
    },
    {
     "data": {
      "text/plain": [
       "<Figure size 720x648 with 0 Axes>"
      ]
     },
     "metadata": {},
     "output_type": "display_data"
    },
    {
     "data": {
      "text/plain": [
       "<Figure size 720x648 with 0 Axes>"
      ]
     },
     "metadata": {},
     "output_type": "display_data"
    },
    {
     "data": {
      "text/plain": [
       "<Figure size 720x648 with 0 Axes>"
      ]
     },
     "metadata": {},
     "output_type": "display_data"
    },
    {
     "data": {
      "text/plain": [
       "<Figure size 720x648 with 0 Axes>"
      ]
     },
     "metadata": {},
     "output_type": "display_data"
    },
    {
     "data": {
      "text/plain": [
       "<Figure size 720x648 with 0 Axes>"
      ]
     },
     "metadata": {},
     "output_type": "display_data"
    },
    {
     "data": {
      "text/plain": [
       "<Figure size 720x648 with 0 Axes>"
      ]
     },
     "metadata": {},
     "output_type": "display_data"
    },
    {
     "data": {
      "text/plain": [
       "<Figure size 720x648 with 0 Axes>"
      ]
     },
     "metadata": {},
     "output_type": "display_data"
    },
    {
     "data": {
      "text/plain": [
       "<Figure size 720x648 with 0 Axes>"
      ]
     },
     "metadata": {},
     "output_type": "display_data"
    },
    {
     "data": {
      "text/plain": [
       "<Figure size 720x648 with 0 Axes>"
      ]
     },
     "metadata": {},
     "output_type": "display_data"
    },
    {
     "data": {
      "text/plain": [
       "<Figure size 720x648 with 0 Axes>"
      ]
     },
     "metadata": {},
     "output_type": "display_data"
    },
    {
     "data": {
      "text/plain": [
       "<Figure size 720x648 with 0 Axes>"
      ]
     },
     "metadata": {},
     "output_type": "display_data"
    },
    {
     "data": {
      "text/plain": [
       "<Figure size 720x648 with 0 Axes>"
      ]
     },
     "metadata": {},
     "output_type": "display_data"
    },
    {
     "data": {
      "text/plain": [
       "<Figure size 720x648 with 0 Axes>"
      ]
     },
     "metadata": {},
     "output_type": "display_data"
    },
    {
     "data": {
      "text/plain": [
       "<Figure size 720x648 with 0 Axes>"
      ]
     },
     "metadata": {},
     "output_type": "display_data"
    },
    {
     "data": {
      "text/plain": [
       "<Figure size 720x648 with 0 Axes>"
      ]
     },
     "metadata": {},
     "output_type": "display_data"
    },
    {
     "data": {
      "text/plain": [
       "<Figure size 720x648 with 0 Axes>"
      ]
     },
     "metadata": {},
     "output_type": "display_data"
    },
    {
     "data": {
      "text/plain": [
       "<Figure size 720x648 with 0 Axes>"
      ]
     },
     "metadata": {},
     "output_type": "display_data"
    },
    {
     "data": {
      "text/plain": [
       "<Figure size 720x648 with 0 Axes>"
      ]
     },
     "metadata": {},
     "output_type": "display_data"
    },
    {
     "data": {
      "text/plain": [
       "<Figure size 720x648 with 0 Axes>"
      ]
     },
     "metadata": {},
     "output_type": "display_data"
    },
    {
     "data": {
      "text/plain": [
       "<Figure size 720x648 with 0 Axes>"
      ]
     },
     "metadata": {},
     "output_type": "display_data"
    },
    {
     "data": {
      "text/plain": [
       "<Figure size 720x648 with 0 Axes>"
      ]
     },
     "metadata": {},
     "output_type": "display_data"
    },
    {
     "data": {
      "text/plain": [
       "<Figure size 720x648 with 0 Axes>"
      ]
     },
     "metadata": {},
     "output_type": "display_data"
    },
    {
     "data": {
      "text/plain": [
       "<Figure size 720x648 with 0 Axes>"
      ]
     },
     "metadata": {},
     "output_type": "display_data"
    },
    {
     "data": {
      "text/plain": [
       "<Figure size 720x648 with 0 Axes>"
      ]
     },
     "metadata": {},
     "output_type": "display_data"
    },
    {
     "data": {
      "text/plain": [
       "<Figure size 720x648 with 0 Axes>"
      ]
     },
     "metadata": {},
     "output_type": "display_data"
    },
    {
     "data": {
      "text/plain": [
       "<Figure size 720x648 with 0 Axes>"
      ]
     },
     "metadata": {},
     "output_type": "display_data"
    },
    {
     "data": {
      "text/plain": [
       "<Figure size 720x648 with 0 Axes>"
      ]
     },
     "metadata": {},
     "output_type": "display_data"
    },
    {
     "data": {
      "text/plain": [
       "<Figure size 720x648 with 0 Axes>"
      ]
     },
     "metadata": {},
     "output_type": "display_data"
    },
    {
     "data": {
      "text/plain": [
       "<Figure size 720x648 with 0 Axes>"
      ]
     },
     "metadata": {},
     "output_type": "display_data"
    },
    {
     "data": {
      "text/plain": [
       "<Figure size 720x648 with 0 Axes>"
      ]
     },
     "metadata": {},
     "output_type": "display_data"
    }
   ],
   "source": [
    "for s_proj in qs[\"seir\"].sigma_proj.values:\n",
    "    for L in qs[\"seir\"].LHS.values:\n",
    "        this_ds = xr.concat(\n",
    "            [\n",
    "                qs[\"true\"].drop(\"E\"), \n",
    "                qs[\"sir\"].sel(LHS=L), \n",
    "                qs[\"seir\"].sel(LHS=L).sel(sigma_proj=s_proj).drop(\"E\")\n",
    "            ], \n",
    "            dim=\"model\",\n",
    "        )\n",
    "        this_ds[\"model\"] = [\"true\", \"sir\", \"seir\"]\n",
    "        for p in qs[\"seir\"].pop.values:\n",
    "            \n",
    "            g = xr.plot.FacetGrid(this_ds.sel(pop=p), col=\"gamma\", row=\"sigma\")\n",
    "            colors = \"rgb\"\n",
    "            def plot_ranges(data):\n",
    "                for mx,m in enumerate(this_ds.model):\n",
    "                    # get this particular model\n",
    "                    this_data = data[mx]\n",
    "\n",
    "                    # get diff in policy vs. no policy\n",
    "                    this_data = this_data[:,0] - this_data[:,1]\n",
    "\n",
    "                    # plot quantile diffs\n",
    "                    if m.item()==\"true\":\n",
    "                        alpha=1\n",
    "                    else:\n",
    "                        alpha=.5\n",
    "\n",
    "                    if m.item()==\"seir\":\n",
    "                        label = f\"SEIR ($\\gamma_{{proj}} = {s_proj:.2f}$)\"\n",
    "                    elif m.item()==\"sir\":\n",
    "                        label = \"SIR\"\n",
    "                    else:\n",
    "                        label = \"true\"\n",
    "                    plt.fill_between(this_ds.t.values, this_data[0], this_data[-1], label=label, color=colors[mx], alpha=alpha)\n",
    "            g.map(plot_ranges, \"IR\")\n",
    "            g.axes.flat[0].legend(loc=\"upper left\")\n",
    "            g.set_xlabels(\"\")\n",
    "            g.set_titles(\"$\\{coord}$ = {value}\")\n",
    "            g.fig.suptitle(f\"LHS: {L}, Pop: {p:.0g}\", va=\"bottom\", y=0.99)\n",
    "            g.fig.savefig(plot_dir / f\"IR_timeseries_pop_{p}_LHS_{L}_sigmaProj_{s_proj}.pdf\", dpi=300)\n",
    "            plt.clf()"
   ]
  },
  {
   "cell_type": "markdown",
   "metadata": {},
   "source": [
    "## Endemic state values"
   ]
  },
  {
   "cell_type": "markdown",
   "metadata": {},
   "source": [
    "The below plots show how the estimated difference in cumulative cases at the endemic steady state (between policy and no-policy scenarios) differs across different epi parameters and different simulation engines (SIR vs. SEIR)."
   ]
  },
  {
   "cell_type": "code",
   "execution_count": 55,
   "metadata": {},
   "outputs": [],
   "source": [
    "LHS_to_plot = [\"I\", \"IR\"]\n",
    "\n",
    "this_true = means[\"true\"].sel(with_policy=0) - means[\"true\"].sel(with_policy=1)\n",
    "this_true = this_true.cum_cases_steady_state\n",
    "\n",
    "seirs = []\n",
    "for s_proj in means[\"seir\"].sigma_proj:\n",
    "    this_pred_seir = means[\"seir\"].sel(with_policy=0) - means[\"seir\"].sel(with_policy=1)\n",
    "    this_pred_seir = this_pred_seir.cum_cases_steady_state.sel(sigma_proj=s_proj).drop(\"sigma_proj\")\n",
    "    seirs.append(this_pred_seir)\n",
    "\n",
    "this_pred_sir = means[\"sir\"].sel(with_policy=0) - means[\"sir\"].sel(with_policy=1)\n",
    "this_pred_sir = this_pred_sir.cum_cases_steady_state\n",
    "\n",
    "plot_ds = xr.concat([this_true, this_pred_sir] + seirs, dim=\"model\").mean(\"pop\")\n",
    "plot_ds[\"model\"] = [\"true\", \"SIR\"] + [f\"SEIR_{i:.2f}\" for i in means[\"seir\"].sigma_proj.values]\n",
    "\n",
    "plot_ds = plot_ds.sel(LHS=LHS_to_plot)\n",
    "plot_df = plot_ds.to_dataframe().reset_index(drop=False)"
   ]
  },
  {
   "cell_type": "code",
   "execution_count": 57,
   "metadata": {},
   "outputs": [
    {
     "data": {
      "text/plain": [
       "<seaborn.axisgrid.FacetGrid at 0x7f00fc0d4b50>"
      ]
     },
     "execution_count": 57,
     "metadata": {},
     "output_type": "execute_result"
    },
    {
     "data": {
      "image/png": "[encoded data removed]",
      "text/plain": [
       "<Figure size 1155.55x1080 with 9 Axes>"
      ]
     },
     "metadata": {},
     "output_type": "display_data"
    }
   ],
   "source": [
    "sns.catplot(data=plot_df, row=\"sigma\", col=\"gamma\", x=\"LHS\", hue=\"model\", y=\"cum_cases_steady_state\", kind=\"bar\")"
   ]
  }
 ],
 "metadata": {
  "kernelspec": {
   "display_name": "Python [conda env:gpl-covid]",
   "language": "python",
   "name": "conda-env-gpl-covid-py"
  },
  "language_info": {
   "codemirror_mode": {
    "name": "ipython",
    "version": 3
   },
   "file_extension": ".py",
   "mimetype": "text/x-python",
   "name": "python",
   "nbconvert_exporter": "python",
   "pygments_lexer": "ipython3",
   "version": "3.7.6"
  }
 },
 "nbformat": 4,
 "nbformat_minor": 4
}
