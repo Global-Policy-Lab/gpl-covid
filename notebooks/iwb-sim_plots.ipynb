{
 "cells": [
  {
   "cell_type": "code",
   "execution_count": 272,
   "metadata": {},
   "outputs": [
    {
     "name": "stdout",
     "output_type": "stream",
     "text": [
      "The autoreload extension is already loaded. To reload it, use:\n",
      "  %reload_ext autoreload\n"
     ]
    }
   ],
   "source": [
    "%load_ext autoreload\n",
    "%autoreload 2\n",
    "\n",
    "import xarray as xr\n",
    "import numpy as np\n",
    "import seaborn as sns\n",
    "import matplotlib.pyplot as plt\n",
    "import matplotlib as mpl\n",
    "from codes import utils as cutil\n",
    "from codes.models import epi\n",
    "import warnings\n",
    "\n",
    "sns.set(context=\"paper\", style=\"ticks\", font_scale=.65)\n",
    "mpl.rc('figure', max_open_warning = 0)\n",
    "\n",
    "## settings\n",
    "bn = \"Exp\"\n",
    "sn = 0\n",
    "gn = 0\n",
    "\n",
    "dirname_sim = f\"betaNoise_{bn}_gammaNoise_{gn}_sigmaNoise_{sn}\"\n",
    "out_home = cutil.RESULTS / \"other\" / \"sims\" / dirname_sim\n",
    "plot_dir = cutil.RESULTS / \"figures\" / \"appendix\" / \"sims\"\n",
    "plot_dir.mkdir(exist_ok=True)"
   ]
  },
  {
   "cell_type": "markdown",
   "metadata": {},
   "source": [
    "## Plotting econometric model robustness"
   ]
  },
  {
   "cell_type": "code",
   "execution_count": 273,
   "metadata": {},
   "outputs": [],
   "source": [
    "sir_dir = out_home / \"SIR\" / \"regression\"\n",
    "\n",
    "cols_to_keep = [\"Intercept\", \"S_min\", \"S_min_p3\", \"effect_true\", \"intercept_true\"]\n",
    "\n",
    "reg_res_sir = epi.load_reg_results(sir_dir)\n",
    "reg_res_sir[\"sigma\"] = [np.inf]\n",
    "coeffs_sir = reg_res_sir[cols_to_keep].merge(reg_res_sir.coefficient.sum(\"reg_lag\", skipna=False))\n",
    "\n",
    "seir_dir = out_home / \"SEIR\" / \"regression\"\n",
    "reg_res_seir = epi.load_reg_results(seir_dir)\n",
    "coeffs_seir = reg_res_seir[cols_to_keep].merge(reg_res_seir.coefficient.sum(\"reg_lag\", skipna=False))\n",
    "\n",
    "coeffs = xr.concat([coeffs_seir, coeffs_sir], dim=\"sigma\")\n",
    "coeffs.attrs = reg_res.attrs\n",
    "\n",
    "coeffs = coeffs.rename({\n",
    "    \"Intercept\": \"intercept\",\n",
    "    \"effect_true\": \"coefficient_true\"\n",
    "})\n",
    "\n",
    "# rearrange to get cum_effects in there too\n",
    "new_coeffs = coeffs.drop_dims(\"policy\").drop([\"intercept\", \"intercept_true\"]).copy()\n",
    "coeffs[\"cum_effect\"] = coeffs.coefficient.sum(dim=\"policy\", skipna=False)\n",
    "coeffs[\"cum_effect_true\"] = coeffs.coefficient_true.sum(dim=\"policy\", skipna=False)\n",
    "new_var = coeffs[[\"intercept_true\", \"cum_effect_true\"]].rename({\n",
    "    \"intercept_true\": \"intercept\",\n",
    "    \"cum_effect_true\": \"cum_effect\"\n",
    "}).to_array(dim=\"policy\")\n",
    "coefficient_true = xr.concat((coeffs.coefficient_true, new_var), dim=\"policy\")\n",
    "new_var = coeffs[[\"intercept\", \"cum_effect\"]].to_array(dim=\"policy\")\n",
    "coefficient = xr.concat((coeffs.coefficient, new_var), dim=\"policy\")\n",
    "coeffs = xr.merge((new_coeffs, coefficient, coefficient_true))\n",
    "\n",
    "coeffs = coeffs.sortby([\"sigma\",\"pop\"])"
   ]
  },
  {
   "cell_type": "code",
   "execution_count": 213,
   "metadata": {},
   "outputs": [
    {
     "data": {
      "text/html": [
       "<div><svg style=\"position: absolute; width: 0; height: 0; overflow: hidden\">\n",
       "<defs>\n",
       "<symbol id=\"icon-database\" viewBox=\"0 0 32 32\">\n",
       "<title>Show/Hide data repr</title>\n",
       "<path d=\"M16 0c-8.837 0-16 2.239-16 5v4c0 2.761 7.163 5 16 5s16-2.239 16-5v-4c0-2.761-7.163-5-16-5z\"></path>\n",
       "<path d=\"M16 17c-8.837 0-16-2.239-16-5v6c0 2.761 7.163 5 16 5s16-2.239 16-5v-6c0 2.761-7.163 5-16 5z\"></path>\n",
       "<path d=\"M16 26c-8.837 0-16-2.239-16-5v6c0 2.761 7.163 5 16 5s16-2.239 16-5v-6c0 2.761-7.163 5-16 5z\"></path>\n",
       "</symbol>\n",
       "<symbol id=\"icon-file-text2\" viewBox=\"0 0 32 32\">\n",
       "<title>Show/Hide attributes</title>\n",
       "<path d=\"M28.681 7.159c-0.694-0.947-1.662-2.053-2.724-3.116s-2.169-2.030-3.116-2.724c-1.612-1.182-2.393-1.319-2.841-1.319h-15.5c-1.378 0-2.5 1.121-2.5 2.5v27c0 1.378 1.122 2.5 2.5 2.5h23c1.378 0 2.5-1.122 2.5-2.5v-19.5c0-0.448-0.137-1.23-1.319-2.841zM24.543 5.457c0.959 0.959 1.712 1.825 2.268 2.543h-4.811v-4.811c0.718 0.556 1.584 1.309 2.543 2.268zM28 29.5c0 0.271-0.229 0.5-0.5 0.5h-23c-0.271 0-0.5-0.229-0.5-0.5v-27c0-0.271 0.229-0.5 0.5-0.5 0 0 15.499-0 15.5 0v7c0 0.552 0.448 1 1 1h7v19.5z\"></path>\n",
       "<path d=\"M23 26h-14c-0.552 0-1-0.448-1-1s0.448-1 1-1h14c0.552 0 1 0.448 1 1s-0.448 1-1 1z\"></path>\n",
       "<path d=\"M23 22h-14c-0.552 0-1-0.448-1-1s0.448-1 1-1h14c0.552 0 1 0.448 1 1s-0.448 1-1 1z\"></path>\n",
       "<path d=\"M23 18h-14c-0.552 0-1-0.448-1-1s0.448-1 1-1h14c0.552 0 1 0.448 1 1s-0.448 1-1 1z\"></path>\n",
       "</symbol>\n",
       "</defs>\n",
       "</svg>\n",
       "<style>/* CSS stylesheet for displaying xarray objects in jupyterlab.\n",
       " *\n",
       " */\n",
       "\n",
       ":root {\n",
       "  --xr-font-color0: var(--jp-content-font-color0, rgba(0, 0, 0, 1));\n",
       "  --xr-font-color2: var(--jp-content-font-color2, rgba(0, 0, 0, 0.54));\n",
       "  --xr-font-color3: var(--jp-content-font-color3, rgba(0, 0, 0, 0.38));\n",
       "  --xr-border-color: var(--jp-border-color2, #e0e0e0);\n",
       "  --xr-disabled-color: var(--jp-layout-color3, #bdbdbd);\n",
       "  --xr-background-color: var(--jp-layout-color0, white);\n",
       "  --xr-background-color-row-even: var(--jp-layout-color1, white);\n",
       "  --xr-background-color-row-odd: var(--jp-layout-color2, #eeeeee);\n",
       "}\n",
       "\n",
       ".xr-wrap {\n",
       "  min-width: 300px;\n",
       "  max-width: 700px;\n",
       "}\n",
       "\n",
       ".xr-header {\n",
       "  padding-top: 6px;\n",
       "  padding-bottom: 6px;\n",
       "  margin-bottom: 4px;\n",
       "  border-bottom: solid 1px var(--xr-border-color);\n",
       "}\n",
       "\n",
       ".xr-header > div,\n",
       ".xr-header > ul {\n",
       "  display: inline;\n",
       "  margin-top: 0;\n",
       "  margin-bottom: 0;\n",
       "}\n",
       "\n",
       ".xr-obj-type,\n",
       ".xr-array-name {\n",
       "  margin-left: 2px;\n",
       "  margin-right: 10px;\n",
       "}\n",
       "\n",
       ".xr-obj-type {\n",
       "  color: var(--xr-font-color2);\n",
       "}\n",
       "\n",
       ".xr-sections {\n",
       "  padding-left: 0 !important;\n",
       "  display: grid;\n",
       "  grid-template-columns: 150px auto auto 1fr 20px 20px;\n",
       "}\n",
       "\n",
       ".xr-section-item {\n",
       "  display: contents;\n",
       "}\n",
       "\n",
       ".xr-section-item input {\n",
       "  display: none;\n",
       "}\n",
       "\n",
       ".xr-section-item input + label {\n",
       "  color: var(--xr-disabled-color);\n",
       "}\n",
       "\n",
       ".xr-section-item input:enabled + label {\n",
       "  cursor: pointer;\n",
       "  color: var(--xr-font-color2);\n",
       "}\n",
       "\n",
       ".xr-section-item input:enabled + label:hover {\n",
       "  color: var(--xr-font-color0);\n",
       "}\n",
       "\n",
       ".xr-section-summary {\n",
       "  grid-column: 1;\n",
       "  color: var(--xr-font-color2);\n",
       "  font-weight: 500;\n",
       "}\n",
       "\n",
       ".xr-section-summary > span {\n",
       "  display: inline-block;\n",
       "  padding-left: 0.5em;\n",
       "}\n",
       "\n",
       ".xr-section-summary-in:disabled + label {\n",
       "  color: var(--xr-font-color2);\n",
       "}\n",
       "\n",
       ".xr-section-summary-in + label:before {\n",
       "  display: inline-block;\n",
       "  content: '►';\n",
       "  font-size: 11px;\n",
       "  width: 15px;\n",
       "  text-align: center;\n",
       "}\n",
       "\n",
       ".xr-section-summary-in:disabled + label:before {\n",
       "  color: var(--xr-disabled-color);\n",
       "}\n",
       "\n",
       ".xr-section-summary-in:checked + label:before {\n",
       "  content: '▼';\n",
       "}\n",
       "\n",
       ".xr-section-summary-in:checked + label > span {\n",
       "  display: none;\n",
       "}\n",
       "\n",
       ".xr-section-summary,\n",
       ".xr-section-inline-details {\n",
       "  padding-top: 4px;\n",
       "  padding-bottom: 4px;\n",
       "}\n",
       "\n",
       ".xr-section-inline-details {\n",
       "  grid-column: 2 / -1;\n",
       "}\n",
       "\n",
       ".xr-section-details {\n",
       "  display: none;\n",
       "  grid-column: 1 / -1;\n",
       "  margin-bottom: 5px;\n",
       "}\n",
       "\n",
       ".xr-section-summary-in:checked ~ .xr-section-details {\n",
       "  display: contents;\n",
       "}\n",
       "\n",
       ".xr-array-wrap {\n",
       "  grid-column: 1 / -1;\n",
       "  display: grid;\n",
       "  grid-template-columns: 20px auto;\n",
       "}\n",
       "\n",
       ".xr-array-wrap > label {\n",
       "  grid-column: 1;\n",
       "  vertical-align: top;\n",
       "}\n",
       "\n",
       ".xr-preview {\n",
       "  color: var(--xr-font-color3);\n",
       "}\n",
       "\n",
       ".xr-array-preview,\n",
       ".xr-array-data {\n",
       "  padding: 0 5px !important;\n",
       "  grid-column: 2;\n",
       "}\n",
       "\n",
       ".xr-array-data,\n",
       ".xr-array-in:checked ~ .xr-array-preview {\n",
       "  display: none;\n",
       "}\n",
       "\n",
       ".xr-array-in:checked ~ .xr-array-data,\n",
       ".xr-array-preview {\n",
       "  display: inline-block;\n",
       "}\n",
       "\n",
       ".xr-dim-list {\n",
       "  display: inline-block !important;\n",
       "  list-style: none;\n",
       "  padding: 0 !important;\n",
       "  margin: 0;\n",
       "}\n",
       "\n",
       ".xr-dim-list li {\n",
       "  display: inline-block;\n",
       "  padding: 0;\n",
       "  margin: 0;\n",
       "}\n",
       "\n",
       ".xr-dim-list:before {\n",
       "  content: '(';\n",
       "}\n",
       "\n",
       ".xr-dim-list:after {\n",
       "  content: ')';\n",
       "}\n",
       "\n",
       ".xr-dim-list li:not(:last-child):after {\n",
       "  content: ',';\n",
       "  padding-right: 5px;\n",
       "}\n",
       "\n",
       ".xr-has-index {\n",
       "  font-weight: bold;\n",
       "}\n",
       "\n",
       ".xr-var-list,\n",
       ".xr-var-item {\n",
       "  display: contents;\n",
       "}\n",
       "\n",
       ".xr-var-item > div,\n",
       ".xr-var-item label,\n",
       ".xr-var-item > .xr-var-name span {\n",
       "  background-color: var(--xr-background-color-row-even);\n",
       "  margin-bottom: 0;\n",
       "}\n",
       "\n",
       ".xr-var-item > .xr-var-name:hover span {\n",
       "  padding-right: 5px;\n",
       "}\n",
       "\n",
       ".xr-var-list > li:nth-child(odd) > div,\n",
       ".xr-var-list > li:nth-child(odd) > label,\n",
       ".xr-var-list > li:nth-child(odd) > .xr-var-name span {\n",
       "  background-color: var(--xr-background-color-row-odd);\n",
       "}\n",
       "\n",
       ".xr-var-name {\n",
       "  grid-column: 1;\n",
       "}\n",
       "\n",
       ".xr-var-dims {\n",
       "  grid-column: 2;\n",
       "}\n",
       "\n",
       ".xr-var-dtype {\n",
       "  grid-column: 3;\n",
       "  text-align: right;\n",
       "  color: var(--xr-font-color2);\n",
       "}\n",
       "\n",
       ".xr-var-preview {\n",
       "  grid-column: 4;\n",
       "}\n",
       "\n",
       ".xr-var-name,\n",
       ".xr-var-dims,\n",
       ".xr-var-dtype,\n",
       ".xr-preview,\n",
       ".xr-attrs dt {\n",
       "  white-space: nowrap;\n",
       "  overflow: hidden;\n",
       "  text-overflow: ellipsis;\n",
       "  padding-right: 10px;\n",
       "}\n",
       "\n",
       ".xr-var-name:hover,\n",
       ".xr-var-dims:hover,\n",
       ".xr-var-dtype:hover,\n",
       ".xr-attrs dt:hover {\n",
       "  overflow: visible;\n",
       "  width: auto;\n",
       "  z-index: 1;\n",
       "}\n",
       "\n",
       ".xr-var-attrs,\n",
       ".xr-var-data {\n",
       "  display: none;\n",
       "  background-color: var(--xr-background-color) !important;\n",
       "  padding-bottom: 5px !important;\n",
       "}\n",
       "\n",
       ".xr-var-attrs-in:checked ~ .xr-var-attrs,\n",
       ".xr-var-data-in:checked ~ .xr-var-data {\n",
       "  display: block;\n",
       "}\n",
       "\n",
       ".xr-var-data > table {\n",
       "  float: right;\n",
       "}\n",
       "\n",
       ".xr-var-name span,\n",
       ".xr-var-data,\n",
       ".xr-attrs {\n",
       "  padding-left: 25px !important;\n",
       "}\n",
       "\n",
       ".xr-attrs,\n",
       ".xr-var-attrs,\n",
       ".xr-var-data {\n",
       "  grid-column: 1 / -1;\n",
       "}\n",
       "\n",
       "dl.xr-attrs {\n",
       "  padding: 0;\n",
       "  margin: 0;\n",
       "  display: grid;\n",
       "  grid-template-columns: 125px auto;\n",
       "}\n",
       "\n",
       ".xr-attrs dt, dd {\n",
       "  padding: 0;\n",
       "  margin: 0;\n",
       "  float: left;\n",
       "  padding-right: 10px;\n",
       "  width: auto;\n",
       "}\n",
       "\n",
       ".xr-attrs dt {\n",
       "  font-weight: normal;\n",
       "  grid-column: 1;\n",
       "}\n",
       "\n",
       ".xr-attrs dt:hover span {\n",
       "  display: inline-block;\n",
       "  background: var(--xr-background-color);\n",
       "  padding-right: 10px;\n",
       "}\n",
       "\n",
       ".xr-attrs dd {\n",
       "  grid-column: 2;\n",
       "  white-space: pre-wrap;\n",
       "  word-break: break-all;\n",
       "}\n",
       "\n",
       ".xr-icon-database,\n",
       ".xr-icon-file-text2 {\n",
       "  display: inline-block;\n",
       "  vertical-align: middle;\n",
       "  width: 1em;\n",
       "  height: 1.5em !important;\n",
       "  stroke-width: 0;\n",
       "  stroke: currentColor;\n",
       "  fill: currentColor;\n",
       "}\n",
       "</style><div class='xr-wrap'><div class='xr-header'><div class='xr-obj-type'>xarray.Dataset</div></div><ul class='xr-sections'><li class='xr-section-item'><input id='section-bd2b7172-2ea5-4ed6-b40c-3fb7e8bf92e3' class='xr-section-summary-in' type='checkbox' disabled ><label for='section-bd2b7172-2ea5-4ed6-b40c-3fb7e8bf92e3' class='xr-section-summary'  title='Expand/collapse section'>Dimensions:</label><div class='xr-section-inline-details'><ul class='xr-dim-list'><li><span class='xr-has-index'>LHS</span>: 4</li><li><span class='xr-has-index'>gamma</span>: 3</li><li><span class='xr-has-index'>pop</span>: 4</li><li><span class='xr-has-index'>sample</span>: 1000</li><li><span class='xr-has-index'>sigma</span>: 4</li></ul></div><div class='xr-section-details'></div></li><li class='xr-section-item'><input id='section-96c69438-4ef1-4ca1-a545-eb251bb1042e' class='xr-section-summary-in' type='checkbox'  checked><label for='section-96c69438-4ef1-4ca1-a545-eb251bb1042e' class='xr-section-summary' >Coordinates: <span>(6)</span></label><div class='xr-section-inline-details'></div><div class='xr-section-details'><ul class='xr-var-list'><li class='xr-var-item'><div class='xr-var-name'><span class='xr-has-index'>pop</span></div><div class='xr-var-dims'>(pop)</div><div class='xr-var-dtype'>int64</div><div class='xr-var-preview xr-preview'>100000 1000000 10000000 100000000</div><input id='attrs-6e4279ba-bb22-44bd-a3e2-70ca82d1e541' class='xr-var-attrs-in' type='checkbox' disabled><label for='attrs-6e4279ba-bb22-44bd-a3e2-70ca82d1e541' title='Show/Hide attributes'><svg class='icon xr-icon-file-text2'><use xlink:href='#icon-file-text2'></use></svg></label><input id='data-9f9df79a-38cf-4ecd-8cb8-6ed51e6f14bd' class='xr-var-data-in' type='checkbox'><label for='data-9f9df79a-38cf-4ecd-8cb8-6ed51e6f14bd' title='Show/Hide data repr'><svg class='icon xr-icon-database'><use xlink:href='#icon-database'></use></svg></label><div class='xr-var-attrs'><dl class='xr-attrs'></dl></div><pre class='xr-var-data'>array([   100000,   1000000,  10000000, 100000000])</pre></li><li class='xr-var-item'><div class='xr-var-name'><span class='xr-has-index'>gamma</span></div><div class='xr-var-dims'>(gamma)</div><div class='xr-var-dtype'>float64</div><div class='xr-var-preview xr-preview'>0.002083 0.008333 0.01375</div><input id='attrs-e121d42a-ac01-4116-bd62-fde0e1579d49' class='xr-var-attrs-in' type='checkbox' disabled><label for='attrs-e121d42a-ac01-4116-bd62-fde0e1579d49' title='Show/Hide attributes'><svg class='icon xr-icon-file-text2'><use xlink:href='#icon-file-text2'></use></svg></label><input id='data-db7919f0-4ce5-4224-af4e-3c2cd9f37f19' class='xr-var-data-in' type='checkbox'><label for='data-db7919f0-4ce5-4224-af4e-3c2cd9f37f19' title='Show/Hide data repr'><svg class='icon xr-icon-database'><use xlink:href='#icon-database'></use></svg></label><div class='xr-var-attrs'><dl class='xr-attrs'></dl></div><pre class='xr-var-data'>array([0.002083, 0.008333, 0.01375 ])</pre></li><li class='xr-var-item'><div class='xr-var-name'><span class='xr-has-index'>sample</span></div><div class='xr-var-dims'>(sample)</div><div class='xr-var-dtype'>int64</div><div class='xr-var-preview xr-preview'>0 1 2 3 4 5 ... 995 996 997 998 999</div><input id='attrs-ce82d84d-ebc8-49c9-8373-1557abf5e241' class='xr-var-attrs-in' type='checkbox' disabled><label for='attrs-ce82d84d-ebc8-49c9-8373-1557abf5e241' title='Show/Hide attributes'><svg class='icon xr-icon-file-text2'><use xlink:href='#icon-file-text2'></use></svg></label><input id='data-34040dba-9015-43ba-9b67-8919aec516b0' class='xr-var-data-in' type='checkbox'><label for='data-34040dba-9015-43ba-9b67-8919aec516b0' title='Show/Hide data repr'><svg class='icon xr-icon-database'><use xlink:href='#icon-database'></use></svg></label><div class='xr-var-attrs'><dl class='xr-attrs'></dl></div><pre class='xr-var-data'>array([  0,   1,   2, ..., 997, 998, 999])</pre></li><li class='xr-var-item'><div class='xr-var-name'><span class='xr-has-index'>LHS</span></div><div class='xr-var-dims'>(LHS)</div><div class='xr-var-dtype'>object</div><div class='xr-var-preview xr-preview'>&#x27;EI&#x27; &#x27;EIR&#x27; &#x27;I&#x27; &#x27;IR&#x27;</div><input id='attrs-53fe08c6-2de8-4f8d-9880-591167138adb' class='xr-var-attrs-in' type='checkbox' disabled><label for='attrs-53fe08c6-2de8-4f8d-9880-591167138adb' title='Show/Hide attributes'><svg class='icon xr-icon-file-text2'><use xlink:href='#icon-file-text2'></use></svg></label><input id='data-bd7a2cd0-232c-45af-b488-cf222c241e55' class='xr-var-data-in' type='checkbox'><label for='data-bd7a2cd0-232c-45af-b488-cf222c241e55' title='Show/Hide data repr'><svg class='icon xr-icon-database'><use xlink:href='#icon-database'></use></svg></label><div class='xr-var-attrs'><dl class='xr-attrs'></dl></div><pre class='xr-var-data'>array([&#x27;EI&#x27;, &#x27;EIR&#x27;, &#x27;I&#x27;, &#x27;IR&#x27;], dtype=object)</pre></li><li class='xr-var-item'><div class='xr-var-name'><span class='xr-has-index'>sigma</span></div><div class='xr-var-dims'>(sigma)</div><div class='xr-var-dtype'>float64</div><div class='xr-var-preview xr-preview'>0.008333 0.01375 0.02083 inf</div><input id='attrs-0a4e6d71-bf6c-47ab-a321-828547e0c806' class='xr-var-attrs-in' type='checkbox' disabled><label for='attrs-0a4e6d71-bf6c-47ab-a321-828547e0c806' title='Show/Hide attributes'><svg class='icon xr-icon-file-text2'><use xlink:href='#icon-file-text2'></use></svg></label><input id='data-b74989a6-3d64-477a-9e5d-9707e3e99afa' class='xr-var-data-in' type='checkbox'><label for='data-b74989a6-3d64-477a-9e5d-9707e3e99afa' title='Show/Hide data repr'><svg class='icon xr-icon-database'><use xlink:href='#icon-database'></use></svg></label><div class='xr-var-attrs'><dl class='xr-attrs'></dl></div><pre class='xr-var-data'>array([0.008333, 0.01375 , 0.020833,      inf])</pre></li><li class='xr-var-item'><div class='xr-var-name'><span>policy</span></div><div class='xr-var-dims'>()</div><div class='xr-var-dtype'>&lt;U2</div><div class='xr-var-preview xr-preview'>&#x27;p1&#x27;</div><input id='attrs-c7feff76-cf2c-43c1-8d5b-8b3d6cb4f8d7' class='xr-var-attrs-in' type='checkbox' disabled><label for='attrs-c7feff76-cf2c-43c1-8d5b-8b3d6cb4f8d7' title='Show/Hide attributes'><svg class='icon xr-icon-file-text2'><use xlink:href='#icon-file-text2'></use></svg></label><input id='data-eb59d618-5a13-4bac-83d6-967b7d3645f8' class='xr-var-data-in' type='checkbox'><label for='data-eb59d618-5a13-4bac-83d6-967b7d3645f8' title='Show/Hide data repr'><svg class='icon xr-icon-database'><use xlink:href='#icon-database'></use></svg></label><div class='xr-var-attrs'><dl class='xr-attrs'></dl></div><pre class='xr-var-data'>array(&#x27;p1&#x27;, dtype=&#x27;&lt;U2&#x27;)</pre></li></ul></div></li><li class='xr-section-item'><input id='section-7fd04516-e53e-4b9d-bad2-cededd4cb2f6' class='xr-section-summary-in' type='checkbox'  checked><label for='section-7fd04516-e53e-4b9d-bad2-cededd4cb2f6' class='xr-section-summary' >Data variables: <span>(4)</span></label><div class='xr-section-inline-details'></div><div class='xr-section-details'><ul class='xr-var-list'><li class='xr-var-item'><div class='xr-var-name'><span>S_min</span></div><div class='xr-var-dims'>(pop, sample, gamma, sigma)</div><div class='xr-var-dtype'>float64</div><div class='xr-var-preview xr-preview'>0.9716 0.9578 0.9589 ... 1.0 0.9999</div><input id='attrs-d13f4cf9-0da0-4f85-8895-1a07b074c251' class='xr-var-attrs-in' type='checkbox' disabled><label for='attrs-d13f4cf9-0da0-4f85-8895-1a07b074c251' title='Show/Hide attributes'><svg class='icon xr-icon-file-text2'><use xlink:href='#icon-file-text2'></use></svg></label><input id='data-f33106b6-7c98-41b1-933a-739dbb25cbb5' class='xr-var-data-in' type='checkbox'><label for='data-f33106b6-7c98-41b1-933a-739dbb25cbb5' title='Show/Hide data repr'><svg class='icon xr-icon-database'><use xlink:href='#icon-database'></use></svg></label><div class='xr-var-attrs'><dl class='xr-attrs'></dl></div><pre class='xr-var-data'>array([[[[0.97163581, 0.95781358, 0.9589308 , 0.90315641],\n",
       "         [0.95568962, 0.95106035, 0.90541638, 0.91622165],\n",
       "         [0.91996859, 0.88576496, 0.9256259 , 0.92514087]],\n",
       "\n",
       "        [[0.96950797, 0.95044128, 0.9651873 , 0.95871753],\n",
       "         [0.94020327, 0.93014315, 0.91231751, 0.89486204],\n",
       "         [0.94792487, 0.91898849, 0.88381037, 0.87108144]],\n",
       "\n",
       "        [[0.98780958, 0.99074235, 0.98951363, 0.97892468],\n",
       "         [0.97736386, 0.97333149, 0.97328021, 0.94230297],\n",
       "         [0.98358372, 0.97146093, 0.93987148, 0.9706045 ]],\n",
       "\n",
       "        ...,\n",
       "\n",
       "        [[0.93263592, 0.9039358 , 0.90859354, 0.79222729],\n",
       "         [0.89291903, 0.87529357, 0.80419639, 0.74326065],\n",
       "         [0.81403024, 0.89366464, 0.81104221, 0.71480231]],\n",
       "\n",
       "        [[0.94994158, 0.93517882, 0.95949421, 0.88992224],\n",
       "         [0.90882111, 0.91155624, 0.86636299, 0.85916572],\n",
       "         [0.88150628, 0.8365079 , 0.82050221, 0.93301271]],\n",
       "\n",
       "        [[0.9887562 , 0.98835056, 0.98051516, 0.98302278],\n",
       "         [0.98403245, 0.98039543, 0.96096836, 0.95624099],\n",
       "         [0.98252845, 0.96803664, 0.97600619, 0.95300146]]],\n",
       "\n",
       "\n",
       "       [[[0.99709748, 0.99562464, 0.99573718, 0.9892294 ],\n",
       "         [0.99536885, 0.99483804, 0.98940184, 0.99030487],\n",
       "         [0.99124796, 0.98673658, 0.99173073, 0.99109939]],\n",
       "\n",
       "        [[0.99687355, 0.99482374, 0.9964058 , 0.9956819 ],\n",
       "         [0.99365388, 0.99243771, 0.99020363, 0.9873159 ],\n",
       "         [0.99448438, 0.99099637, 0.98625637, 0.98243888]],\n",
       "\n",
       "        [[0.99876859, 0.99906666, 0.99894109, 0.9978432 ],\n",
       "         [0.99768227, 0.99724954, 0.99723481, 0.99357586],\n",
       "         [0.99832649, 0.99703559, 0.99341173, 0.99684457]],\n",
       "\n",
       "        ...,\n",
       "\n",
       "        [[0.99288113, 0.98954987, 0.99005828, 0.97355848],\n",
       "         [0.98806263, 0.98563683, 0.9749049 , 0.9589073 ],\n",
       "         [0.97687861, 0.98781647, 0.97484193, 0.93924598]],\n",
       "\n",
       "        [[0.99478742, 0.99314273, 0.99579909, 0.98758445],\n",
       "         [0.99001574, 0.9902513 , 0.98424908, 0.9819051 ],\n",
       "         [0.98649078, 0.97987437, 0.97658984, 0.9922308 ]],\n",
       "\n",
       "        [[0.99886509, 0.99882301, 0.99801593, 0.9982705 ],\n",
       "         [0.99837654, 0.99799502, 0.99589805, 0.99525903],\n",
       "         [0.99821642, 0.99666127, 0.99751271, 0.99475517]]],\n",
       "\n",
       "\n",
       "       [[[0.99970907, 0.99956084, 0.9995721 , 0.99891066],\n",
       "         [0.99953479, 0.99948096, 0.99892719, 0.99901479],\n",
       "         [0.99911652, 0.99865184, 0.99916366, 0.9990925 ]],\n",
       "\n",
       "        [[0.99968656, 0.99948006, 0.99963941, 0.99956619],\n",
       "         [0.99936148, 0.99923747, 0.9990087 , 0.99870444],\n",
       "         [0.99944515, 0.99908945, 0.99859986, 0.99817488]],\n",
       "\n",
       "        [[0.99987673, 0.99990659, 0.99989401, 0.99978381],\n",
       "         [0.99976767, 0.99972409, 0.99972251, 0.99935014],\n",
       "         [0.99983232, 0.99970241, 0.99933477, 0.99968209]],\n",
       "\n",
       "        ...,\n",
       "\n",
       "        [[0.99928406, 0.99894575, 0.99899705, 0.99728093],\n",
       "         [0.99879241, 0.99854152, 0.99741757, 0.99560962],\n",
       "         [0.99763011, 0.99876354, 0.99739651, 0.99305965]],\n",
       "\n",
       "        [[0.99947659, 0.99931029, 0.99957834, 0.99874228],\n",
       "         [0.99899201, 0.99901505, 0.9983962 , 0.99813624],\n",
       "         [0.99862986, 0.99793963, 0.99758497, 0.99921022]],\n",
       "\n",
       "        [[0.9998864 , 0.99988218, 0.99980123, 0.99982673],\n",
       "         [0.99983738, 0.99979905, 0.9995877 , 0.99952188],\n",
       "         [0.99982127, 0.99966463, 0.99975036, 0.99946932]]],\n",
       "\n",
       "\n",
       "       [[[0.9999709 , 0.99995607, 0.99995719, 0.99989094],\n",
       "         [0.99995346, 0.99994807, 0.99989259, 0.99990132],\n",
       "         [0.99991157, 0.99986496, 0.99991627, 0.99990907]],\n",
       "\n",
       "        [[0.99996865, 0.99994798, 0.99996393, 0.9999566 ],\n",
       "         [0.99993611, 0.99992368, 0.99990075, 0.99987017],\n",
       "         [0.99994448, 0.99990884, 0.99985972, 0.99981676]],\n",
       "\n",
       "        [[0.99998767, 0.99999066, 0.9999894 , 0.99997838],\n",
       "         [0.99997676, 0.9999724 , 0.99997224, 0.99993494],\n",
       "         [0.99998323, 0.99997023, 0.99993341, 0.99996819]],\n",
       "\n",
       "        ...,\n",
       "\n",
       "        [[0.99992837, 0.99989448, 0.99989962, 0.99972732],\n",
       "         [0.9998791 , 0.99985393, 0.999741  , 0.99955791],\n",
       "         [0.99976242, 0.99987617, 0.99973874, 0.9992958 ]],\n",
       "\n",
       "        [[0.99994764, 0.99993099, 0.99995782, 0.99987406],\n",
       "         [0.9998991 , 0.9999014 , 0.99983933, 0.99981306],\n",
       "         [0.99986279, 0.99979347, 0.99975773, 0.99992089]],\n",
       "\n",
       "        [[0.99998864, 0.99998822, 0.99998012, 0.99998267],\n",
       "         [0.99998374, 0.9999799 , 0.99995875, 0.99995215],\n",
       "         [0.99998212, 0.99996645, 0.99997503, 0.99994687]]]])</pre></li><li class='xr-var-item'><div class='xr-var-name'><span>S_min_p3</span></div><div class='xr-var-dims'>(pop, sample, gamma, sigma)</div><div class='xr-var-dtype'>float64</div><div class='xr-var-preview xr-preview'>0.9931 0.9905 0.99 ... 1.0 1.0 1.0</div><input id='attrs-5921e744-c540-4ca6-9583-8d3a1271cb4a' class='xr-var-attrs-in' type='checkbox' disabled><label for='attrs-5921e744-c540-4ca6-9583-8d3a1271cb4a' title='Show/Hide attributes'><svg class='icon xr-icon-file-text2'><use xlink:href='#icon-file-text2'></use></svg></label><input id='data-e2e6154f-3b1f-4f77-9f0d-4e0e5cfcb2b5' class='xr-var-data-in' type='checkbox'><label for='data-e2e6154f-3b1f-4f77-9f0d-4e0e5cfcb2b5' title='Show/Hide data repr'><svg class='icon xr-icon-database'><use xlink:href='#icon-database'></use></svg></label><div class='xr-var-attrs'><dl class='xr-attrs'></dl></div><pre class='xr-var-data'>array([[[[0.99305316, 0.99050939, 0.98999998, 0.97154692],\n",
       "         [0.9914657 , 0.99191401, 0.97894998, 0.98663258],\n",
       "         [0.98676902, 0.97873844, 0.98606043, 0.99024995]],\n",
       "\n",
       "        [[0.99334876, 0.98995502, 0.99375754, 0.99238052],\n",
       "         [0.99328177, 0.99051357, 0.9857078 , 0.98758675],\n",
       "         [0.99452411, 0.98769398, 0.98952623, 0.98019795]],\n",
       "\n",
       "        [[0.99806205, 0.99855689, 0.99831865, 0.9973204 ],\n",
       "         [0.99729528, 0.99755609, 0.99700618, 0.99316906],\n",
       "         [0.998052  , 0.99750466, 0.99420697, 0.99510851]],\n",
       "\n",
       "        ...,\n",
       "\n",
       "        [[0.98337304, 0.97582903, 0.97630944, 0.94428242],\n",
       "         [0.9788432 , 0.97780279, 0.97069244, 0.92656071],\n",
       "         [0.96744189, 0.98077989, 0.95952165, 0.94093377]],\n",
       "\n",
       "        [[0.98519158, 0.98256375, 0.9888181 , 0.96906295],\n",
       "         [0.97950174, 0.98053583, 0.97452514, 0.97168605],\n",
       "         [0.97342596, 0.9691807 , 0.96824853, 0.98608139]],\n",
       "\n",
       "        [[0.99812453, 0.9981814 , 0.99722102, 0.99746103],\n",
       "         [0.99807897, 0.99809246, 0.99634795, 0.99535457],\n",
       "         [0.99776702, 0.99682636, 0.99807168, 0.99736562]]],\n",
       "\n",
       "\n",
       "       [[[0.99930203, 0.99904453, 0.99899253, 0.99707572],\n",
       "         [0.99914112, 0.99918629, 0.9978591 , 0.99864141],\n",
       "         [0.99866319, 0.99783664, 0.99858904, 0.9990117 ]],\n",
       "\n",
       "        [[0.99933192, 0.9989885 , 0.99937295, 0.99923253],\n",
       "         [0.99932498, 0.99904471, 0.99855501, 0.9987409 ],\n",
       "         [0.99945017, 0.99875755, 0.99894341, 0.99796825]],\n",
       "\n",
       "        [[0.99980596, 0.99985555, 0.99983167, 0.99973137],\n",
       "         [0.99972902, 0.99975517, 0.99969994, 0.99931179],\n",
       "         [0.99980492, 0.99974999, 0.9994181 , 0.99950786]],\n",
       "\n",
       "        ...,\n",
       "\n",
       "        [[0.99831876, 0.99754223, 0.99759012, 0.9941197 ],\n",
       "         [0.99785205, 0.99774263, 0.99700074, 0.99201384],\n",
       "         [0.99666377, 0.99804833, 0.99581076, 0.99362171]],\n",
       "\n",
       "        [[0.99850414, 0.99823443, 0.9988723 , 0.99681191],\n",
       "         [0.99791859, 0.99802328, 0.9973972 , 0.99706742],\n",
       "         [0.99728732, 0.99683785, 0.99673198, 0.998579  ]],\n",
       "\n",
       "        [[0.99981222, 0.99981792, 0.99972156, 0.9997455 ],\n",
       "         [0.99980764, 0.99980898, 0.9996338 , 0.9995331 ],\n",
       "         [0.99977634, 0.99968187, 0.99980686, 0.99973566]]],\n",
       "\n",
       "\n",
       "       [[[0.99993017, 0.99990439, 0.99989918, 0.99970676],\n",
       "         [0.99991406, 0.99991858, 0.99978554, 0.99986392],\n",
       "         [0.99986618, 0.99978328, 0.99985873, 0.99990104]],\n",
       "\n",
       "        [[0.99993316, 0.99989878, 0.99993727, 0.9999232 ],\n",
       "         [0.99993247, 0.9999044 , 0.99985534, 0.99987391],\n",
       "         [0.99994499, 0.99987564, 0.99989425, 0.99979629]],\n",
       "\n",
       "        [[0.99998059, 0.99998555, 0.99998316, 0.99997313],\n",
       "         [0.9999729 , 0.99997551, 0.99996999, 0.99993113],\n",
       "         [0.99998049, 0.99997499, 0.99994178, 0.99995076]],\n",
       "\n",
       "        ...,\n",
       "\n",
       "        [[0.99983169, 0.99975381, 0.9997586 , 0.9994087 ],\n",
       "         [0.99978488, 0.99977388, 0.99969937, 0.99919433],\n",
       "         [0.99966555, 0.99980453, 0.99957961, 0.99935702]],\n",
       "\n",
       "        [[0.99985026, 0.99982322, 0.99988713, 0.99968021],\n",
       "         [0.99979154, 0.99980202, 0.99973915, 0.99970569],\n",
       "         [0.99972817, 0.99968296, 0.99967224, 0.9998576 ]],\n",
       "\n",
       "        [[0.99998122, 0.99998179, 0.99997215, 0.99997454],\n",
       "         [0.99998076, 0.9999809 , 0.99996337, 0.99995329],\n",
       "         [0.99997763, 0.99996818, 0.99998068, 0.99997356]]],\n",
       "\n",
       "\n",
       "       [[[0.99999302, 0.99999044, 0.99998992, 0.99997067],\n",
       "         [0.99999141, 0.99999186, 0.99997855, 0.99998639],\n",
       "         [0.99998662, 0.99997832, 0.99998587, 0.9999901 ]],\n",
       "\n",
       "        [[0.99999332, 0.99998988, 0.99999373, 0.99999232],\n",
       "         [0.99999325, 0.99999044, 0.99998553, 0.99998739],\n",
       "         [0.9999945 , 0.99998756, 0.99998942, 0.99997962]],\n",
       "\n",
       "        [[0.99999806, 0.99999856, 0.99999832, 0.99999731],\n",
       "         [0.99999729, 0.99999755, 0.999997  , 0.99999311],\n",
       "         [0.99999805, 0.9999975 , 0.99999418, 0.99999508]],\n",
       "\n",
       "        ...,\n",
       "\n",
       "        [[0.99998317, 0.99997538, 0.99997586, 0.99994084],\n",
       "         [0.99997848, 0.99997738, 0.99996993, 0.99991936],\n",
       "         [0.99996655, 0.99998045, 0.99995795, 0.99993565]],\n",
       "\n",
       "        [[0.99998502, 0.99998232, 0.99998871, 0.99996801],\n",
       "         [0.99997915, 0.9999802 , 0.99997391, 0.99997056],\n",
       "         [0.99997281, 0.99996829, 0.99996721, 0.99998576]],\n",
       "\n",
       "        [[0.99999812, 0.99999818, 0.99999722, 0.99999745],\n",
       "         [0.99999808, 0.99999809, 0.99999634, 0.99999533],\n",
       "         [0.99999776, 0.99999682, 0.99999807, 0.99999736]]]])</pre></li><li class='xr-var-item'><div class='xr-var-name'><span>coefficient</span></div><div class='xr-var-dims'>(pop, gamma, sigma, sample, LHS)</div><div class='xr-var-dtype'>float32</div><div class='xr-var-preview xr-preview'>nan nan ... 0.028956674</div><input id='attrs-69055cb5-6707-4b17-a7dd-2de0acc8d4df' class='xr-var-attrs-in' type='checkbox' disabled><label for='attrs-69055cb5-6707-4b17-a7dd-2de0acc8d4df' title='Show/Hide attributes'><svg class='icon xr-icon-file-text2'><use xlink:href='#icon-file-text2'></use></svg></label><input id='data-e575f437-adb9-466b-9e02-fed387f21959' class='xr-var-data-in' type='checkbox'><label for='data-e575f437-adb9-466b-9e02-fed387f21959' title='Show/Hide data repr'><svg class='icon xr-icon-database'><use xlink:href='#icon-database'></use></svg></label><div class='xr-var-attrs'><dl class='xr-attrs'></dl></div><pre class='xr-var-data'>array([[[[[            nan,             nan,             nan,\n",
       "                       nan],\n",
       "          [-2.21778415e-02, -2.18996722e-02, -8.38566013e-03,\n",
       "           -9.28960741e-03],\n",
       "          [-3.60621326e-02, -3.48317623e-02, -1.59856025e-02,\n",
       "           -1.47845699e-02],\n",
       "          ...,\n",
       "          [-1.21226937e-01, -1.17113441e-01, -2.13777889e-02,\n",
       "           -2.14364864e-02],\n",
       "          [-8.11895430e-02, -7.84090012e-02, -1.88006796e-02,\n",
       "           -1.84830409e-02],\n",
       "          [-1.19673654e-01, -1.15234561e-01, -4.23040316e-02,\n",
       "           -3.78052294e-02]],\n",
       "\n",
       "         [[            nan,             nan,             nan,\n",
       "                       nan],\n",
       "          [-1.03851646e-01, -9.99706089e-02, -7.66469315e-02,\n",
       "           -7.13649392e-02],\n",
       "          [-3.43974158e-02, -3.26213576e-02,  4.31903405e-03,\n",
       "            3.30511434e-03],\n",
       "          ...,\n",
       "          [-5.92098869e-02, -5.92572019e-02, -8.93699750e-02,\n",
       "           -8.64213184e-02],\n",
       "          [-2.22347919e-02, -2.16812696e-02, -3.32223228e-03,\n",
       "           -4.16905899e-03],\n",
       "          [ 3.02477535e-02,  2.79882718e-02,  1.59543268e-02,\n",
       "            1.29788090e-02]],\n",
       "\n",
       "         [[ 8.42820331e-02,  7.68747702e-02, -5.64323291e-02,\n",
       "           -5.46000674e-02],\n",
       "          [-4.94857207e-02, -4.52328995e-02, -1.05553446e-02,\n",
       "           -7.47897476e-03],\n",
       "          [-1.12090982e-01, -1.05380297e-01, -6.45413399e-02,\n",
       "           -5.86567707e-02],\n",
       "          ...,\n",
       "          [-1.12336151e-01, -1.09104194e-01, -1.09356157e-01,\n",
       "           -1.03971899e-01],\n",
       "          [-1.98621042e-02, -1.91354118e-02, -8.48126784e-03,\n",
       "           -8.83907732e-03],\n",
       "          [-7.79058924e-03, -9.17667616e-03, -2.69811917e-02,\n",
       "           -2.73648407e-02]],\n",
       "\n",
       "         [[            nan,             nan, -6.62010610e-02,\n",
       "           -5.83690815e-02],\n",
       "          [            nan,             nan, -4.70911823e-02,\n",
       "           -4.29895185e-02],\n",
       "          [            nan,             nan, -7.08696619e-02,\n",
       "           -6.95271045e-02],\n",
       "          ...,\n",
       "          [            nan,             nan, -1.64174750e-01,\n",
       "           -1.55935928e-01],\n",
       "          [            nan,             nan, -5.75699471e-02,\n",
       "           -5.22166193e-02],\n",
       "          [            nan,             nan, -1.25683352e-01,\n",
       "           -1.12350896e-01]]],\n",
       "\n",
       "\n",
       "        [[[            nan,             nan,             nan,\n",
       "                       nan],\n",
       "          [-5.01970164e-02, -4.61920984e-02, -2.28119884e-02,\n",
       "           -2.10456867e-02],\n",
       "          [-3.14510763e-02, -2.90995464e-02,  2.60707214e-02,\n",
       "            1.46153886e-02],\n",
       "          ...,\n",
       "          [ 3.49073671e-03, -2.96126091e-05, -1.40849734e-03,\n",
       "           -1.05880164e-02],\n",
       "          [-2.03045905e-01, -1.83033973e-01, -5.20096235e-02,\n",
       "           -4.12502326e-02],\n",
       "          [ 1.05999067e-01,  8.79955366e-02, -1.11314040e-02,\n",
       "           -2.28351559e-02]],\n",
       "\n",
       "         [[            nan,             nan,             nan,\n",
       "                       nan],\n",
       "          [-7.77494460e-02, -6.56073168e-02, -1.34984506e-02,\n",
       "           -5.99764194e-03],\n",
       "          [-1.14134476e-01, -9.65154245e-02,  1.61891512e-03,\n",
       "            1.49373093e-03],\n",
       "          ...,\n",
       "          [-4.66056988e-02, -4.98912744e-02, -8.11893791e-02,\n",
       "           -7.98671320e-02],\n",
       "          [ 3.42008546e-02,  2.30706912e-02, -4.79212683e-03,\n",
       "           -1.65319759e-02],\n",
       "          [-7.15058595e-02, -6.45868480e-02, -7.67311379e-02,\n",
       "           -6.05666935e-02]],\n",
       "\n",
       "         [[ 2.18369905e-02,  1.46450233e-02, -1.52189666e-02,\n",
       "           -1.64057538e-02],\n",
       "          [-1.94793828e-02, -2.12921742e-02, -1.08886268e-02,\n",
       "           -1.82072930e-02],\n",
       "          [-3.39010544e-03, -2.33499752e-03, -2.19884445e-03,\n",
       "           -1.04875327e-03],\n",
       "          ...,\n",
       "          [-3.71618532e-02, -3.61002125e-02, -4.59187962e-02,\n",
       "           -4.32213135e-02],\n",
       "          [-1.12860426e-01, -9.39640179e-02, -5.97486012e-02,\n",
       "           -4.42034267e-02],\n",
       "          [-1.16109513e-02, -8.12398642e-03, -1.77895650e-04,\n",
       "            2.86284019e-03]],\n",
       "\n",
       "         [[            nan,             nan, -6.28397539e-02,\n",
       "           -5.34291975e-02],\n",
       "          [            nan,             nan, -1.33024238e-03,\n",
       "           -2.54512932e-02],\n",
       "          [            nan,             nan, -1.88877791e-01,\n",
       "           -1.54588312e-01],\n",
       "          ...,\n",
       "          [            nan,             nan, -3.89495566e-02,\n",
       "           -4.26524132e-02],\n",
       "          [            nan,             nan,  8.88287090e-03,\n",
       "            7.94564374e-03],\n",
       "          [            nan,             nan, -1.20918050e-01,\n",
       "           -8.91658068e-02]]],\n",
       "\n",
       "\n",
       "        [[[            nan,             nan,             nan,\n",
       "                       nan],\n",
       "          [-1.86064050e-01, -1.58944324e-01, -1.11932047e-01,\n",
       "           -6.66306913e-02],\n",
       "          [-5.52676208e-02, -5.05594425e-02, -7.35183656e-02,\n",
       "           -5.53246774e-02],\n",
       "          ...,\n",
       "          [-8.56930688e-02, -7.56346434e-02, -8.13630000e-02,\n",
       "           -5.51081412e-02],\n",
       "          [-3.24144885e-02, -2.91561391e-02,  2.57361904e-02,\n",
       "            8.66704341e-03],\n",
       "          [-1.15810856e-01, -1.01485081e-01, -7.97790736e-02,\n",
       "           -5.34727648e-02]],\n",
       "\n",
       "         [[-1.37685776e-01, -1.11869790e-01, -4.00812104e-02,\n",
       "           -2.09479723e-02],\n",
       "          [-7.63012096e-02, -6.66332841e-02, -6.77916482e-02,\n",
       "           -5.01126759e-02],\n",
       "          [-1.53273687e-01, -1.16376154e-01,  9.25732590e-03,\n",
       "            1.62700042e-02],\n",
       "          ...,\n",
       "          [ 2.26184651e-02,  1.18971486e-02,  1.52575905e-02,\n",
       "           -2.85365828e-03],\n",
       "          [ 3.56218941e-03, -9.93985217e-03, -2.86381543e-02,\n",
       "           -4.53561395e-02],\n",
       "          [-7.34647512e-02, -5.85278906e-02, -7.55238160e-02,\n",
       "           -4.24042158e-02]],\n",
       "\n",
       "         [[-5.75379729e-02, -4.67780456e-02, -2.41866894e-03,\n",
       "           -1.00689363e-02],\n",
       "          [-1.41229495e-01, -1.20011427e-01, -1.41825825e-01,\n",
       "           -1.05401851e-01],\n",
       "          [ 2.42295638e-02,  1.34609817e-02, -4.37235236e-02,\n",
       "           -3.46012749e-02],\n",
       "          ...,\n",
       "          [-1.14663132e-01, -9.96947438e-02, -8.51282850e-02,\n",
       "           -7.21832290e-02],\n",
       "          [-5.94231784e-02, -6.04168512e-02, -5.87478243e-02,\n",
       "           -6.14218116e-02],\n",
       "          [-1.20760024e-01, -9.97963920e-02, -9.25144330e-02,\n",
       "           -7.07050264e-02]],\n",
       "\n",
       "         [[            nan,             nan, -5.65509126e-03,\n",
       "           -2.03154106e-02],\n",
       "          [            nan,             nan,  3.76374386e-02,\n",
       "            5.02142869e-03],\n",
       "          [            nan,             nan, -1.25944272e-01,\n",
       "           -9.68050286e-02],\n",
       "          ...,\n",
       "          [            nan,             nan, -6.97689503e-02,\n",
       "           -3.40401381e-02],\n",
       "          [            nan,             nan, -4.99022901e-02,\n",
       "           -6.00873232e-02],\n",
       "          [            nan,             nan,  1.47578847e-02,\n",
       "            2.84446757e-02]]]],\n",
       "\n",
       "\n",
       "\n",
       "       [[[[            nan,             nan,             nan,\n",
       "                       nan],\n",
       "          [-2.17863601e-02, -2.15205606e-02, -8.13736580e-03,\n",
       "           -9.05554648e-03],\n",
       "          [-3.59333828e-02, -3.47070433e-02, -1.59012824e-02,\n",
       "           -1.47050042e-02],\n",
       "          ...,\n",
       "          [-1.20382853e-01, -1.16298892e-01, -2.08091121e-02,\n",
       "           -2.09035128e-02],\n",
       "          [-8.11249390e-02, -7.83471316e-02, -1.87471267e-02,\n",
       "           -1.84325818e-02],\n",
       "          [-1.19573869e-01, -1.15138747e-01, -4.22290564e-02,\n",
       "           -3.77338454e-02]],\n",
       "\n",
       "         [[            nan,             nan,             nan,\n",
       "                       nan],\n",
       "          [-1.03273548e-01, -9.94191542e-02, -7.62576684e-02,\n",
       "           -7.10000619e-02],\n",
       "          [-3.42921950e-02, -3.25207859e-02,  4.39328700e-03,\n",
       "            3.37546715e-03],\n",
       "          ...,\n",
       "          [-5.78682311e-02, -5.79715334e-02, -8.85070041e-02,\n",
       "           -8.56156796e-02],\n",
       "          [-2.20588464e-02, -2.15114504e-02, -3.21061816e-03,\n",
       "           -4.06388799e-03],\n",
       "          [ 3.04225180e-02,  2.81569771e-02,  1.60596594e-02,\n",
       "            1.30778197e-02]],\n",
       "\n",
       "         [[ 8.44838098e-02,  7.70676062e-02, -5.63214161e-02,\n",
       "           -5.44967242e-02],\n",
       "          [-4.90308255e-02, -4.47979681e-02, -1.02209290e-02,\n",
       "           -7.16270041e-03],\n",
       "          [-1.11986890e-01, -1.05282791e-01, -6.44511580e-02,\n",
       "           -5.85720800e-02],\n",
       "          ...,\n",
       "          [-1.10929832e-01, -1.07770704e-01, -1.08355269e-01,\n",
       "           -1.03039898e-01],\n",
       "          [-1.97644942e-02, -1.90427247e-02, -8.40119179e-03,\n",
       "           -8.76383018e-03],\n",
       "          [-7.49818143e-03, -8.89696181e-03, -2.67900564e-02,\n",
       "           -2.71846373e-02]],\n",
       "\n",
       "         [[            nan,             nan, -6.55963272e-02,\n",
       "           -5.78022860e-02],\n",
       "          [            nan,             nan, -4.64012250e-02,\n",
       "           -4.23470251e-02],\n",
       "          [            nan,             nan, -7.05219135e-02,\n",
       "           -6.92063421e-02],\n",
       "          ...,\n",
       "          [            nan,             nan, -1.59895241e-01,\n",
       "           -1.51963457e-01],\n",
       "          [            nan,             nan, -5.72612025e-02,\n",
       "           -5.19292988e-02],\n",
       "          [            nan,             nan, -1.25364557e-01,\n",
       "           -1.12054221e-01]]],\n",
       "\n",
       "\n",
       "        [[[            nan,             nan,             nan,\n",
       "                       nan],\n",
       "          [-4.98417132e-02, -4.58699837e-02, -2.25568619e-02,\n",
       "           -2.08391137e-02],\n",
       "          [-3.12265772e-02, -2.88923793e-02,  2.62442343e-02,\n",
       "            1.47602903e-02],\n",
       "          ...,\n",
       "          [ 4.77090990e-03,  1.13658304e-03, -5.15160558e-04,\n",
       "           -9.85829625e-03],\n",
       "          [-2.02974051e-01, -1.82973787e-01, -5.19325025e-02,\n",
       "           -4.11863513e-02],\n",
       "          [ 1.06189758e-01,  8.81701782e-02, -1.10240933e-02,\n",
       "           -2.27524471e-02]],\n",
       "\n",
       "         [[            nan,             nan,             nan,\n",
       "                       nan],\n",
       "          [-7.70786479e-02, -6.50097951e-02, -1.29851764e-02,\n",
       "           -5.56852156e-03],\n",
       "          [-1.13954410e-01, -9.63585451e-02,  1.79020711e-03,\n",
       "            1.63963833e-03],\n",
       "          ...,\n",
       "          [-4.52614650e-02, -4.87195402e-02, -8.01876336e-02,\n",
       "           -7.90607184e-02],\n",
       "          [ 3.43887098e-02,  2.32376438e-02, -4.65500494e-03,\n",
       "           -1.64226517e-02],\n",
       "          [-7.13502690e-02, -6.44529685e-02, -7.66357034e-02,\n",
       "           -6.04902133e-02]],\n",
       "\n",
       "         [[ 2.21643820e-02,  1.49333393e-02, -1.49894459e-02,\n",
       "           -1.62165537e-02],\n",
       "          [-1.84823088e-02, -2.04267334e-02, -1.01157306e-02,\n",
       "           -1.75677929e-02],\n",
       "          [-3.01777245e-03, -2.00408348e-03, -1.92651851e-03,\n",
       "           -8.23215116e-04],\n",
       "          ...,\n",
       "          [-3.51707712e-02, -3.43843438e-02, -4.43250090e-02,\n",
       "           -4.19000275e-02],\n",
       "          [-1.12633057e-01, -9.37733054e-02, -5.95629960e-02,\n",
       "           -4.40482199e-02],\n",
       "          [-1.11251399e-02, -7.69140897e-03,  1.55991336e-04,\n",
       "            3.14559066e-03]],\n",
       "\n",
       "         [[            nan,             nan, -6.24294095e-02,\n",
       "           -5.31027913e-02],\n",
       "          [            nan,             nan,  1.92763691e-04,\n",
       "           -2.42522284e-02],\n",
       "          [            nan,             nan, -1.87883720e-01,\n",
       "           -1.53807744e-01],\n",
       "          ...,\n",
       "          [            nan,             nan, -3.08641307e-02,\n",
       "           -3.59130800e-02],\n",
       "          [            nan,             nan,  9.52291489e-03,\n",
       "            8.47265869e-03],\n",
       "          [            nan,             nan, -1.20065145e-01,\n",
       "           -8.84891152e-02]]],\n",
       "\n",
       "\n",
       "        [[[            nan,             nan,             nan,\n",
       "                       nan],\n",
       "          [-1.85811564e-01, -1.58733621e-01, -1.11744821e-01,\n",
       "           -6.64911792e-02],\n",
       "          [-5.51427864e-02, -5.04547320e-02, -7.34306872e-02,\n",
       "           -5.52607663e-02],\n",
       "          ...,\n",
       "          [-8.36881995e-02, -7.38650411e-02, -7.98384622e-02,\n",
       "           -5.39262593e-02],\n",
       "          [-3.22518758e-02, -2.90100388e-02,  2.58690547e-02,\n",
       "            8.76704138e-03],\n",
       "          [-1.15651675e-01, -1.01350255e-01, -7.96774179e-02,\n",
       "           -5.33935055e-02]],\n",
       "\n",
       "         [[-1.37314647e-01, -1.11551382e-01, -3.97954732e-02,\n",
       "           -2.07229387e-02],\n",
       "          [-7.53779411e-02, -6.58510104e-02, -6.71403259e-02,\n",
       "           -4.96268049e-02],\n",
       "          [-1.53066605e-01, -1.16206430e-01,  9.45125148e-03,\n",
       "            1.64285805e-02],\n",
       "          ...,\n",
       "          [ 2.39504017e-02,  1.30258128e-02,  1.62431225e-02,\n",
       "           -2.11425684e-03],\n",
       "          [ 3.80729185e-03, -9.73291695e-03, -2.84495465e-02,\n",
       "           -4.52213436e-02],\n",
       "          [-7.31280595e-02, -5.82415052e-02, -7.53184706e-02,\n",
       "           -4.22464199e-02]],\n",
       "\n",
       "         [[-5.73150963e-02, -4.65915725e-02, -2.23977515e-03,\n",
       "           -9.93329845e-03],\n",
       "          [-1.40404105e-01, -1.19366959e-01, -1.41207352e-01,\n",
       "           -1.04956053e-01],\n",
       "          [ 2.49643177e-02,  1.40889268e-02, -4.32169773e-02,\n",
       "           -3.42137367e-02],\n",
       "          ...,\n",
       "          [-1.11551113e-01, -9.71910879e-02, -8.26913044e-02,\n",
       "           -7.03924149e-02],\n",
       "          [-5.91000095e-02, -6.01638816e-02, -5.85006475e-02,\n",
       "           -6.12453632e-02],\n",
       "          [-1.20593123e-01, -9.96693596e-02, -9.23715010e-02,\n",
       "           -7.06036612e-02]],\n",
       "\n",
       "         [[            nan,             nan, -5.39662363e-03,\n",
       "           -2.01340578e-02],\n",
       "          [            nan,             nan,  4.07060087e-02,\n",
       "            7.37179304e-03],\n",
       "          [            nan,             nan, -1.25002638e-01,\n",
       "           -9.61097255e-02],\n",
       "          ...,\n",
       "          [            nan,             nan, -6.10335134e-02,\n",
       "           -2.75465548e-02],\n",
       "          [            nan,             nan, -4.96225916e-02,\n",
       "           -5.98986968e-02],\n",
       "          [            nan,             nan,  1.53451785e-02,\n",
       "            2.89058145e-02]]]],\n",
       "\n",
       "\n",
       "\n",
       "       [[[[            nan,             nan,             nan,\n",
       "                       nan],\n",
       "          [-2.17471402e-02, -2.14825775e-02, -8.11249856e-03,\n",
       "           -9.03210323e-03],\n",
       "          [-3.59204970e-02, -3.46945561e-02, -1.58928446e-02,\n",
       "           -1.46970414e-02],\n",
       "          ...,\n",
       "          [-1.20298073e-01, -1.16217069e-01, -2.07520314e-02,\n",
       "           -2.08500102e-02],\n",
       "          [-8.11184719e-02, -7.83409402e-02, -1.87417679e-02,\n",
       "           -1.84275340e-02],\n",
       "          [-1.19563878e-01, -1.15129150e-01, -4.22215536e-02,\n",
       "           -3.77267003e-02]],\n",
       "\n",
       "         [[            nan,             nan,             nan,\n",
       "                       nan],\n",
       "          [-1.03215568e-01, -9.93638486e-02, -7.62186423e-02,\n",
       "           -7.09634870e-02],\n",
       "          [-3.42816636e-02, -3.25107202e-02,  4.40071616e-03,\n",
       "            3.38250631e-03],\n",
       "          ...,\n",
       "          [-5.77332117e-02, -5.78421205e-02, -8.84202421e-02,\n",
       "           -8.55346695e-02],\n",
       "          [-2.20412370e-02, -2.14944538e-02, -3.19944858e-03,\n",
       "           -4.05336265e-03],\n",
       "          [ 3.04400083e-02,  2.81738620e-02,  1.60702001e-02,\n",
       "            1.30877271e-02]],\n",
       "\n",
       "         [[ 8.45040083e-02,  7.70869106e-02, -5.63103147e-02,\n",
       "           -5.44863790e-02],\n",
       "          [-4.89852503e-02, -4.47543934e-02, -1.01874359e-02,\n",
       "           -7.13102287e-03],\n",
       "          [-1.11976475e-01, -1.05273031e-01, -6.44421354e-02,\n",
       "           -5.85636050e-02],\n",
       "          ...,\n",
       "          [-1.10788211e-01, -1.07636377e-01, -1.08254567e-01,\n",
       "           -1.02946110e-01],\n",
       "          [-1.97547264e-02, -1.90334506e-02, -8.39317963e-03,\n",
       "           -8.75630137e-03],\n",
       "          [-7.46890390e-03, -8.86895414e-03, -2.67709214e-02,\n",
       "           -2.71665975e-02]],\n",
       "\n",
       "         [[            nan,             nan, -6.55356720e-02,\n",
       "           -5.77454343e-02],\n",
       "          [            nan,             nan, -4.63319831e-02,\n",
       "           -4.22825441e-02],\n",
       "          [            nan,             nan, -7.04870671e-02,\n",
       "           -6.91742003e-02],\n",
       "          ...,\n",
       "          [            nan,             nan, -1.59456551e-01,\n",
       "           -1.51556060e-01],\n",
       "          [            nan,             nan, -5.72302714e-02,\n",
       "           -5.19005172e-02],\n",
       "          [            nan,             nan, -1.25332609e-01,\n",
       "           -1.12024494e-01]]],\n",
       "\n",
       "\n",
       "        [[[            nan,             nan,             nan,\n",
       "                       nan],\n",
       "          [-4.98061217e-02, -4.58377115e-02, -2.25313101e-02,\n",
       "           -2.08184235e-02],\n",
       "          [-3.12040988e-02, -2.88716331e-02,  2.62616053e-02,\n",
       "            1.47747966e-02],\n",
       "          ...,\n",
       "          [ 4.89966059e-03,  1.25391781e-03, -4.25380451e-04,\n",
       "           -9.78493970e-03],\n",
       "          [-2.02966854e-01, -1.82967752e-01, -5.19247837e-02,\n",
       "           -4.11799587e-02],\n",
       "          [ 1.06208839e-01,  8.81876647e-02, -1.10133523e-02,\n",
       "           -2.27441695e-02]],\n",
       "\n",
       "         [[            nan,             nan,             nan,\n",
       "                       nan],\n",
       "          [-7.70113915e-02, -6.49498776e-02, -1.29337339e-02,\n",
       "           -5.52550843e-03],\n",
       "          [-1.13936380e-01, -9.63428319e-02,  1.80735346e-03,\n",
       "            1.65424438e-03],\n",
       "          ...,\n",
       "          [-4.51262183e-02, -4.86015789e-02, -8.00869241e-02,\n",
       "           -7.89796188e-02],\n",
       "          [ 3.44075114e-02,  2.32543573e-02, -4.64128144e-03,\n",
       "           -1.64117105e-02],\n",
       "          [-7.13346899e-02, -6.44395649e-02, -7.66261518e-02,\n",
       "           -6.04825579e-02]],\n",
       "\n",
       "         [[ 2.21971646e-02,  1.49622122e-02, -1.49664674e-02,\n",
       "           -1.61976106e-02],\n",
       "          [-1.83822531e-02, -2.03398596e-02, -1.00382091e-02,\n",
       "           -1.75036397e-02],\n",
       "          [-2.98049138e-03, -1.97094609e-03, -1.89925521e-03,\n",
       "           -8.00634152e-04],\n",
       "          ...,\n",
       "          [-3.49699892e-02, -3.42111848e-02, -4.41644527e-02,\n",
       "           -4.17668559e-02],\n",
       "          [-1.12610288e-01, -9.37542021e-02, -5.95444180e-02,\n",
       "           -4.40326817e-02],\n",
       "          [-1.10764792e-02, -7.64807500e-03,  1.89427097e-04,\n",
       "            3.17390729e-03]],\n",
       "\n",
       "         [[            nan,             nan, -6.23882748e-02,\n",
       "           -5.30700684e-02],\n",
       "          [            nan,             nan,  3.46038607e-04,\n",
       "           -2.41315030e-02],\n",
       "          [            nan,             nan, -1.87783748e-01,\n",
       "           -1.53729215e-01],\n",
       "          ...,\n",
       "          [            nan,             nan, -3.00246906e-02,\n",
       "           -3.52119580e-02],\n",
       "          [            nan,             nan,  9.58710536e-03,\n",
       "            8.52551963e-03],\n",
       "          [            nan,             nan, -1.19979508e-01,\n",
       "           -8.84211585e-02]]],\n",
       "\n",
       "\n",
       "        [[[            nan,             nan,             nan,\n",
       "                       nan],\n",
       "          [-1.85786277e-01, -1.58712491e-01, -1.11726061e-01,\n",
       "           -6.64772019e-02],\n",
       "          [-5.51302880e-02, -5.04442453e-02, -7.34219104e-02,\n",
       "           -5.52543700e-02],\n",
       "          ...,\n",
       "          [-8.34859461e-02, -7.36863986e-02, -7.96847939e-02,\n",
       "           -5.38070761e-02],\n",
       "          [-3.22355963e-02, -2.89954133e-02,  2.58823521e-02,\n",
       "            8.77704937e-03],\n",
       "          [-1.15635730e-01, -1.01336755e-01, -7.96672404e-02,\n",
       "           -5.33855669e-02]],\n",
       "\n",
       "         [[-1.37277469e-01, -1.11519486e-01, -3.97668630e-02,\n",
       "           -2.07004026e-02],\n",
       "          [-7.52853081e-02, -6.57724962e-02, -6.70750067e-02,\n",
       "           -4.95780706e-02],\n",
       "          [-1.53045863e-01, -1.16189435e-01,  9.47066303e-03,\n",
       "            1.64444540e-02],\n",
       "          ...,\n",
       "          [ 2.40843426e-02,  1.31393829e-02,  1.63421519e-02,\n",
       "           -2.03993148e-03],\n",
       "          [ 3.83182941e-03, -9.71219782e-03, -2.84306668e-02,\n",
       "           -4.52078506e-02],\n",
       "          [-7.30943456e-02, -5.82128167e-02, -7.52979070e-02,\n",
       "           -4.22306173e-02]],\n",
       "\n",
       "         [[-5.72927855e-02, -4.65729013e-02, -2.22186884e-03,\n",
       "           -9.91972070e-03],\n",
       "          [-1.40321299e-01, -1.19302265e-01, -1.41145334e-01,\n",
       "           -1.04911327e-01],\n",
       "          [ 2.50379462e-02,  1.41518665e-02, -4.31662239e-02,\n",
       "           -3.41749042e-02],\n",
       "          ...,\n",
       "          [-1.11236140e-01, -9.69372615e-02, -8.24449733e-02,\n",
       "           -7.02112317e-02],\n",
       "          [-5.90676442e-02, -6.01385385e-02, -5.84758967e-02,\n",
       "           -6.12276942e-02],\n",
       "          [-1.20576419e-01, -9.96566340e-02, -9.23571885e-02,\n",
       "           -7.05935135e-02]],\n",
       "\n",
       "         [[            nan,             nan, -5.37073845e-03,\n",
       "           -2.01158933e-02],\n",
       "          [            nan,             nan,  4.10160907e-02,\n",
       "            7.60948611e-03],\n",
       "          [            nan,             nan, -1.24908045e-01,\n",
       "           -9.60398465e-02],\n",
       "          ...,\n",
       "          [            nan,             nan, -6.01264909e-02,\n",
       "           -2.68706735e-02],\n",
       "          [            nan,             nan, -4.95945700e-02,\n",
       "           -5.98797947e-02],\n",
       "          [            nan,             nan,  1.54040568e-02,\n",
       "            2.89520510e-02]]]],\n",
       "\n",
       "\n",
       "\n",
       "       [[[[            nan,             nan,             nan,\n",
       "                       nan],\n",
       "          [-2.17432175e-02, -2.14787796e-02, -8.11001193e-03,\n",
       "           -9.02975816e-03],\n",
       "          [-3.59192081e-02, -3.46933082e-02, -1.58919990e-02,\n",
       "           -1.46962451e-02],\n",
       "          ...,\n",
       "          [-1.20289586e-01, -1.16208881e-01, -2.07463205e-02,\n",
       "           -2.08446570e-02],\n",
       "          [-8.11178237e-02, -7.83403218e-02, -1.87412333e-02,\n",
       "           -1.84270311e-02],\n",
       "          [-1.19562879e-01, -1.15128197e-01, -4.22208011e-02,\n",
       "           -3.77259888e-02]],\n",
       "\n",
       "         [[            nan,             nan,             nan,\n",
       "                       nan],\n",
       "          [-1.03209771e-01, -9.93583128e-02, -7.62147456e-02,\n",
       "           -7.09598213e-02],\n",
       "          [-3.42806093e-02, -3.25097144e-02,  4.40145936e-03,\n",
       "            3.38321039e-03],\n",
       "          ...,\n",
       "          [-5.77197000e-02, -5.78291714e-02, -8.84115621e-02,\n",
       "           -8.55265707e-02],\n",
       "          [-2.20394749e-02, -2.14927532e-02, -3.19833145e-03,\n",
       "           -4.05230932e-03],\n",
       "          [ 3.04417573e-02,  2.81755496e-02,  1.60712544e-02,\n",
       "            1.30887190e-02]],\n",
       "\n",
       "         [[ 8.45060274e-02,  7.70888403e-02, -5.63092045e-02,\n",
       "           -5.44853471e-02],\n",
       "          [-4.89806905e-02, -4.47500348e-02, -1.01840859e-02,\n",
       "           -7.12785451e-03],\n",
       "          [-1.11975431e-01, -1.05272055e-01, -6.44412339e-02,\n",
       "           -5.85627556e-02],\n",
       "          ...,\n",
       "          [-1.10774040e-01, -1.07622929e-01, -1.08244486e-01,\n",
       "           -1.02936730e-01],\n",
       "          [-1.97537504e-02, -1.90325230e-02, -8.39237869e-03,\n",
       "           -8.75554979e-03],\n",
       "          [-7.46597582e-03, -8.86615366e-03, -2.67690085e-02,\n",
       "           -2.71647945e-02]],\n",
       "\n",
       "         [[            nan,             nan, -6.55296072e-02,\n",
       "           -5.77397458e-02],\n",
       "          [            nan,             nan, -4.63250577e-02,\n",
       "           -4.22760919e-02],\n",
       "          [            nan,             nan, -7.04835802e-02,\n",
       "           -6.91709816e-02],\n",
       "          ...,\n",
       "          [            nan,             nan, -1.59412563e-01,\n",
       "           -1.51515231e-01],\n",
       "          [            nan,             nan, -5.72271794e-02,\n",
       "           -5.18976338e-02],\n",
       "          [            nan,             nan, -1.25329420e-01,\n",
       "           -1.12021521e-01]]],\n",
       "\n",
       "\n",
       "        [[[            nan,             nan,             nan,\n",
       "                       nan],\n",
       "          [-4.98025641e-02, -4.58344854e-02, -2.25287545e-02,\n",
       "           -2.08163559e-02],\n",
       "          [-3.12018506e-02, -2.88695581e-02,  2.62633413e-02,\n",
       "            1.47762485e-02],\n",
       "          ...,\n",
       "          [ 4.91254311e-03,  1.26565853e-03, -4.16397961e-04,\n",
       "           -9.77759995e-03],\n",
       "          [-2.02966124e-01, -1.82967156e-01, -5.19240126e-02,\n",
       "           -4.11793180e-02],\n",
       "          [ 1.06210753e-01,  8.81894082e-02, -1.10122785e-02,\n",
       "           -2.27433424e-02]],\n",
       "\n",
       "         [[            nan,             nan,             nan,\n",
       "                       nan],\n",
       "          [-7.70046636e-02, -6.49438873e-02, -1.29285883e-02,\n",
       "           -5.52120525e-03],\n",
       "          [-1.13934577e-01, -9.63412672e-02,  1.80906826e-03,\n",
       "            1.65570446e-03],\n",
       "          ...,\n",
       "          [-4.51126844e-02, -4.85897772e-02, -8.00768435e-02,\n",
       "           -7.89715052e-02],\n",
       "          [ 3.44093926e-02,  2.32560281e-02, -4.63990914e-03,\n",
       "           -1.64106153e-02],\n",
       "          [-7.13331327e-02, -6.44382238e-02, -7.66251981e-02,\n",
       "           -6.04817905e-02]],\n",
       "\n",
       "         [[ 2.22004429e-02,  1.49651002e-02, -1.49641689e-02,\n",
       "           -1.61957163e-02],\n",
       "          [-1.83722433e-02, -2.03311685e-02, -1.00304540e-02,\n",
       "           -1.74972229e-02],\n",
       "          [-2.97676283e-03, -1.96763244e-03, -1.89652853e-03,\n",
       "           -7.98376626e-04],\n",
       "          ...,\n",
       "          [-3.49498950e-02, -3.41938548e-02, -4.41483855e-02,\n",
       "           -4.17535268e-02],\n",
       "          [-1.12608008e-01, -9.37522948e-02, -5.95425591e-02,\n",
       "           -4.40311283e-02],\n",
       "          [-1.10716121e-02, -7.64374062e-03,  1.92771142e-04,\n",
       "            3.17673967e-03]],\n",
       "\n",
       "         [[            nan,             nan, -6.23841621e-02,\n",
       "           -5.30667938e-02],\n",
       "          [            nan,             nan,  3.61375889e-04,\n",
       "           -2.41194218e-02],\n",
       "          [            nan,             nan, -1.87773749e-01,\n",
       "           -1.53721347e-01],\n",
       "          ...,\n",
       "          [            nan,             nan, -2.99404226e-02,\n",
       "           -3.51415612e-02],\n",
       "          [            nan,             nan,  9.59352590e-03,\n",
       "            8.53080768e-03],\n",
       "          [            nan,             nan, -1.19970940e-01,\n",
       "           -8.84143561e-02]]],\n",
       "\n",
       "\n",
       "        [[[            nan,             nan,             nan,\n",
       "                       nan],\n",
       "          [-1.85783744e-01, -1.58710390e-01, -1.11724183e-01,\n",
       "           -6.64758086e-02],\n",
       "          [-5.51290363e-02, -5.04431985e-02, -7.34210312e-02,\n",
       "           -5.52537292e-02],\n",
       "          ...,\n",
       "          [-8.34657028e-02, -7.36685172e-02, -7.96694160e-02,\n",
       "           -5.37951477e-02],\n",
       "          [-3.22339684e-02, -2.89939493e-02,  2.58836821e-02,\n",
       "            8.77805054e-03],\n",
       "          [-1.15634143e-01, -1.01335399e-01, -7.96662197e-02,\n",
       "           -5.33847734e-02]],\n",
       "\n",
       "         [[-1.37273744e-01, -1.11516289e-01, -3.97640020e-02,\n",
       "           -2.06981469e-02],\n",
       "          [-7.52760395e-02, -6.57646433e-02, -6.70684800e-02,\n",
       "           -4.95731942e-02],\n",
       "          [-1.53043792e-01, -1.16187729e-01,  9.47260484e-03,\n",
       "            1.64460409e-02],\n",
       "          ...,\n",
       "          [ 2.40977444e-02,  1.31507469e-02,  1.63520612e-02,\n",
       "           -2.03249441e-03],\n",
       "          [ 3.83428345e-03, -9.71012563e-03, -2.84287799e-02,\n",
       "           -4.52064984e-02],\n",
       "          [-7.30909705e-02, -5.82099482e-02, -7.52958506e-02,\n",
       "           -4.22290340e-02]],\n",
       "\n",
       "         [[-5.72905540e-02, -4.65710349e-02, -2.22007814e-03,\n",
       "           -9.91836190e-03],\n",
       "          [-1.40313014e-01, -1.19295791e-01, -1.41139120e-01,\n",
       "           -1.04906850e-01],\n",
       "          [ 2.50453111e-02,  1.41581614e-02, -4.31611501e-02,\n",
       "           -3.41710187e-02],\n",
       "          ...,\n",
       "          [-1.11204609e-01, -9.69118401e-02, -8.24203119e-02,\n",
       "           -7.01930895e-02],\n",
       "          [-5.90644069e-02, -6.01360053e-02, -5.84734231e-02,\n",
       "           -6.12259246e-02],\n",
       "          [-1.20574743e-01, -9.96553600e-02, -9.23557580e-02,\n",
       "           -7.05924928e-02]],\n",
       "\n",
       "         [[            nan,             nan, -5.36814937e-03,\n",
       "           -2.01140754e-02],\n",
       "          [            nan,             nan,  4.10471298e-02,\n",
       "            7.63328187e-03],\n",
       "          [            nan,             nan, -1.24898583e-01,\n",
       "           -9.60328504e-02],\n",
       "          ...,\n",
       "          [            nan,             nan, -6.00354373e-02,\n",
       "           -2.68028062e-02],\n",
       "          [            nan,             nan, -4.95917685e-02,\n",
       "           -5.98779060e-02],\n",
       "          [            nan,             nan,  1.54099455e-02,\n",
       "            2.89566740e-02]]]]], dtype=float32)</pre></li><li class='xr-var-item'><div class='xr-var-name'><span>coefficient_true</span></div><div class='xr-var-dims'>(sigma, gamma)</div><div class='xr-var-dtype'>float64</div><div class='xr-var-preview xr-preview'>-0.04346 -0.04482 ... -0.05324</div><input id='attrs-8c8851e5-0fcb-4128-b188-4e0e3b18af11' class='xr-var-attrs-in' type='checkbox' disabled><label for='attrs-8c8851e5-0fcb-4128-b188-4e0e3b18af11' title='Show/Hide attributes'><svg class='icon xr-icon-file-text2'><use xlink:href='#icon-file-text2'></use></svg></label><input id='data-e67cde72-fb1e-4787-b324-7088002ba303' class='xr-var-data-in' type='checkbox'><label for='data-e67cde72-fb1e-4787-b324-7088002ba303' title='Show/Hide data repr'><svg class='icon xr-icon-database'><use xlink:href='#icon-database'></use></svg></label><div class='xr-var-attrs'><dl class='xr-attrs'></dl></div><pre class='xr-var-data'>array([[-0.04346265, -0.04482348, -0.04635   ],\n",
       "       [-0.04269523, -0.04289825, -0.04447869],\n",
       "       [-0.0433546 , -0.04298103, -0.04424309],\n",
       "       [-0.04878019, -0.0476943 , -0.05324382]])</pre></li></ul></div></li><li class='xr-section-item'><input id='section-54ababcb-463a-4afc-9f8c-5e45efc79341' class='xr-section-summary-in' type='checkbox' disabled ><label for='section-54ababcb-463a-4afc-9f8c-5e45efc79341' class='xr-section-summary'  title='Expand/collapse section'>Attributes: <span>(0)</span></label><div class='xr-section-inline-details'></div><div class='xr-section-details'><dl class='xr-attrs'></dl></div></li></ul></div></div>"
      ],
      "text/plain": [
       "<xarray.Dataset>\n",
       "Dimensions:           (LHS: 4, gamma: 3, pop: 4, sample: 1000, sigma: 4)\n",
       "Coordinates:\n",
       "  * pop               (pop) int64 100000 1000000 10000000 100000000\n",
       "  * gamma             (gamma) float64 0.002083 0.008333 0.01375\n",
       "  * sample            (sample) int64 0 1 2 3 4 5 6 ... 994 995 996 997 998 999\n",
       "  * LHS               (LHS) object 'EI' 'EIR' 'I' 'IR'\n",
       "  * sigma             (sigma) float64 0.008333 0.01375 0.02083 inf\n",
       "    policy            <U2 'p1'\n",
       "Data variables:\n",
       "    S_min             (pop, sample, gamma, sigma) float64 0.9716 ... 0.9999\n",
       "    S_min_p3          (pop, sample, gamma, sigma) float64 0.9931 0.9905 ... 1.0\n",
       "    coefficient       (pop, gamma, sigma, sample, LHS) float32 nan ... 0.028956674\n",
       "    coefficient_true  (sigma, gamma) float64 -0.04346 -0.04482 ... -0.05324"
      ]
     },
     "execution_count": 213,
     "metadata": {},
     "output_type": "execute_result"
    }
   ],
   "source": [
    "coeffs.sel(policy=\"p1\")"
   ]
  },
  {
   "cell_type": "code",
   "execution_count": 274,
   "metadata": {},
   "outputs": [],
   "source": [
    "def plot_factor_coeff(ds, pop, LHS_var, title=\"\", n_bins=40, xlim=None, hist_kwargs={\"edgecolor\": \"none\"}, fig_label=None, **facet_kwargs):\n",
    "    \n",
    "    this_true_val = ds.coefficient_true.mean().item()\n",
    "    if this_true_val > 0:\n",
    "        xmin = 0\n",
    "        if xlim is None:\n",
    "            xmax = this_true_val * 2\n",
    "        else:\n",
    "            xmax = xlim\n",
    "        text_ha, text_x, leg_x = (\"left\", .03, .4)\n",
    "    elif this_true_val < 0:\n",
    "        if xlim is None:\n",
    "            xmin = this_true_val * 2\n",
    "        else:\n",
    "            xmin=-xlim\n",
    "        xmax = 0\n",
    "        text_ha, text_x, leg_x = (\"right\", .97,-.1)\n",
    "\n",
    "    g = xr.plot.FacetGrid(ds.sel(LHS=LHS_var, pop=pop), sharey=\"row\", **facet_kwargs)\n",
    "    g.map(lambda x: plt.axvline(x, color=\"k\", label=\"true\"), \"coefficient_true\")\n",
    "    for ax in g.axes.flat:\n",
    "        ax.set_xlim(xmin, xmax)\n",
    "\n",
    "    def nowarn_hist(data, *args, xmin=None, xmax=None, **kwargs):\n",
    "        binmin = max(xmin, np.nanmin(data))\n",
    "        binmax = min(xmax, np.nanmax(data))\n",
    "        with warnings.catch_warnings():\n",
    "            warnings.simplefilter(\"ignore\")\n",
    "            return plt.hist(data, *args, bins=np.linspace(binmin, binmax, n_bins), **kwargs)\n",
    "\n",
    "    g.map(nowarn_hist, \"coefficient\", xmin=xmin, xmax=xmax, **hist_kwargs)\n",
    "    g.map(\n",
    "        lambda x: plt.axvline(\n",
    "            np.nanmedian(x), color=\"r\", linestyle=\"--\", label=\"Median\\nestimate\"\n",
    "        ),\n",
    "        \"coefficient\",\n",
    "    )\n",
    "    g.map(\n",
    "        lambda x, z: plt.text(\n",
    "            text_x,\n",
    "            0.97,\n",
    "            f\"$min(S)$: {x.min().item():.2f}\\nBias: {(np.nanmedian(z)-this_true_val) / this_true_val:.1%}\",\n",
    "            horizontalalignment=text_ha,\n",
    "            verticalalignment=\"top\",\n",
    "            transform=plt.gca().transAxes,\n",
    "        ),\n",
    "        \"S_min\",\n",
    "        \"coefficient\"\n",
    "    )\n",
    "    if ds.policy.item()==\"intercept\":\n",
    "        xlabel=\"No-policy growth rate\"\n",
    "    else:\n",
    "        xlabel=\"Growth rate effect\"\n",
    "    g.axes.flat[0].legend(loc=(leg_x,.2))\n",
    "    g.set_xlabels(xlabel)\n",
    "    g.set_titles(\"$\\{coord} = {value}$\")\n",
    "    g.map(lambda: plt.yticks([]))\n",
    "    if fig_label is not None:\n",
    "        g.fig.text(.03, .97, fig_label, fontsize=7, fontweight='bold', va='top', ha='left')\n",
    "    g.fig.subplots_adjust(top=.9)\n",
    "    g.fig.suptitle(title, va=\"bottom\", y=.95)\n",
    "    sns.despine(g.fig, left=True)\n",
    "    return g"
   ]
  },
  {
   "cell_type": "code",
   "execution_count": 276,
   "metadata": {},
   "outputs": [
    {
     "data": {
      "text/plain": [
       "<Figure size 468x234 with 0 Axes>"
      ]
     },
     "metadata": {},
     "output_type": "display_data"
    },
    {
     "data": {
      "text/plain": [
       "<Figure size 468x234 with 0 Axes>"
      ]
     },
     "metadata": {},
     "output_type": "display_data"
    },
    {
     "data": {
      "text/plain": [
       "<Figure size 468x234 with 0 Axes>"
      ]
     },
     "metadata": {},
     "output_type": "display_data"
    },
    {
     "data": {
      "text/plain": [
       "<Figure size 468x234 with 0 Axes>"
      ]
     },
     "metadata": {},
     "output_type": "display_data"
    },
    {
     "data": {
      "text/plain": [
       "<Figure size 468x234 with 0 Axes>"
      ]
     },
     "metadata": {},
     "output_type": "display_data"
    },
    {
     "data": {
      "text/plain": [
       "<Figure size 468x234 with 0 Axes>"
      ]
     },
     "metadata": {},
     "output_type": "display_data"
    },
    {
     "data": {
      "text/plain": [
       "<Figure size 468x234 with 0 Axes>"
      ]
     },
     "metadata": {},
     "output_type": "display_data"
    },
    {
     "data": {
      "text/plain": [
       "<Figure size 468x234 with 0 Axes>"
      ]
     },
     "metadata": {},
     "output_type": "display_data"
    },
    {
     "data": {
      "text/plain": [
       "<Figure size 468x234 with 0 Axes>"
      ]
     },
     "metadata": {},
     "output_type": "display_data"
    },
    {
     "data": {
      "text/plain": [
       "<Figure size 468x234 with 0 Axes>"
      ]
     },
     "metadata": {},
     "output_type": "display_data"
    },
    {
     "data": {
      "text/plain": [
       "<Figure size 468x234 with 0 Axes>"
      ]
     },
     "metadata": {},
     "output_type": "display_data"
    },
    {
     "data": {
      "text/plain": [
       "<Figure size 468x234 with 0 Axes>"
      ]
     },
     "metadata": {},
     "output_type": "display_data"
    },
    {
     "data": {
      "text/plain": [
       "<Figure size 468x234 with 0 Axes>"
      ]
     },
     "metadata": {},
     "output_type": "display_data"
    },
    {
     "data": {
      "text/plain": [
       "<Figure size 468x234 with 0 Axes>"
      ]
     },
     "metadata": {},
     "output_type": "display_data"
    },
    {
     "data": {
      "text/plain": [
       "<Figure size 468x234 with 0 Axes>"
      ]
     },
     "metadata": {},
     "output_type": "display_data"
    },
    {
     "data": {
      "text/plain": [
       "<Figure size 468x234 with 0 Axes>"
      ]
     },
     "metadata": {},
     "output_type": "display_data"
    },
    {
     "data": {
      "text/plain": [
       "<Figure size 468x234 with 0 Axes>"
      ]
     },
     "metadata": {},
     "output_type": "display_data"
    },
    {
     "data": {
      "text/plain": [
       "<Figure size 468x234 with 0 Axes>"
      ]
     },
     "metadata": {},
     "output_type": "display_data"
    },
    {
     "data": {
      "text/plain": [
       "<Figure size 468x234 with 0 Axes>"
      ]
     },
     "metadata": {},
     "output_type": "display_data"
    },
    {
     "data": {
      "text/plain": [
       "<Figure size 468x234 with 0 Axes>"
      ]
     },
     "metadata": {},
     "output_type": "display_data"
    },
    {
     "data": {
      "text/plain": [
       "<Figure size 468x234 with 0 Axes>"
      ]
     },
     "metadata": {},
     "output_type": "display_data"
    },
    {
     "data": {
      "text/plain": [
       "<Figure size 468x234 with 0 Axes>"
      ]
     },
     "metadata": {},
     "output_type": "display_data"
    },
    {
     "data": {
      "text/plain": [
       "<Figure size 468x234 with 0 Axes>"
      ]
     },
     "metadata": {},
     "output_type": "display_data"
    },
    {
     "data": {
      "text/plain": [
       "<Figure size 468x234 with 0 Axes>"
      ]
     },
     "metadata": {},
     "output_type": "display_data"
    },
    {
     "data": {
      "text/plain": [
       "<Figure size 468x234 with 0 Axes>"
      ]
     },
     "metadata": {},
     "output_type": "display_data"
    },
    {
     "data": {
      "text/plain": [
       "<Figure size 468x234 with 0 Axes>"
      ]
     },
     "metadata": {},
     "output_type": "display_data"
    },
    {
     "data": {
      "text/plain": [
       "<Figure size 468x234 with 0 Axes>"
      ]
     },
     "metadata": {},
     "output_type": "display_data"
    },
    {
     "data": {
      "text/plain": [
       "<Figure size 468x234 with 0 Axes>"
      ]
     },
     "metadata": {},
     "output_type": "display_data"
    },
    {
     "data": {
      "text/plain": [
       "<Figure size 468x234 with 0 Axes>"
      ]
     },
     "metadata": {},
     "output_type": "display_data"
    },
    {
     "data": {
      "text/plain": [
       "<Figure size 468x234 with 0 Axes>"
      ]
     },
     "metadata": {},
     "output_type": "display_data"
    },
    {
     "data": {
      "text/plain": [
       "<Figure size 468x234 with 0 Axes>"
      ]
     },
     "metadata": {},
     "output_type": "display_data"
    },
    {
     "data": {
      "text/plain": [
       "<Figure size 468x234 with 0 Axes>"
      ]
     },
     "metadata": {},
     "output_type": "display_data"
    },
    {
     "data": {
      "text/plain": [
       "<Figure size 468x234 with 0 Axes>"
      ]
     },
     "metadata": {},
     "output_type": "display_data"
    },
    {
     "data": {
      "text/plain": [
       "<Figure size 468x234 with 0 Axes>"
      ]
     },
     "metadata": {},
     "output_type": "display_data"
    },
    {
     "data": {
      "text/plain": [
       "<Figure size 468x234 with 0 Axes>"
      ]
     },
     "metadata": {},
     "output_type": "display_data"
    },
    {
     "data": {
      "text/plain": [
       "<Figure size 468x234 with 0 Axes>"
      ]
     },
     "metadata": {},
     "output_type": "display_data"
    },
    {
     "data": {
      "text/plain": [
       "<Figure size 468x234 with 0 Axes>"
      ]
     },
     "metadata": {},
     "output_type": "display_data"
    },
    {
     "data": {
      "text/plain": [
       "<Figure size 468x234 with 0 Axes>"
      ]
     },
     "metadata": {},
     "output_type": "display_data"
    },
    {
     "data": {
      "text/plain": [
       "<Figure size 468x234 with 0 Axes>"
      ]
     },
     "metadata": {},
     "output_type": "display_data"
    },
    {
     "data": {
      "text/plain": [
       "<Figure size 468x234 with 0 Axes>"
      ]
     },
     "metadata": {},
     "output_type": "display_data"
    }
   ],
   "source": [
    "facet_kwargs = dict(\n",
    "    row=\"sigma\",\n",
    "    col=\"gamma\"\n",
    ")\n",
    "\n",
    "for p in coeffs.pop.values:\n",
    "    multipliers = [\"k\", \"M\", \"B\"]\n",
    "    ix = 0\n",
    "    p_str_val = p/1000\n",
    "    while p_str_val >= 1000:\n",
    "        p_str_val /= 1000\n",
    "        ix += 1\n",
    "    p_str_val = str(int(p_str_val))+multipliers[ix]\n",
    "    for LHS in [\"I\", \"IR\"]:\n",
    "        LHS_dict = {\n",
    "            \"I\": \"Active\\ Cases\",\n",
    "            \"IR\": \"Cumulative\\ Cases\"\n",
    "        }\n",
    "        if p==1e8 and LHS==\"I\":\n",
    "            fig_label=\"a\"\n",
    "        elif p==1e5 and LHS==\"IR\":\n",
    "            fig_label=\"b\"\n",
    "        else:\n",
    "            fig_label=None\n",
    "        title = f\"Pop: {p_str_val}; Dependent Variable: $\\Delta log({LHS_dict[LHS]})$\"\n",
    "        for var in [\"intercept\", \"cum_effect\", \"p1\", \"p2\", \"p3\"]:\n",
    "            \n",
    "            g = plot_factor_coeff(\n",
    "                coeffs.sel(policy=var), \n",
    "                p, \n",
    "                LHS,\n",
    "                title=title, \n",
    "                figsize=(6.5,3.25),\n",
    "                fig_label=fig_label,\n",
    "                xlim=0.5,\n",
    "                **facet_kwargs\n",
    "            )\n",
    "\n",
    "            for suffix in [\"pdf\", \"png\"]:\n",
    "                g.fig.savefig(plot_dir / f\"{var}_pop_{p}_LHS_{LHS}.{suffix}\", dpi=300)\n",
    "            plt.clf()"
   ]
  },
  {
   "cell_type": "markdown",
   "metadata": {},
   "source": [
    "## Showing re-projection performance"
   ]
  },
  {
   "cell_type": "code",
   "execution_count": 285,
   "metadata": {},
   "outputs": [
    {
     "ename": "FileNotFoundError",
     "evalue": "[Errno 2] No such file or directory: b'/home/bolliger/git_repos/gpl-covid/results/other/sims/betaNoise_0.08_gammaNoise_0_sigmaNoise_0/projection/true.nc'",
     "output_type": "error",
     "traceback": [
      "\u001b[0;31m---------------------------------------------------------------------------\u001b[0m",
      "\u001b[0;31mKeyError\u001b[0m                                  Traceback (most recent call last)",
      "\u001b[0;32m~/miniconda3/envs/gpl-covid/lib/python3.7/site-packages/xarray/backends/file_manager.py\u001b[0m in \u001b[0;36m_acquire_with_cache_info\u001b[0;34m(self, needs_lock)\u001b[0m\n\u001b[1;32m    197\u001b[0m             \u001b[0;32mtry\u001b[0m\u001b[0;34m:\u001b[0m\u001b[0;34m\u001b[0m\u001b[0;34m\u001b[0m\u001b[0m\n\u001b[0;32m--> 198\u001b[0;31m                 \u001b[0mfile\u001b[0m \u001b[0;34m=\u001b[0m \u001b[0mself\u001b[0m\u001b[0;34m.\u001b[0m\u001b[0m_cache\u001b[0m\u001b[0;34m[\u001b[0m\u001b[0mself\u001b[0m\u001b[0;34m.\u001b[0m\u001b[0m_key\u001b[0m\u001b[0;34m]\u001b[0m\u001b[0;34m\u001b[0m\u001b[0;34m\u001b[0m\u001b[0m\n\u001b[0m\u001b[1;32m    199\u001b[0m             \u001b[0;32mexcept\u001b[0m \u001b[0mKeyError\u001b[0m\u001b[0;34m:\u001b[0m\u001b[0;34m\u001b[0m\u001b[0;34m\u001b[0m\u001b[0m\n",
      "\u001b[0;32m~/miniconda3/envs/gpl-covid/lib/python3.7/site-packages/xarray/backends/lru_cache.py\u001b[0m in \u001b[0;36m__getitem__\u001b[0;34m(self, key)\u001b[0m\n\u001b[1;32m     52\u001b[0m         \u001b[0;32mwith\u001b[0m \u001b[0mself\u001b[0m\u001b[0;34m.\u001b[0m\u001b[0m_lock\u001b[0m\u001b[0;34m:\u001b[0m\u001b[0;34m\u001b[0m\u001b[0;34m\u001b[0m\u001b[0m\n\u001b[0;32m---> 53\u001b[0;31m             \u001b[0mvalue\u001b[0m \u001b[0;34m=\u001b[0m \u001b[0mself\u001b[0m\u001b[0;34m.\u001b[0m\u001b[0m_cache\u001b[0m\u001b[0;34m[\u001b[0m\u001b[0mkey\u001b[0m\u001b[0;34m]\u001b[0m\u001b[0;34m\u001b[0m\u001b[0;34m\u001b[0m\u001b[0m\n\u001b[0m\u001b[1;32m     54\u001b[0m             \u001b[0mself\u001b[0m\u001b[0;34m.\u001b[0m\u001b[0m_cache\u001b[0m\u001b[0;34m.\u001b[0m\u001b[0mmove_to_end\u001b[0m\u001b[0;34m(\u001b[0m\u001b[0mkey\u001b[0m\u001b[0;34m)\u001b[0m\u001b[0;34m\u001b[0m\u001b[0;34m\u001b[0m\u001b[0m\n",
      "\u001b[0;31mKeyError\u001b[0m: [<class 'netCDF4._netCDF4.Dataset'>, ('/home/bolliger/git_repos/gpl-covid/results/other/sims/betaNoise_0.08_gammaNoise_0_sigmaNoise_0/projection/true.nc',), 'r', (('clobber', True), ('diskless', False), ('format', 'NETCDF4'), ('persist', False))]",
      "\nDuring handling of the above exception, another exception occurred:\n",
      "\u001b[0;31mFileNotFoundError\u001b[0m                         Traceback (most recent call last)",
      "\u001b[0;32m<ipython-input-285-0aefd66cd073>\u001b[0m in \u001b[0;36m<module>\u001b[0;34m\u001b[0m\n\u001b[0;32m----> 1\u001b[0;31m \u001b[0mtrue\u001b[0m \u001b[0;34m=\u001b[0m \u001b[0mxr\u001b[0m\u001b[0;34m.\u001b[0m\u001b[0mopen_dataset\u001b[0m\u001b[0;34m(\u001b[0m\u001b[0mproj_dir\u001b[0m \u001b[0;34m/\u001b[0m \u001b[0;34m\"true.nc\"\u001b[0m\u001b[0;34m)\u001b[0m\u001b[0;34m\u001b[0m\u001b[0;34m\u001b[0m\u001b[0m\n\u001b[0m\u001b[1;32m      2\u001b[0m \u001b[0msir\u001b[0m \u001b[0;34m=\u001b[0m \u001b[0mxr\u001b[0m\u001b[0;34m.\u001b[0m\u001b[0mopen_dataset\u001b[0m\u001b[0;34m(\u001b[0m\u001b[0mproj_dir\u001b[0m \u001b[0;34m/\u001b[0m \u001b[0;34m\"pred_sir.nc\"\u001b[0m\u001b[0;34m)\u001b[0m\u001b[0;34m\u001b[0m\u001b[0;34m\u001b[0m\u001b[0m\n\u001b[1;32m      3\u001b[0m \u001b[0mseir\u001b[0m \u001b[0;34m=\u001b[0m \u001b[0mxr\u001b[0m\u001b[0;34m.\u001b[0m\u001b[0mopen_dataset\u001b[0m\u001b[0;34m(\u001b[0m\u001b[0mproj_dir\u001b[0m \u001b[0;34m/\u001b[0m \u001b[0;34m\"pred_seir.nc\"\u001b[0m\u001b[0;34m)\u001b[0m\u001b[0;34m\u001b[0m\u001b[0;34m\u001b[0m\u001b[0m\n\u001b[1;32m      4\u001b[0m \u001b[0mtrue\u001b[0m\u001b[0;34m.\u001b[0m\u001b[0mload\u001b[0m\u001b[0;34m(\u001b[0m\u001b[0;34m)\u001b[0m\u001b[0;34m\u001b[0m\u001b[0;34m\u001b[0m\u001b[0m\n\u001b[1;32m      5\u001b[0m \u001b[0msir\u001b[0m\u001b[0;34m.\u001b[0m\u001b[0mload\u001b[0m\u001b[0;34m(\u001b[0m\u001b[0;34m)\u001b[0m\u001b[0;34m\u001b[0m\u001b[0;34m\u001b[0m\u001b[0m\n",
      "\u001b[0;32m~/miniconda3/envs/gpl-covid/lib/python3.7/site-packages/xarray/backends/api.py\u001b[0m in \u001b[0;36mopen_dataset\u001b[0;34m(filename_or_obj, group, decode_cf, mask_and_scale, decode_times, autoclose, concat_characters, decode_coords, engine, chunks, lock, cache, drop_variables, backend_kwargs, use_cftime)\u001b[0m\n\u001b[1;32m    500\u001b[0m         \u001b[0;32mif\u001b[0m \u001b[0mengine\u001b[0m \u001b[0;34m==\u001b[0m \u001b[0;34m\"netcdf4\"\u001b[0m\u001b[0;34m:\u001b[0m\u001b[0;34m\u001b[0m\u001b[0;34m\u001b[0m\u001b[0m\n\u001b[1;32m    501\u001b[0m             store = backends.NetCDF4DataStore.open(\n\u001b[0;32m--> 502\u001b[0;31m                 \u001b[0mfilename_or_obj\u001b[0m\u001b[0;34m,\u001b[0m \u001b[0mgroup\u001b[0m\u001b[0;34m=\u001b[0m\u001b[0mgroup\u001b[0m\u001b[0;34m,\u001b[0m \u001b[0mlock\u001b[0m\u001b[0;34m=\u001b[0m\u001b[0mlock\u001b[0m\u001b[0;34m,\u001b[0m \u001b[0;34m**\u001b[0m\u001b[0mbackend_kwargs\u001b[0m\u001b[0;34m\u001b[0m\u001b[0;34m\u001b[0m\u001b[0m\n\u001b[0m\u001b[1;32m    503\u001b[0m             )\n\u001b[1;32m    504\u001b[0m         \u001b[0;32melif\u001b[0m \u001b[0mengine\u001b[0m \u001b[0;34m==\u001b[0m \u001b[0;34m\"scipy\"\u001b[0m\u001b[0;34m:\u001b[0m\u001b[0;34m\u001b[0m\u001b[0;34m\u001b[0m\u001b[0m\n",
      "\u001b[0;32m~/miniconda3/envs/gpl-covid/lib/python3.7/site-packages/xarray/backends/netCDF4_.py\u001b[0m in \u001b[0;36mopen\u001b[0;34m(cls, filename, mode, format, group, clobber, diskless, persist, lock, lock_maker, autoclose)\u001b[0m\n\u001b[1;32m    356\u001b[0m             \u001b[0mnetCDF4\u001b[0m\u001b[0;34m.\u001b[0m\u001b[0mDataset\u001b[0m\u001b[0;34m,\u001b[0m \u001b[0mfilename\u001b[0m\u001b[0;34m,\u001b[0m \u001b[0mmode\u001b[0m\u001b[0;34m=\u001b[0m\u001b[0mmode\u001b[0m\u001b[0;34m,\u001b[0m \u001b[0mkwargs\u001b[0m\u001b[0;34m=\u001b[0m\u001b[0mkwargs\u001b[0m\u001b[0;34m\u001b[0m\u001b[0;34m\u001b[0m\u001b[0m\n\u001b[1;32m    357\u001b[0m         )\n\u001b[0;32m--> 358\u001b[0;31m         \u001b[0;32mreturn\u001b[0m \u001b[0mcls\u001b[0m\u001b[0;34m(\u001b[0m\u001b[0mmanager\u001b[0m\u001b[0;34m,\u001b[0m \u001b[0mgroup\u001b[0m\u001b[0;34m=\u001b[0m\u001b[0mgroup\u001b[0m\u001b[0;34m,\u001b[0m \u001b[0mmode\u001b[0m\u001b[0;34m=\u001b[0m\u001b[0mmode\u001b[0m\u001b[0;34m,\u001b[0m \u001b[0mlock\u001b[0m\u001b[0;34m=\u001b[0m\u001b[0mlock\u001b[0m\u001b[0;34m,\u001b[0m \u001b[0mautoclose\u001b[0m\u001b[0;34m=\u001b[0m\u001b[0mautoclose\u001b[0m\u001b[0;34m)\u001b[0m\u001b[0;34m\u001b[0m\u001b[0;34m\u001b[0m\u001b[0m\n\u001b[0m\u001b[1;32m    359\u001b[0m \u001b[0;34m\u001b[0m\u001b[0m\n\u001b[1;32m    360\u001b[0m     \u001b[0;32mdef\u001b[0m \u001b[0m_acquire\u001b[0m\u001b[0;34m(\u001b[0m\u001b[0mself\u001b[0m\u001b[0;34m,\u001b[0m \u001b[0mneeds_lock\u001b[0m\u001b[0;34m=\u001b[0m\u001b[0;32mTrue\u001b[0m\u001b[0;34m)\u001b[0m\u001b[0;34m:\u001b[0m\u001b[0;34m\u001b[0m\u001b[0;34m\u001b[0m\u001b[0m\n",
      "\u001b[0;32m~/miniconda3/envs/gpl-covid/lib/python3.7/site-packages/xarray/backends/netCDF4_.py\u001b[0m in \u001b[0;36m__init__\u001b[0;34m(self, manager, group, mode, lock, autoclose)\u001b[0m\n\u001b[1;32m    312\u001b[0m         \u001b[0mself\u001b[0m\u001b[0;34m.\u001b[0m\u001b[0m_group\u001b[0m \u001b[0;34m=\u001b[0m \u001b[0mgroup\u001b[0m\u001b[0;34m\u001b[0m\u001b[0;34m\u001b[0m\u001b[0m\n\u001b[1;32m    313\u001b[0m         \u001b[0mself\u001b[0m\u001b[0;34m.\u001b[0m\u001b[0m_mode\u001b[0m \u001b[0;34m=\u001b[0m \u001b[0mmode\u001b[0m\u001b[0;34m\u001b[0m\u001b[0;34m\u001b[0m\u001b[0m\n\u001b[0;32m--> 314\u001b[0;31m         \u001b[0mself\u001b[0m\u001b[0;34m.\u001b[0m\u001b[0mformat\u001b[0m \u001b[0;34m=\u001b[0m \u001b[0mself\u001b[0m\u001b[0;34m.\u001b[0m\u001b[0mds\u001b[0m\u001b[0;34m.\u001b[0m\u001b[0mdata_model\u001b[0m\u001b[0;34m\u001b[0m\u001b[0;34m\u001b[0m\u001b[0m\n\u001b[0m\u001b[1;32m    315\u001b[0m         \u001b[0mself\u001b[0m\u001b[0;34m.\u001b[0m\u001b[0m_filename\u001b[0m \u001b[0;34m=\u001b[0m \u001b[0mself\u001b[0m\u001b[0;34m.\u001b[0m\u001b[0mds\u001b[0m\u001b[0;34m.\u001b[0m\u001b[0mfilepath\u001b[0m\u001b[0;34m(\u001b[0m\u001b[0;34m)\u001b[0m\u001b[0;34m\u001b[0m\u001b[0;34m\u001b[0m\u001b[0m\n\u001b[1;32m    316\u001b[0m         \u001b[0mself\u001b[0m\u001b[0;34m.\u001b[0m\u001b[0mis_remote\u001b[0m \u001b[0;34m=\u001b[0m \u001b[0mis_remote_uri\u001b[0m\u001b[0;34m(\u001b[0m\u001b[0mself\u001b[0m\u001b[0;34m.\u001b[0m\u001b[0m_filename\u001b[0m\u001b[0;34m)\u001b[0m\u001b[0;34m\u001b[0m\u001b[0;34m\u001b[0m\u001b[0m\n",
      "\u001b[0;32m~/miniconda3/envs/gpl-covid/lib/python3.7/site-packages/xarray/backends/netCDF4_.py\u001b[0m in \u001b[0;36mds\u001b[0;34m(self)\u001b[0m\n\u001b[1;32m    365\u001b[0m     \u001b[0;34m@\u001b[0m\u001b[0mproperty\u001b[0m\u001b[0;34m\u001b[0m\u001b[0;34m\u001b[0m\u001b[0m\n\u001b[1;32m    366\u001b[0m     \u001b[0;32mdef\u001b[0m \u001b[0mds\u001b[0m\u001b[0;34m(\u001b[0m\u001b[0mself\u001b[0m\u001b[0;34m)\u001b[0m\u001b[0;34m:\u001b[0m\u001b[0;34m\u001b[0m\u001b[0;34m\u001b[0m\u001b[0m\n\u001b[0;32m--> 367\u001b[0;31m         \u001b[0;32mreturn\u001b[0m \u001b[0mself\u001b[0m\u001b[0;34m.\u001b[0m\u001b[0m_acquire\u001b[0m\u001b[0;34m(\u001b[0m\u001b[0;34m)\u001b[0m\u001b[0;34m\u001b[0m\u001b[0;34m\u001b[0m\u001b[0m\n\u001b[0m\u001b[1;32m    368\u001b[0m \u001b[0;34m\u001b[0m\u001b[0m\n\u001b[1;32m    369\u001b[0m     \u001b[0;32mdef\u001b[0m \u001b[0mopen_store_variable\u001b[0m\u001b[0;34m(\u001b[0m\u001b[0mself\u001b[0m\u001b[0;34m,\u001b[0m \u001b[0mname\u001b[0m\u001b[0;34m,\u001b[0m \u001b[0mvar\u001b[0m\u001b[0;34m)\u001b[0m\u001b[0;34m:\u001b[0m\u001b[0;34m\u001b[0m\u001b[0;34m\u001b[0m\u001b[0m\n",
      "\u001b[0;32m~/miniconda3/envs/gpl-covid/lib/python3.7/site-packages/xarray/backends/netCDF4_.py\u001b[0m in \u001b[0;36m_acquire\u001b[0;34m(self, needs_lock)\u001b[0m\n\u001b[1;32m    359\u001b[0m \u001b[0;34m\u001b[0m\u001b[0m\n\u001b[1;32m    360\u001b[0m     \u001b[0;32mdef\u001b[0m \u001b[0m_acquire\u001b[0m\u001b[0;34m(\u001b[0m\u001b[0mself\u001b[0m\u001b[0;34m,\u001b[0m \u001b[0mneeds_lock\u001b[0m\u001b[0;34m=\u001b[0m\u001b[0;32mTrue\u001b[0m\u001b[0;34m)\u001b[0m\u001b[0;34m:\u001b[0m\u001b[0;34m\u001b[0m\u001b[0;34m\u001b[0m\u001b[0m\n\u001b[0;32m--> 361\u001b[0;31m         \u001b[0;32mwith\u001b[0m \u001b[0mself\u001b[0m\u001b[0;34m.\u001b[0m\u001b[0m_manager\u001b[0m\u001b[0;34m.\u001b[0m\u001b[0macquire_context\u001b[0m\u001b[0;34m(\u001b[0m\u001b[0mneeds_lock\u001b[0m\u001b[0;34m)\u001b[0m \u001b[0;32mas\u001b[0m \u001b[0mroot\u001b[0m\u001b[0;34m:\u001b[0m\u001b[0;34m\u001b[0m\u001b[0;34m\u001b[0m\u001b[0m\n\u001b[0m\u001b[1;32m    362\u001b[0m             \u001b[0mds\u001b[0m \u001b[0;34m=\u001b[0m \u001b[0m_nc4_require_group\u001b[0m\u001b[0;34m(\u001b[0m\u001b[0mroot\u001b[0m\u001b[0;34m,\u001b[0m \u001b[0mself\u001b[0m\u001b[0;34m.\u001b[0m\u001b[0m_group\u001b[0m\u001b[0;34m,\u001b[0m \u001b[0mself\u001b[0m\u001b[0;34m.\u001b[0m\u001b[0m_mode\u001b[0m\u001b[0;34m)\u001b[0m\u001b[0;34m\u001b[0m\u001b[0;34m\u001b[0m\u001b[0m\n\u001b[1;32m    363\u001b[0m         \u001b[0;32mreturn\u001b[0m \u001b[0mds\u001b[0m\u001b[0;34m\u001b[0m\u001b[0;34m\u001b[0m\u001b[0m\n",
      "\u001b[0;32m~/miniconda3/envs/gpl-covid/lib/python3.7/contextlib.py\u001b[0m in \u001b[0;36m__enter__\u001b[0;34m(self)\u001b[0m\n\u001b[1;32m    110\u001b[0m         \u001b[0;32mdel\u001b[0m \u001b[0mself\u001b[0m\u001b[0;34m.\u001b[0m\u001b[0margs\u001b[0m\u001b[0;34m,\u001b[0m \u001b[0mself\u001b[0m\u001b[0;34m.\u001b[0m\u001b[0mkwds\u001b[0m\u001b[0;34m,\u001b[0m \u001b[0mself\u001b[0m\u001b[0;34m.\u001b[0m\u001b[0mfunc\u001b[0m\u001b[0;34m\u001b[0m\u001b[0;34m\u001b[0m\u001b[0m\n\u001b[1;32m    111\u001b[0m         \u001b[0;32mtry\u001b[0m\u001b[0;34m:\u001b[0m\u001b[0;34m\u001b[0m\u001b[0;34m\u001b[0m\u001b[0m\n\u001b[0;32m--> 112\u001b[0;31m             \u001b[0;32mreturn\u001b[0m \u001b[0mnext\u001b[0m\u001b[0;34m(\u001b[0m\u001b[0mself\u001b[0m\u001b[0;34m.\u001b[0m\u001b[0mgen\u001b[0m\u001b[0;34m)\u001b[0m\u001b[0;34m\u001b[0m\u001b[0;34m\u001b[0m\u001b[0m\n\u001b[0m\u001b[1;32m    113\u001b[0m         \u001b[0;32mexcept\u001b[0m \u001b[0mStopIteration\u001b[0m\u001b[0;34m:\u001b[0m\u001b[0;34m\u001b[0m\u001b[0;34m\u001b[0m\u001b[0m\n\u001b[1;32m    114\u001b[0m             \u001b[0;32mraise\u001b[0m \u001b[0mRuntimeError\u001b[0m\u001b[0;34m(\u001b[0m\u001b[0;34m\"generator didn't yield\"\u001b[0m\u001b[0;34m)\u001b[0m \u001b[0;32mfrom\u001b[0m \u001b[0;32mNone\u001b[0m\u001b[0;34m\u001b[0m\u001b[0;34m\u001b[0m\u001b[0m\n",
      "\u001b[0;32m~/miniconda3/envs/gpl-covid/lib/python3.7/site-packages/xarray/backends/file_manager.py\u001b[0m in \u001b[0;36macquire_context\u001b[0;34m(self, needs_lock)\u001b[0m\n\u001b[1;32m    184\u001b[0m     \u001b[0;32mdef\u001b[0m \u001b[0macquire_context\u001b[0m\u001b[0;34m(\u001b[0m\u001b[0mself\u001b[0m\u001b[0;34m,\u001b[0m \u001b[0mneeds_lock\u001b[0m\u001b[0;34m=\u001b[0m\u001b[0;32mTrue\u001b[0m\u001b[0;34m)\u001b[0m\u001b[0;34m:\u001b[0m\u001b[0;34m\u001b[0m\u001b[0;34m\u001b[0m\u001b[0m\n\u001b[1;32m    185\u001b[0m         \u001b[0;34m\"\"\"Context manager for acquiring a file.\"\"\"\u001b[0m\u001b[0;34m\u001b[0m\u001b[0;34m\u001b[0m\u001b[0m\n\u001b[0;32m--> 186\u001b[0;31m         \u001b[0mfile\u001b[0m\u001b[0;34m,\u001b[0m \u001b[0mcached\u001b[0m \u001b[0;34m=\u001b[0m \u001b[0mself\u001b[0m\u001b[0;34m.\u001b[0m\u001b[0m_acquire_with_cache_info\u001b[0m\u001b[0;34m(\u001b[0m\u001b[0mneeds_lock\u001b[0m\u001b[0;34m)\u001b[0m\u001b[0;34m\u001b[0m\u001b[0;34m\u001b[0m\u001b[0m\n\u001b[0m\u001b[1;32m    187\u001b[0m         \u001b[0;32mtry\u001b[0m\u001b[0;34m:\u001b[0m\u001b[0;34m\u001b[0m\u001b[0;34m\u001b[0m\u001b[0m\n\u001b[1;32m    188\u001b[0m             \u001b[0;32myield\u001b[0m \u001b[0mfile\u001b[0m\u001b[0;34m\u001b[0m\u001b[0;34m\u001b[0m\u001b[0m\n",
      "\u001b[0;32m~/miniconda3/envs/gpl-covid/lib/python3.7/site-packages/xarray/backends/file_manager.py\u001b[0m in \u001b[0;36m_acquire_with_cache_info\u001b[0;34m(self, needs_lock)\u001b[0m\n\u001b[1;32m    202\u001b[0m                     \u001b[0mkwargs\u001b[0m \u001b[0;34m=\u001b[0m \u001b[0mkwargs\u001b[0m\u001b[0;34m.\u001b[0m\u001b[0mcopy\u001b[0m\u001b[0;34m(\u001b[0m\u001b[0;34m)\u001b[0m\u001b[0;34m\u001b[0m\u001b[0;34m\u001b[0m\u001b[0m\n\u001b[1;32m    203\u001b[0m                     \u001b[0mkwargs\u001b[0m\u001b[0;34m[\u001b[0m\u001b[0;34m\"mode\"\u001b[0m\u001b[0;34m]\u001b[0m \u001b[0;34m=\u001b[0m \u001b[0mself\u001b[0m\u001b[0;34m.\u001b[0m\u001b[0m_mode\u001b[0m\u001b[0;34m\u001b[0m\u001b[0;34m\u001b[0m\u001b[0m\n\u001b[0;32m--> 204\u001b[0;31m                 \u001b[0mfile\u001b[0m \u001b[0;34m=\u001b[0m \u001b[0mself\u001b[0m\u001b[0;34m.\u001b[0m\u001b[0m_opener\u001b[0m\u001b[0;34m(\u001b[0m\u001b[0;34m*\u001b[0m\u001b[0mself\u001b[0m\u001b[0;34m.\u001b[0m\u001b[0m_args\u001b[0m\u001b[0;34m,\u001b[0m \u001b[0;34m**\u001b[0m\u001b[0mkwargs\u001b[0m\u001b[0;34m)\u001b[0m\u001b[0;34m\u001b[0m\u001b[0;34m\u001b[0m\u001b[0m\n\u001b[0m\u001b[1;32m    205\u001b[0m                 \u001b[0;32mif\u001b[0m \u001b[0mself\u001b[0m\u001b[0;34m.\u001b[0m\u001b[0m_mode\u001b[0m \u001b[0;34m==\u001b[0m \u001b[0;34m\"w\"\u001b[0m\u001b[0;34m:\u001b[0m\u001b[0;34m\u001b[0m\u001b[0;34m\u001b[0m\u001b[0m\n\u001b[1;32m    206\u001b[0m                     \u001b[0;31m# ensure file doesn't get overriden when opened again\u001b[0m\u001b[0;34m\u001b[0m\u001b[0;34m\u001b[0m\u001b[0;34m\u001b[0m\u001b[0m\n",
      "\u001b[0;32mnetCDF4/_netCDF4.pyx\u001b[0m in \u001b[0;36mnetCDF4._netCDF4.Dataset.__init__\u001b[0;34m()\u001b[0m\n",
      "\u001b[0;32mnetCDF4/_netCDF4.pyx\u001b[0m in \u001b[0;36mnetCDF4._netCDF4._ensure_nc_success\u001b[0;34m()\u001b[0m\n",
      "\u001b[0;31mFileNotFoundError\u001b[0m: [Errno 2] No such file or directory: b'/home/bolliger/git_repos/gpl-covid/results/other/sims/betaNoise_0.08_gammaNoise_0_sigmaNoise_0/projection/true.nc'"
     ]
    }
   ],
   "source": [
    "true = xr.open_dataset(proj_dir / \"true.nc\")\n",
    "sir = xr.open_dataset(proj_dir / \"pred_sir.nc\")\n",
    "seir = xr.open_dataset(proj_dir / \"pred_seir.nc\")\n",
    "true.load()\n",
    "sir.load()\n",
    "seir.load()\n",
    "\n",
    "sir[\"cum_cases_steady_state\"] = 1 - (sir.gamma_deterministic / sir.beta_deterministic.isel(t=-1))\n",
    "seir[\"cum_cases_steady_state\"] = 1 - (seir.gamma_deterministic / seir.beta_deterministic.isel(t=-1))\n",
    "true[\"cum_cases_steady_state\"] = 1 - (true.gamma / 24 / true.beta_deterministic.isel(t=-1))\n",
    "\n",
    "full_ds = {\n",
    "    \"true\": true,\n",
    "    \"sir\": sir,\n",
    "    \"seir\": seir\n",
    "}\n",
    "\n",
    "# add on cum observed cases\n",
    "for k,v in full_ds.items():\n",
    "    v[\"IR\"] = v.I + v.R"
   ]
  },
  {
   "cell_type": "code",
   "execution_count": 3,
   "metadata": {},
   "outputs": [],
   "source": [
    "means = {k:v.mean(dim=\"sample\") for k,v in full_ds.items()}\n",
    "p95 = {k:v.quantile(.95, dim=\"sample\") for k,v in full_ds.items()}\n",
    "p50 = {k:v.quantile(.5, dim=\"sample\") for k,v in full_ds.items()}\n",
    "p05 = {k:v.quantile(.05, dim=\"sample\") for k,v in full_ds.items()}\n",
    "\n",
    "qs = {k: xr.concat([p05[k], p50[k], p95[k]], dim=\"quantile\") for k in p50.keys()}"
   ]
  },
  {
   "cell_type": "code",
   "execution_count": 8,
   "metadata": {
    "collapsed": true,
    "jupyter": {
     "outputs_hidden": true
    }
   },
   "outputs": [
    {
     "name": "stderr",
     "output_type": "stream",
     "text": [
      "/home/bolliger/miniconda3/envs/gpl-covid/lib/python3.7/site-packages/xarray/plot/facetgrid.py:171: RuntimeWarning: More than 20 figures have been opened. Figures created through the pyplot interface (`matplotlib.pyplot.figure`) are retained until explicitly closed and may consume too much memory. (To control this warning, see the rcParam `figure.max_open_warning`).\n",
      "  subplot_kw=subplot_kws,\n",
      "/home/bolliger/miniconda3/envs/gpl-covid/lib/python3.7/site-packages/xarray/plot/facetgrid.py:171: RuntimeWarning: More than 20 figures have been opened. Figures created through the pyplot interface (`matplotlib.pyplot.figure`) are retained until explicitly closed and may consume too much memory. (To control this warning, see the rcParam `figure.max_open_warning`).\n",
      "  subplot_kw=subplot_kws,\n",
      "/home/bolliger/miniconda3/envs/gpl-covid/lib/python3.7/site-packages/xarray/plot/facetgrid.py:171: RuntimeWarning: More than 20 figures have been opened. Figures created through the pyplot interface (`matplotlib.pyplot.figure`) are retained until explicitly closed and may consume too much memory. (To control this warning, see the rcParam `figure.max_open_warning`).\n",
      "  subplot_kw=subplot_kws,\n",
      "/home/bolliger/miniconda3/envs/gpl-covid/lib/python3.7/site-packages/xarray/plot/facetgrid.py:171: RuntimeWarning: More than 20 figures have been opened. Figures created through the pyplot interface (`matplotlib.pyplot.figure`) are retained until explicitly closed and may consume too much memory. (To control this warning, see the rcParam `figure.max_open_warning`).\n",
      "  subplot_kw=subplot_kws,\n",
      "/home/bolliger/miniconda3/envs/gpl-covid/lib/python3.7/site-packages/xarray/plot/facetgrid.py:171: RuntimeWarning: More than 20 figures have been opened. Figures created through the pyplot interface (`matplotlib.pyplot.figure`) are retained until explicitly closed and may consume too much memory. (To control this warning, see the rcParam `figure.max_open_warning`).\n",
      "  subplot_kw=subplot_kws,\n",
      "/home/bolliger/miniconda3/envs/gpl-covid/lib/python3.7/site-packages/xarray/plot/facetgrid.py:171: RuntimeWarning: More than 20 figures have been opened. Figures created through the pyplot interface (`matplotlib.pyplot.figure`) are retained until explicitly closed and may consume too much memory. (To control this warning, see the rcParam `figure.max_open_warning`).\n",
      "  subplot_kw=subplot_kws,\n",
      "/home/bolliger/miniconda3/envs/gpl-covid/lib/python3.7/site-packages/xarray/plot/facetgrid.py:171: RuntimeWarning: More than 20 figures have been opened. Figures created through the pyplot interface (`matplotlib.pyplot.figure`) are retained until explicitly closed and may consume too much memory. (To control this warning, see the rcParam `figure.max_open_warning`).\n",
      "  subplot_kw=subplot_kws,\n",
      "/home/bolliger/miniconda3/envs/gpl-covid/lib/python3.7/site-packages/xarray/plot/facetgrid.py:171: RuntimeWarning: More than 20 figures have been opened. Figures created through the pyplot interface (`matplotlib.pyplot.figure`) are retained until explicitly closed and may consume too much memory. (To control this warning, see the rcParam `figure.max_open_warning`).\n",
      "  subplot_kw=subplot_kws,\n",
      "/home/bolliger/miniconda3/envs/gpl-covid/lib/python3.7/site-packages/xarray/plot/facetgrid.py:171: RuntimeWarning: More than 20 figures have been opened. Figures created through the pyplot interface (`matplotlib.pyplot.figure`) are retained until explicitly closed and may consume too much memory. (To control this warning, see the rcParam `figure.max_open_warning`).\n",
      "  subplot_kw=subplot_kws,\n",
      "/home/bolliger/miniconda3/envs/gpl-covid/lib/python3.7/site-packages/xarray/plot/facetgrid.py:171: RuntimeWarning: More than 20 figures have been opened. Figures created through the pyplot interface (`matplotlib.pyplot.figure`) are retained until explicitly closed and may consume too much memory. (To control this warning, see the rcParam `figure.max_open_warning`).\n",
      "  subplot_kw=subplot_kws,\n",
      "/home/bolliger/miniconda3/envs/gpl-covid/lib/python3.7/site-packages/xarray/plot/facetgrid.py:171: RuntimeWarning: More than 20 figures have been opened. Figures created through the pyplot interface (`matplotlib.pyplot.figure`) are retained until explicitly closed and may consume too much memory. (To control this warning, see the rcParam `figure.max_open_warning`).\n",
      "  subplot_kw=subplot_kws,\n",
      "/home/bolliger/miniconda3/envs/gpl-covid/lib/python3.7/site-packages/xarray/plot/facetgrid.py:171: RuntimeWarning: More than 20 figures have been opened. Figures created through the pyplot interface (`matplotlib.pyplot.figure`) are retained until explicitly closed and may consume too much memory. (To control this warning, see the rcParam `figure.max_open_warning`).\n",
      "  subplot_kw=subplot_kws,\n",
      "/home/bolliger/miniconda3/envs/gpl-covid/lib/python3.7/site-packages/xarray/plot/facetgrid.py:171: RuntimeWarning: More than 20 figures have been opened. Figures created through the pyplot interface (`matplotlib.pyplot.figure`) are retained until explicitly closed and may consume too much memory. (To control this warning, see the rcParam `figure.max_open_warning`).\n",
      "  subplot_kw=subplot_kws,\n",
      "/home/bolliger/miniconda3/envs/gpl-covid/lib/python3.7/site-packages/xarray/plot/facetgrid.py:171: RuntimeWarning: More than 20 figures have been opened. Figures created through the pyplot interface (`matplotlib.pyplot.figure`) are retained until explicitly closed and may consume too much memory. (To control this warning, see the rcParam `figure.max_open_warning`).\n",
      "  subplot_kw=subplot_kws,\n",
      "/home/bolliger/miniconda3/envs/gpl-covid/lib/python3.7/site-packages/xarray/plot/facetgrid.py:171: RuntimeWarning: More than 20 figures have been opened. Figures created through the pyplot interface (`matplotlib.pyplot.figure`) are retained until explicitly closed and may consume too much memory. (To control this warning, see the rcParam `figure.max_open_warning`).\n",
      "  subplot_kw=subplot_kws,\n",
      "/home/bolliger/miniconda3/envs/gpl-covid/lib/python3.7/site-packages/xarray/plot/facetgrid.py:171: RuntimeWarning: More than 20 figures have been opened. Figures created through the pyplot interface (`matplotlib.pyplot.figure`) are retained until explicitly closed and may consume too much memory. (To control this warning, see the rcParam `figure.max_open_warning`).\n",
      "  subplot_kw=subplot_kws,\n"
     ]
    },
    {
     "data": {
      "text/plain": [
       "<Figure size 720x648 with 0 Axes>"
      ]
     },
     "metadata": {},
     "output_type": "display_data"
    },
    {
     "data": {
      "text/plain": [
       "<Figure size 720x648 with 0 Axes>"
      ]
     },
     "metadata": {},
     "output_type": "display_data"
    },
    {
     "data": {
      "text/plain": [
       "<Figure size 720x648 with 0 Axes>"
      ]
     },
     "metadata": {},
     "output_type": "display_data"
    },
    {
     "data": {
      "text/plain": [
       "<Figure size 720x648 with 0 Axes>"
      ]
     },
     "metadata": {},
     "output_type": "display_data"
    },
    {
     "data": {
      "text/plain": [
       "<Figure size 720x648 with 0 Axes>"
      ]
     },
     "metadata": {},
     "output_type": "display_data"
    },
    {
     "data": {
      "text/plain": [
       "<Figure size 720x648 with 0 Axes>"
      ]
     },
     "metadata": {},
     "output_type": "display_data"
    },
    {
     "data": {
      "text/plain": [
       "<Figure size 720x648 with 0 Axes>"
      ]
     },
     "metadata": {},
     "output_type": "display_data"
    },
    {
     "data": {
      "text/plain": [
       "<Figure size 720x648 with 0 Axes>"
      ]
     },
     "metadata": {},
     "output_type": "display_data"
    },
    {
     "data": {
      "text/plain": [
       "<Figure size 720x648 with 0 Axes>"
      ]
     },
     "metadata": {},
     "output_type": "display_data"
    },
    {
     "data": {
      "text/plain": [
       "<Figure size 720x648 with 0 Axes>"
      ]
     },
     "metadata": {},
     "output_type": "display_data"
    },
    {
     "data": {
      "text/plain": [
       "<Figure size 720x648 with 0 Axes>"
      ]
     },
     "metadata": {},
     "output_type": "display_data"
    },
    {
     "data": {
      "text/plain": [
       "<Figure size 720x648 with 0 Axes>"
      ]
     },
     "metadata": {},
     "output_type": "display_data"
    },
    {
     "data": {
      "text/plain": [
       "<Figure size 720x648 with 0 Axes>"
      ]
     },
     "metadata": {},
     "output_type": "display_data"
    },
    {
     "data": {
      "text/plain": [
       "<Figure size 720x648 with 0 Axes>"
      ]
     },
     "metadata": {},
     "output_type": "display_data"
    },
    {
     "data": {
      "text/plain": [
       "<Figure size 720x648 with 0 Axes>"
      ]
     },
     "metadata": {},
     "output_type": "display_data"
    },
    {
     "data": {
      "text/plain": [
       "<Figure size 720x648 with 0 Axes>"
      ]
     },
     "metadata": {},
     "output_type": "display_data"
    },
    {
     "data": {
      "text/plain": [
       "<Figure size 720x648 with 0 Axes>"
      ]
     },
     "metadata": {},
     "output_type": "display_data"
    },
    {
     "data": {
      "text/plain": [
       "<Figure size 720x648 with 0 Axes>"
      ]
     },
     "metadata": {},
     "output_type": "display_data"
    },
    {
     "data": {
      "text/plain": [
       "<Figure size 720x648 with 0 Axes>"
      ]
     },
     "metadata": {},
     "output_type": "display_data"
    },
    {
     "data": {
      "text/plain": [
       "<Figure size 720x648 with 0 Axes>"
      ]
     },
     "metadata": {},
     "output_type": "display_data"
    },
    {
     "data": {
      "text/plain": [
       "<Figure size 720x648 with 0 Axes>"
      ]
     },
     "metadata": {},
     "output_type": "display_data"
    },
    {
     "data": {
      "text/plain": [
       "<Figure size 720x648 with 0 Axes>"
      ]
     },
     "metadata": {},
     "output_type": "display_data"
    },
    {
     "data": {
      "text/plain": [
       "<Figure size 720x648 with 0 Axes>"
      ]
     },
     "metadata": {},
     "output_type": "display_data"
    },
    {
     "data": {
      "text/plain": [
       "<Figure size 720x648 with 0 Axes>"
      ]
     },
     "metadata": {},
     "output_type": "display_data"
    },
    {
     "data": {
      "text/plain": [
       "<Figure size 720x648 with 0 Axes>"
      ]
     },
     "metadata": {},
     "output_type": "display_data"
    },
    {
     "data": {
      "text/plain": [
       "<Figure size 720x648 with 0 Axes>"
      ]
     },
     "metadata": {},
     "output_type": "display_data"
    },
    {
     "data": {
      "text/plain": [
       "<Figure size 720x648 with 0 Axes>"
      ]
     },
     "metadata": {},
     "output_type": "display_data"
    },
    {
     "data": {
      "text/plain": [
       "<Figure size 720x648 with 0 Axes>"
      ]
     },
     "metadata": {},
     "output_type": "display_data"
    },
    {
     "data": {
      "text/plain": [
       "<Figure size 720x648 with 0 Axes>"
      ]
     },
     "metadata": {},
     "output_type": "display_data"
    },
    {
     "data": {
      "text/plain": [
       "<Figure size 720x648 with 0 Axes>"
      ]
     },
     "metadata": {},
     "output_type": "display_data"
    },
    {
     "data": {
      "text/plain": [
       "<Figure size 720x648 with 0 Axes>"
      ]
     },
     "metadata": {},
     "output_type": "display_data"
    },
    {
     "data": {
      "text/plain": [
       "<Figure size 720x648 with 0 Axes>"
      ]
     },
     "metadata": {},
     "output_type": "display_data"
    },
    {
     "data": {
      "text/plain": [
       "<Figure size 720x648 with 0 Axes>"
      ]
     },
     "metadata": {},
     "output_type": "display_data"
    },
    {
     "data": {
      "text/plain": [
       "<Figure size 720x648 with 0 Axes>"
      ]
     },
     "metadata": {},
     "output_type": "display_data"
    },
    {
     "data": {
      "text/plain": [
       "<Figure size 720x648 with 0 Axes>"
      ]
     },
     "metadata": {},
     "output_type": "display_data"
    },
    {
     "data": {
      "text/plain": [
       "<Figure size 720x648 with 0 Axes>"
      ]
     },
     "metadata": {},
     "output_type": "display_data"
    }
   ],
   "source": [
    "for s_proj in qs[\"seir\"].sigma_proj.values:\n",
    "    for L in qs[\"seir\"].LHS.values:\n",
    "        this_ds = xr.concat(\n",
    "            [\n",
    "                qs[\"true\"].drop(\"E\"), \n",
    "                qs[\"sir\"].sel(LHS=L), \n",
    "                qs[\"seir\"].sel(LHS=L).sel(sigma_proj=s_proj).drop(\"E\")\n",
    "            ], \n",
    "            dim=\"model\",\n",
    "        )\n",
    "        this_ds[\"model\"] = [\"true\", \"sir\", \"seir\"]\n",
    "        for p in qs[\"seir\"].pop.values:\n",
    "            \n",
    "            g = xr.plot.FacetGrid(this_ds.sel(pop=p), col=\"gamma\", row=\"sigma\")\n",
    "            colors = \"rgb\"\n",
    "            def plot_ranges(data):\n",
    "                for mx,m in enumerate(this_ds.model):\n",
    "                    # get this particular model\n",
    "                    this_data = data[mx]\n",
    "\n",
    "                    # get diff in policy vs. no policy\n",
    "                    this_data = this_data[:,0] - this_data[:,1]\n",
    "\n",
    "                    # plot quantile diffs\n",
    "                    if m.item()==\"true\":\n",
    "                        alpha=1\n",
    "                    else:\n",
    "                        alpha=.5\n",
    "\n",
    "                    if m.item()==\"seir\":\n",
    "                        label = f\"SEIR ($\\gamma_{{proj}} = {s_proj:.2f}$)\"\n",
    "                    elif m.item()==\"sir\":\n",
    "                        label = \"SIR\"\n",
    "                    else:\n",
    "                        label = \"true\"\n",
    "                    plt.fill_between(this_ds.t.values, this_data[0], this_data[-1], label=label, color=colors[mx], alpha=alpha)\n",
    "            g.map(plot_ranges, \"IR\")\n",
    "            g.axes.flat[0].legend(loc=\"upper left\")\n",
    "            g.set_xlabels(\"\")\n",
    "            g.set_titles(\"$\\{coord}$ = {value}\")\n",
    "            g.fig.suptitle(f\"LHS: {L}, Pop: {p:.0g}\", va=\"bottom\", y=0.99)\n",
    "            g.fig.savefig(plot_dir / f\"IR_timeseries_pop_{p}_LHS_{L}_sigmaProj_{s_proj}.pdf\", dpi=300)\n",
    "            plt.clf()"
   ]
  },
  {
   "cell_type": "markdown",
   "metadata": {},
   "source": [
    "## Endemic state values"
   ]
  },
  {
   "cell_type": "markdown",
   "metadata": {},
   "source": [
    "The below plots show how the estimated difference in cumulative cases at the endemic steady state (between policy and no-policy scenarios) differs across different epi parameters and different simulation engines (SIR vs. SEIR)."
   ]
  },
  {
   "cell_type": "code",
   "execution_count": 55,
   "metadata": {},
   "outputs": [],
   "source": [
    "LHS_to_plot = [\"I\", \"IR\"]\n",
    "\n",
    "this_true = means[\"true\"].sel(with_policy=0) - means[\"true\"].sel(with_policy=1)\n",
    "this_true = this_true.cum_cases_steady_state\n",
    "\n",
    "seirs = []\n",
    "for s_proj in means[\"seir\"].sigma_proj:\n",
    "    this_pred_seir = means[\"seir\"].sel(with_policy=0) - means[\"seir\"].sel(with_policy=1)\n",
    "    this_pred_seir = this_pred_seir.cum_cases_steady_state.sel(sigma_proj=s_proj).drop(\"sigma_proj\")\n",
    "    seirs.append(this_pred_seir)\n",
    "\n",
    "this_pred_sir = means[\"sir\"].sel(with_policy=0) - means[\"sir\"].sel(with_policy=1)\n",
    "this_pred_sir = this_pred_sir.cum_cases_steady_state\n",
    "\n",
    "plot_ds = xr.concat([this_true, this_pred_sir] + seirs, dim=\"model\").mean(\"pop\")\n",
    "plot_ds[\"model\"] = [\"true\", \"SIR\"] + [f\"SEIR_{i:.2f}\" for i in means[\"seir\"].sigma_proj.values]\n",
    "\n",
    "plot_ds = plot_ds.sel(LHS=LHS_to_plot)\n",
    "plot_df = plot_ds.to_dataframe().reset_index(drop=False)"
   ]
  },
  {
   "cell_type": "code",
   "execution_count": 57,
   "metadata": {},
   "outputs": [
    {
     "data": {
      "text/plain": [
       "<seaborn.axisgrid.FacetGrid at 0x7f00fc0d4b50>"
      ]
     },
     "execution_count": 57,
     "metadata": {},
     "output_type": "execute_result"
    },
    {
     "data": {
      "image/png": "[encoded data removed]",
      "text/plain": [
       "<Figure size 1155.55x1080 with 9 Axes>"
      ]
     },
     "metadata": {},
     "output_type": "display_data"
    }
   ],
   "source": [
    "sns.catplot(data=plot_df, row=\"sigma\", col=\"gamma\", x=\"LHS\", hue=\"model\", y=\"cum_cases_steady_state\", kind=\"bar\")"
   ]
  }
 ],
 "metadata": {
  "kernelspec": {
   "display_name": "Python [conda env:gpl-covid]",
   "language": "python",
   "name": "conda-env-gpl-covid-py"
  },
  "language_info": {
   "codemirror_mode": {
    "name": "ipython",
    "version": 3
   },
   "file_extension": ".py",
   "mimetype": "text/x-python",
   "name": "python",
   "nbconvert_exporter": "python",
   "pygments_lexer": "ipython3",
   "version": "3.7.6"
  }
 },
 "nbformat": 4,
 "nbformat_minor": 4
}
