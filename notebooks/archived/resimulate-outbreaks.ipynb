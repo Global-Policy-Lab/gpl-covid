{
 "cells": [
  {
   "cell_type": "markdown",
   "metadata": {},
   "source": [
    "# Resimulate outbreaks"
   ]
  },
  {
   "cell_type": "markdown",
   "metadata": {},
   "source": [
    "This notebook contains archived code that was written to take the regression coefficients estimated in `notebooks/simulate-and-regress.ipynb` and re-simulate the outbreak using SIR (as in the main text Fig. 4) and/or SEIR (as in Extended Data Fig. 7) dynamics. It is not finished and some of the input data structures have changed, so please do not use this without vetting and updating it first (and please submit a Pull Request when you do!)"
   ]
  },
  {
   "cell_type": "code",
   "execution_count": 4,
   "metadata": {},
   "outputs": [
    {
     "name": "stdout",
     "output_type": "stream",
     "text": [
      "The autoreload extension is already loaded. To reload it, use:\n",
      "  %reload_ext autoreload\n"
     ]
    }
   ],
   "source": [
    "%load_ext autoreload\n",
    "%autoreload 2\n",
    "\n",
    "import numpy as np\n",
    "import pandas as pd\n",
    "import xarray as xr\n",
    "from src import utils as cutil\n",
    "from src.models import epi"
   ]
  },
  {
   "cell_type": "markdown",
   "metadata": {},
   "source": [
    "## Settings"
   ]
  },
  {
   "cell_type": "code",
   "execution_count": 5,
   "metadata": {},
   "outputs": [],
   "source": [
    "reg_dir = cutil.RESULTS / \"other\" / \"sims\" / \"measNoise_0.1_betaNoise_Exp_gammaNoise_0.01_sigmaNoise_0.03\""
   ]
  },
  {
   "cell_type": "markdown",
   "metadata": {},
   "source": [
    "## Regenerate predictions of cumulative cases under no-policy and policy scenarios"
   ]
  },
  {
   "cell_type": "code",
   "execution_count": 15,
   "metadata": {},
   "outputs": [],
   "source": [
    "coeffs = epi.load_and_combine_reg_results(\n",
    "    reg_dir, cols_to_keep=[\"effect\", \"Intercept\", \"beta_deterministic\", \"IR\"] + list(\"SIR\")\n",
    ")\n",
    "coeffs = epi.calc_cum_effects(coeffs)"
   ]
  },
  {
   "cell_type": "markdown",
   "metadata": {},
   "source": [
    "### True no-policy counterfactual"
   ]
  },
  {
   "cell_type": "code",
   "execution_count": null,
   "metadata": {},
   "outputs": [],
   "source": [
    "def run_sim_across_pops(proj_ds, reg_res, kind):\n",
    "    proj_out = []\n",
    "    this_ds = proj_ds\n",
    "    for p in reg_res.pop:\n",
    "        if \"pop\" in proj_ds.dims:\n",
    "            this_ds = proj_ds.sel(pop=p)\n",
    "        if kind==\"SEIR\":\n",
    "            this_out = epi.run_SEIR(\n",
    "                reg_res.attrs[\"E0\"] / p,\n",
    "                reg_res.attrs[\"I0\"] / p,\n",
    "                reg_res.attrs[\"R0\"] / p,\n",
    "                this_ds,\n",
    "            )\n",
    "        elif kind==\"SIR\":\n",
    "            this_out = epi.run_SIR(\n",
    "                reg_res.attrs[\"E0\"] / p,\n",
    "                reg_res.attrs[\"R0\"] / p,\n",
    "                this_ds,\n",
    "            )\n",
    "        else:\n",
    "            raise ValueError\n",
    "        proj_out.append(this_out)\n",
    "    out = xr.concat(proj_out, dim=\"pop\")\n",
    "    out[\"pop\"] = reg_res.pop.values\n",
    "    out[\"t\"] = out.t.round(5)\n",
    "    out = out.reindex(t=reg_res.t.astype(int))\n",
    "    out.attrs = reg_res.attrs\n",
    "    return out"
   ]
  },
  {
   "cell_type": "code",
   "execution_count": null,
   "metadata": {},
   "outputs": [],
   "source": [
    "tsteps_per_day = reg_res.attrs[\"tsteps_per_day\"]\n",
    "t = np.arange(0, reg_res.t.max() + 1 / tsteps_per_day, 1 / tsteps_per_day)\n",
    "t = xr.DataArray(coords={\"t\": t}, dims=[\"t\",], data=t)\n",
    "beta_np_true = epi.get_beta_SEIR(\n",
    "    xr.ones_like(t) * reg_res.attrs[\"no_policy_growth_rate\"],\n",
    "    reg_res.gamma,\n",
    "    reg_res.sigma,\n",
    ")\n",
    "proj_ds = beta_np_true.to_dataset(name=\"beta_deterministic\")\n",
    "\n",
    "proj_ds = epi.get_stochastic_params(\n",
    "    proj_ds,\n",
    "    reg_res.attrs[\"beta_noise_sd\"],\n",
    "    bool(reg_res.attrs[\"beta_noise_on\"]),\n",
    "    reg_res.attrs[\"gamma_noise_sd\"],\n",
    "    bool(reg_res.attrs[\"gamma_noise_on\"]),\n",
    "    sigma_noise_sd=reg_res.attrs[\"sigma_noise_sd\"],\n",
    "    sigma_noise_on=bool(reg_res.attrs[\"sigma_noise_on\"]),\n",
    ")\n",
    "\n",
    "proj_ds = epi.adjust_timescales_from_daily(proj_ds)\n",
    "\n",
    "# # Run simulation\n",
    "true_np = run_sim_across_pops(proj_ds, reg_res, \"SEIR\")"
   ]
  },
  {
   "cell_type": "markdown",
   "metadata": {},
   "source": [
    "### Predicted states"
   ]
  },
  {
   "cell_type": "markdown",
   "metadata": {},
   "source": [
    "First, we estimate gamma from the data"
   ]
  },
  {
   "cell_type": "code",
   "execution_count": 113,
   "metadata": {},
   "outputs": [],
   "source": [
    "dRdt = reg_res.R.diff(\"t\", 1)\n",
    "I = ((reg_res.I.shift(t=1) + reg_res.I) / 2).isel(t=slice(1, None))\n",
    "gamma_est_ds = (dRdt / I).mean(dim=\"t\")"
   ]
  },
  {
   "cell_type": "markdown",
   "metadata": {},
   "source": [
    "Then, we get our estimates of the uninhibited exponential growth rate w/ and w/o policy."
   ]
  },
  {
   "cell_type": "code",
   "execution_count": 114,
   "metadata": {},
   "outputs": [],
   "source": [
    "def get_lambda(reg_res, lagged_policy, proj_ds):\n",
    "    lambda_pred_p = reg_res.Intercept.copy().broadcast_like(proj_ds)\n",
    "    lambda_pred_p = lambda_pred_p.transpose(\"sample\",\"t\",\"gamma\",\"sigma\",\"LHS\",\"pop\")\n",
    "    tmp = lambda_pred_p.values.copy()\n",
    "\n",
    "    p_on = (reg_res.policy_timeseries > 0).argmax(dim=\"t\").isel(pop=0).squeeze()\n",
    "    for p in reg_res.policy.values:\n",
    "        for l in reg_res.reg_lag.values:\n",
    "            lvar = reg_res.coefficient.sel(policy=p, reg_lag=l).transpose(\"sample\",\"gamma\",\"sigma\",\"LHS\",\"pop\").values\n",
    "            for s in reg_res.sample.values:\n",
    "                this_on = (\n",
    "                    p_on.sel(sample=s, policy=p).item() * reg_res.attrs[\"tsteps_per_day\"]\n",
    "                )\n",
    "                if lagged_policy:\n",
    "                    this_on += l * reg_res.attrs[\"tsteps_per_day\"]\n",
    "                tmp[s,this_on:] += lvar[s]\n",
    "    lambda_pred_p.values = tmp\n",
    "    return lambda_pred_p\n",
    "\n",
    "lambda_pred_p_SIR = get_lambda(reg_res, True, proj_ds)\n",
    "lambda_pred_p_SEIR = get_lambda(reg_res, False, proj_ds)\n",
    "lambda_pred_np = reg_res.Intercept.broadcast_like(lambda_pred_p_SEIR)"
   ]
  },
  {
   "cell_type": "markdown",
   "metadata": {},
   "source": [
    "Then we run an SEIR and SIR model"
   ]
  },
  {
   "cell_type": "code",
   "execution_count": 116,
   "metadata": {},
   "outputs": [],
   "source": [
    "def get_cum_cases_from_seir(lambda_pred, gamma_est_ds, reg_res):\n",
    "    # SEIR\n",
    "    beta_np_true = epi.get_beta_SEIR(\n",
    "        lambda_pred,\n",
    "        gamma_est_ds,\n",
    "        lambda_pred.sigma.rename({\"sigma\": \"sigma_proj\"}),\n",
    "    )\n",
    "    proj_ds = beta_np_true.to_dataset(name=\"beta_deterministic\")\n",
    "    proj_ds[\"gamma_deterministic\"] = gamma_est_ds\n",
    "\n",
    "    proj_ds = epi.get_stochastic_params(\n",
    "        proj_ds,\n",
    "        reg_res.attrs[\"beta_noise_sd\"],\n",
    "        bool(reg_res.attrs[\"beta_noise_on\"]),\n",
    "        reg_res.attrs[\"gamma_noise_sd\"],\n",
    "        bool(reg_res.attrs[\"gamma_noise_on\"]),\n",
    "        sigma_noise_sd=reg_res.attrs[\"sigma_noise_sd\"],\n",
    "        sigma_noise_on=bool(reg_res.attrs[\"sigma_noise_on\"]),\n",
    "    )\n",
    "\n",
    "    proj_ds = epi.adjust_timescales_from_daily(proj_ds)\n",
    "\n",
    "    # Run simulation\n",
    "    true_np_seir = run_sim_across_pops(proj_ds, reg_res, \"SEIR\")\n",
    "    return true_np_seir\n",
    "\n",
    "def get_cum_cases_from_sir(lambda_pred, gamma_est_ds, reg_res):\n",
    "    # SIR\n",
    "    proj_ds = (lambda_pred + gamma_est_ds).to_dataset(name=\"beta_deterministic\")\n",
    "    proj_ds[\"gamma_deterministic\"] = gamma_est_ds\n",
    "    proj_ds = epi.get_stochastic_params(\n",
    "        proj_ds,\n",
    "        reg_res.attrs[\"beta_noise_sd\"],\n",
    "        bool(reg_res.attrs[\"beta_noise_on\"]),\n",
    "        reg_res.attrs[\"gamma_noise_sd\"],\n",
    "        bool(reg_res.attrs[\"gamma_noise_on\"]),\n",
    "    ).drop(\"sigma_stoch\")\n",
    "    proj_ds = epi.adjust_timescales_from_daily(proj_ds)\n",
    "\n",
    "    # Run simulation\n",
    "    true_np_sir = run_sim_across_pops(proj_ds, reg_res, \"SIR\")\n",
    "    return true_np_sir"
   ]
  },
  {
   "cell_type": "markdown",
   "metadata": {},
   "source": [
    "Now we calculate final system state with and without policy"
   ]
  },
  {
   "cell_type": "code",
   "execution_count": 117,
   "metadata": {},
   "outputs": [],
   "source": [
    "pred_p_SIR = get_cum_cases_from_sir(lambda_pred_p_SIR, gamma_est_ds, reg_res)\n",
    "pred_np_SIR = get_cum_cases_from_sir(lambda_pred_np, gamma_est_ds, reg_res)\n",
    "pred_p_SEIR = get_cum_cases_from_seir(lambda_pred_p_SEIR, gamma_est_ds, reg_res)\n",
    "pred_np_SEIR = get_cum_cases_from_seir(lambda_pred_np, gamma_est_ds, reg_res)"
   ]
  },
  {
   "cell_type": "markdown",
   "metadata": {},
   "source": [
    "Now we aggregate all of the true and pred values"
   ]
  },
  {
   "cell_type": "code",
   "execution_count": 119,
   "metadata": {},
   "outputs": [],
   "source": [
    "sim_dir_base = out_home / \"projection\"\n",
    "bn, gn, sn = (0, 0, 0)\n",
    "if beta_noise_on:\n",
    "    bn = reg_res.attrs[\"beta_noise_sd\"]\n",
    "if gamma_noise_on:\n",
    "    gn = reg_res.attrs[\"gamma_noise_sd\"]\n",
    "if sigma_noise_on:\n",
    "    sn = reg_res.attrs[\"sigma_noise_sd\"]\n",
    "    \n",
    "sim_dir = sim_dir_base / f\"betaNoise_{bn}_gammaNoise_{gn}_sigmaNoise_{sn}\"\n",
    "sim_dir.mkdir(parents=True, exist_ok=True)"
   ]
  },
  {
   "cell_type": "code",
   "execution_count": 137,
   "metadata": {},
   "outputs": [],
   "source": [
    "sir_pred = xr.concat([pred_np_SIR[list(\"SIR\")+[\"beta_deterministic\", \"gamma_deterministic\"]], pred_p_SIR[list(\"SIR\")+[\"beta_deterministic\", \"gamma_deterministic\"]]], dim=\"with_policy\")\n",
    "sir_pred.to_netcdf(sim_dir / \"pred_sir.nc\")\n",
    "seir_pred = xr.concat([pred_np_SEIR[list(\"SEIR\")+[\"beta_deterministic\", \"gamma_deterministic\"]], pred_p_SEIR[list(\"SEIR\")+[\"beta_deterministic\", \"gamma_deterministic\"]]], dim=\"with_policy\")\n",
    "seir_pred.to_netcdf(sim_dir / \"pred_seir.nc\")\n",
    "true = xr.concat([true_np[list(\"SEIR\")+[\"beta_deterministic\"]], true_p[list(\"SEIR\")+[\"beta_deterministic\"]]], dim=\"with_policy\")\n",
    "true.to_netcdf(sim_dir / \"true.nc\")"
   ]
  }
 ],
 "metadata": {
  "kernelspec": {
   "display_name": "Python [conda env:gpl-covid]",
   "language": "python",
   "name": "conda-env-gpl-covid-py"
  },
  "language_info": {
   "codemirror_mode": {
    "name": "ipython",
    "version": 3
   },
   "file_extension": ".py",
   "mimetype": "text/x-python",
   "name": "python",
   "nbconvert_exporter": "python",
   "pygments_lexer": "ipython3",
   "version": "3.7.6"
  }
 },
 "nbformat": 4,
 "nbformat_minor": 4
}
