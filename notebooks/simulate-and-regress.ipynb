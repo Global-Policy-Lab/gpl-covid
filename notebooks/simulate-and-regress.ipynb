{
 "cells": [
  {
   "cell_type": "markdown",
   "metadata": {},
   "source": [
    "# Synthetic outbreak simulation"
   ]
  },
  {
   "cell_type": "markdown",
   "metadata": {},
   "source": [
    "This notebook evaluates the sensitivity of our econometrically-derived estimates of the impact of policy on infection growth rates given a variety of epidemiological and demographic parameters. Using a Monte Carlo approach, it simulates an outbreak progression using SIR and/or SEIR dynamics, allowing for noise in the $\\beta$, $\\gamma$, and $\\sigma$ parameters, along with measurement noise in the daily growth rate. It allows $\\beta$ to be affected by policy interventions. For each MC draw, after simulating the outbreak, it then uses our regression estimation framework (Eq. 7 from the paper) to obtain estimates for the impact of those policies. We then compare the distribution of estimates with the true values, under various assumptions for the values of $\\gamma$ and $\\sigma$, different population sizes, and different state variables used on the left-hand-side of the regression.\n",
    "\n",
    "One main difference in this simulation is that we are running *time series* regressions, rather than *panel* regressions (in which we observe multiple time series, one for each subnational administrative unit). Thus, noise will have a larger impact on our policy effect estimates in these simulations than they would if we were to have a panel dataset for each simulation."
   ]
  },
  {
   "cell_type": "code",
   "execution_count": 10,
   "metadata": {},
   "outputs": [
    {
     "name": "stdout",
     "output_type": "stream",
     "text": [
      "The autoreload extension is already loaded. To reload it, use:\n",
      "  %reload_ext autoreload\n"
     ]
    }
   ],
   "source": [
    "%load_ext autoreload\n",
    "%autoreload 2\n",
    "\n",
    "import numpy as np\n",
    "import pandas as pd\n",
    "import xarray as xr\n",
    "from collections import OrderedDict\n",
    "from src import utils as cutil\n",
    "from src.models import epi\n",
    "\n",
    "import seaborn as sns\n",
    "import matplotlib.pyplot as plt\n",
    "\n",
    "sns.set(context=\"notebook\", style=\"ticks\")\n",
    "\n",
    "out_home = cutil.RESULTS / \"other\" / \"sims\""
   ]
  },
  {
   "cell_type": "markdown",
   "metadata": {},
   "source": [
    "## Defining the search space"
   ]
  },
  {
   "cell_type": "markdown",
   "metadata": {},
   "source": [
    "We want to simulate over a range of population and disease parameters that are relevant to the outbreaks used in our main analysis. To do so, we first examine the values seen for these parameters across the administrative units of analysis."
   ]
  },
  {
   "cell_type": "code",
   "execution_count": 11,
   "metadata": {},
   "outputs": [],
   "source": [
    "dfs = []\n",
    "for i in cutil.ISOS:\n",
    "    df = pd.read_csv(cutil.MODELS / \"reg_data\" / f\"{i}_reg_data.csv\")\n",
    "    name_cols = [c for c in df.columns if c.endswith(\"_name\") and not c.startswith(\"adm0\") and c != \"adm1_adm2_name\"]\n",
    "    df[\"admX_name\"] = df[name_cols].agg('_'.join, axis=1)\n",
    "    df = df.drop(columns=name_cols).set_index([\"adm0_name\",\"admX_name\"], drop=True)\n",
    "    dfs.append(df)\n",
    "reg_df = pd.concat(dfs)\n",
    "reg_df[\"date\"] = pd.to_datetime(reg_df.date)\n",
    "reg_df = reg_df[reg_df.cum_confirmed_cases.notnull()]"
   ]
  },
  {
   "cell_type": "markdown",
   "metadata": {},
   "source": [
    "### Population"
   ]
  },
  {
   "cell_type": "code",
   "execution_count": 12,
   "metadata": {},
   "outputs": [
    {
     "data": {
      "image/png": "[encoded data removed]",
      "text/plain": [
       "<Figure size 432x288 with 1 Axes>"
      ]
     },
     "metadata": {},
     "output_type": "display_data"
    }
   ],
   "source": [
    "logbins = np.logspace(np.log10(reg_df.population).min(),np.log10(reg_df.population).max(),20)\n",
    "reg_df.population.hist(bins=logbins)\n",
    "plt.xscale(\"log\")"
   ]
  },
  {
   "cell_type": "markdown",
   "metadata": {},
   "source": [
    "A range between 10^5 and 10^8 seems to capture most of the admin units we study."
   ]
  },
  {
   "cell_type": "code",
   "execution_count": 13,
   "metadata": {},
   "outputs": [
    {
     "name": "stdout",
     "output_type": "stream",
     "text": [
      "Minimum susceptible fraction observed: 0.780 ('ITA', 'Lombardia_Cremona'), 78888 out of 358955\n",
      "p05: 0.929\n",
      "85.97% of admin units above S=0.95 at end of sample\n"
     ]
    },
    {
     "name": "stderr",
     "output_type": "stream",
     "text": [
      "/home/bolliger/miniconda3/envs/gpl-covid/lib/python3.7/site-packages/ipykernel_launcher.py:19: PerformanceWarning: indexing past lexsort depth may impact performance.\n",
      "/home/bolliger/miniconda3/envs/gpl-covid/lib/python3.7/site-packages/pandas/core/indexing.py:1762: PerformanceWarning: indexing past lexsort depth may impact performance.\n",
      "  return self._getitem_tuple(key)\n"
     ]
    }
   ],
   "source": [
    "underreporting_df = pd.read_csv(cutil.DATA_INTERIM / \"multi_country\" / \"under_reporting.csv\", usecols=[\"country\", \"underreporting_estimate\"], index_col=\"country\")\n",
    "underreporting_df = underreporting_df.rename(\n",
    "    index={\n",
    "        \"China\": \"CHN\",\n",
    "        \"France\": \"FRA\",\n",
    "        \"Iran\": \"IRN\",\n",
    "        \"Italy\": \"ITA\",\n",
    "        \"South Korea\": \"KOR\",\n",
    "        \"United States of America\": \"USA\"\n",
    "    }\n",
    ")\n",
    "\n",
    "reg_df = reg_df.join(underreporting_df, on=\"adm0_name\")\n",
    "cases = reg_df.cum_confirmed_cases / reg_df.underreporting_estimate\n",
    "S = 1 - (cases / reg_df.population)\n",
    "S_min = S.groupby(level=[0,1]).min()\n",
    "frac_above_95 = (S_min>.95).sum() / S_min.shape[0]\n",
    "\n",
    "print(f\"Minimum susceptible fraction observed: {S.min():.3f} {S.idxmin()}, {int(cases.loc[S.idxmin()].max()):d} out of {reg_df.loc[S.idxmin(),'population'].max():d}\")\n",
    "print(f\"p05: {S.groupby(level=[0,1]).min().quantile(.05):.3f}\")\n",
    "print(f\"{frac_above_95:.2%} of admin units above S=0.95 at end of sample\")"
   ]
  },
  {
   "cell_type": "markdown",
   "metadata": {},
   "source": [
    "After correcting for underreporting, 95% of the admin units analyzed still finish with over 93% susceptible, indicating that the assumption of asymptotically exponential growth is reasonable. For a few admin units, the percentage of the population remaining susceptible drops below 80% at the end of the observational period used in regression.\n",
    "\n",
    "Below, we look at a few examples of high pop/high S and low pop/low S locations"
   ]
  },
  {
   "cell_type": "code",
   "execution_count": 14,
   "metadata": {},
   "outputs": [],
   "source": [
    "S_sorted = S.groupby(level=[0,1]).min().sort_values()\n",
    "S_sorted = S_sorted[S_sorted.notnull()]\n",
    "S_sorted.name=\"S\""
   ]
  },
  {
   "cell_type": "code",
   "execution_count": 15,
   "metadata": {},
   "outputs": [
    {
     "data": {
      "text/html": [
       "<div>\n",
       "<style scoped>\n",
       "    .dataframe tbody tr th:only-of-type {\n",
       "        vertical-align: middle;\n",
       "    }\n",
       "\n",
       "    .dataframe tbody tr th {\n",
       "        vertical-align: top;\n",
       "    }\n",
       "\n",
       "    .dataframe thead th {\n",
       "        text-align: right;\n",
       "    }\n",
       "</style>\n",
       "<table border=\"1\" class=\"dataframe\">\n",
       "  <thead>\n",
       "    <tr style=\"text-align: right;\">\n",
       "      <th></th>\n",
       "      <th></th>\n",
       "      <th>S</th>\n",
       "      <th>population</th>\n",
       "    </tr>\n",
       "    <tr>\n",
       "      <th>adm0_name</th>\n",
       "      <th>admX_name</th>\n",
       "      <th></th>\n",
       "      <th></th>\n",
       "    </tr>\n",
       "  </thead>\n",
       "  <tbody>\n",
       "    <tr>\n",
       "      <th rowspan=\"5\" valign=\"top\">ITA</th>\n",
       "      <th>Molise_Isernia</th>\n",
       "      <td>0.991221</td>\n",
       "      <td>84379.0</td>\n",
       "    </tr>\n",
       "    <tr>\n",
       "      <th>Sardegna_Oristano</th>\n",
       "      <td>0.996830</td>\n",
       "      <td>157707.0</td>\n",
       "    </tr>\n",
       "    <tr>\n",
       "      <th>Calabria_Vibo Valentia</th>\n",
       "      <td>0.993059</td>\n",
       "      <td>160073.0</td>\n",
       "    </tr>\n",
       "    <tr>\n",
       "      <th>Sardegna_Nuoro</th>\n",
       "      <td>0.994228</td>\n",
       "      <td>208550.0</td>\n",
       "    </tr>\n",
       "    <tr>\n",
       "      <th>Sicilia_Caltanissetta</th>\n",
       "      <td>0.992662</td>\n",
       "      <td>262458.0</td>\n",
       "    </tr>\n",
       "    <tr>\n",
       "      <th>...</th>\n",
       "      <th>...</th>\n",
       "      <td>...</td>\n",
       "      <td>...</td>\n",
       "    </tr>\n",
       "    <tr>\n",
       "      <th rowspan=\"2\" valign=\"top\">USA</th>\n",
       "      <th>Florida</th>\n",
       "      <td>0.994399</td>\n",
       "      <td>20278447.0</td>\n",
       "    </tr>\n",
       "    <tr>\n",
       "      <th>Texas</th>\n",
       "      <td>0.997695</td>\n",
       "      <td>27419612.0</td>\n",
       "    </tr>\n",
       "    <tr>\n",
       "      <th>CHN</th>\n",
       "      <th>Chongqing_Chongqing</th>\n",
       "      <td>0.999945</td>\n",
       "      <td>32756100.0</td>\n",
       "    </tr>\n",
       "    <tr>\n",
       "      <th>USA</th>\n",
       "      <th>California</th>\n",
       "      <td>0.996508</td>\n",
       "      <td>38982847.0</td>\n",
       "    </tr>\n",
       "    <tr>\n",
       "      <th>CHN</th>\n",
       "      <th>Sichuan_Garzê Tibetan Autonomous Prefecture</th>\n",
       "      <td>0.999917</td>\n",
       "      <td>NaN</td>\n",
       "    </tr>\n",
       "  </tbody>\n",
       "</table>\n",
       "<p>230 rows × 2 columns</p>\n",
       "</div>"
      ],
      "text/plain": [
       "                                                              S  population\n",
       "adm0_name admX_name                                                        \n",
       "ITA       Molise_Isernia                               0.991221     84379.0\n",
       "          Sardegna_Oristano                            0.996830    157707.0\n",
       "          Calabria_Vibo Valentia                       0.993059    160073.0\n",
       "          Sardegna_Nuoro                               0.994228    208550.0\n",
       "          Sicilia_Caltanissetta                        0.992662    262458.0\n",
       "...                                                         ...         ...\n",
       "USA       Florida                                      0.994399  20278447.0\n",
       "          Texas                                        0.997695  27419612.0\n",
       "CHN       Chongqing_Chongqing                          0.999945  32756100.0\n",
       "USA       California                                   0.996508  38982847.0\n",
       "CHN       Sichuan_Garzê Tibetan Autonomous Prefecture  0.999917         NaN\n",
       "\n",
       "[230 rows x 2 columns]"
      ]
     },
     "execution_count": 15,
     "metadata": {},
     "output_type": "execute_result"
    }
   ],
   "source": [
    "Spop = pd.DataFrame(S_sorted).join(reg_df.population.drop_duplicates(), how=\"left\")\n",
    "Spop[Spop.S>.99].sort_values(\"population\")"
   ]
  },
  {
   "cell_type": "code",
   "execution_count": 16,
   "metadata": {},
   "outputs": [
    {
     "data": {
      "text/html": [
       "<div>\n",
       "<style scoped>\n",
       "    .dataframe tbody tr th:only-of-type {\n",
       "        vertical-align: middle;\n",
       "    }\n",
       "\n",
       "    .dataframe tbody tr th {\n",
       "        vertical-align: top;\n",
       "    }\n",
       "\n",
       "    .dataframe thead th {\n",
       "        text-align: right;\n",
       "    }\n",
       "</style>\n",
       "<table border=\"1\" class=\"dataframe\">\n",
       "  <thead>\n",
       "    <tr style=\"text-align: right;\">\n",
       "      <th></th>\n",
       "      <th></th>\n",
       "      <th>S</th>\n",
       "      <th>population</th>\n",
       "    </tr>\n",
       "    <tr>\n",
       "      <th>adm0_name</th>\n",
       "      <th>admX_name</th>\n",
       "      <th></th>\n",
       "      <th></th>\n",
       "    </tr>\n",
       "  </thead>\n",
       "  <tbody>\n",
       "    <tr>\n",
       "      <th>ITA</th>\n",
       "      <th>Lombardia_Cremona</th>\n",
       "      <td>0.780226</td>\n",
       "      <td>358955.0</td>\n",
       "    </tr>\n",
       "  </tbody>\n",
       "</table>\n",
       "</div>"
      ],
      "text/plain": [
       "                                    S  population\n",
       "adm0_name admX_name                              \n",
       "ITA       Lombardia_Cremona  0.780226    358955.0"
      ]
     },
     "execution_count": 16,
     "metadata": {},
     "output_type": "execute_result"
    }
   ],
   "source": [
    "Spop[Spop.S<.8].sort_values(\"population\")"
   ]
  },
  {
   "cell_type": "markdown",
   "metadata": {},
   "source": [
    "### Length of time series"
   ]
  },
  {
   "cell_type": "code",
   "execution_count": 17,
   "metadata": {},
   "outputs": [
    {
     "data": {
      "text/plain": [
       "(29.074626865671643, <matplotlib.axes._subplots.AxesSubplot at 0x7f50db355510>)"
      ]
     },
     "execution_count": 17,
     "metadata": {},
     "output_type": "execute_result"
    },
    {
     "data": {
      "image/png": "[encoded data removed]",
      "text/plain": [
       "<Figure size 432x288 with 1 Axes>"
      ]
     },
     "metadata": {},
     "output_type": "display_data"
    }
   ],
   "source": [
    "duration = (reg_df.groupby(level=[0,1]).date.max() - reg_df.groupby(level=[0,1]).date.min()).dt.days\n",
    "duration.mean(), duration.hist()"
   ]
  },
  {
   "cell_type": "markdown",
   "metadata": {},
   "source": [
    "45 days seems like a decent duration to pick for our simulations (you can play with others by turning the relevant knobs below). Note that these timeseries begin at 10 cumulative confirmed cases, while our simulation takes ~7-10 days to get to that point from the initial confirmed case."
   ]
  },
  {
   "cell_type": "markdown",
   "metadata": {},
   "source": [
    "### Duration of no-policy regime"
   ]
  },
  {
   "cell_type": "code",
   "execution_count": 18,
   "metadata": {},
   "outputs": [
    {
     "data": {
      "text/plain": [
       "Text(0.5, 1.0, 'Days to first policy from beginning of regression')"
      ]
     },
     "execution_count": 18,
     "metadata": {},
     "output_type": "execute_result"
    },
    {
     "data": {
      "image/png": "[encoded data removed]",
      "text/plain": [
       "<Figure size 432x288 with 1 Axes>"
      ]
     },
     "metadata": {},
     "output_type": "display_data"
    }
   ],
   "source": [
    "policy_vars = reg_df.set_index(\"date\", append=True).iloc[:,7:]\n",
    "policy_vars = policy_vars[[c for c in policy_vars.columns if \"testing_regime\" not in c]].select_dtypes(\"number\")\n",
    "\n",
    "days_to_first_pol = (policy_vars>0).groupby(\n",
    "    level=[0,1]\n",
    ").apply(\n",
    "    lambda x: x.reset_index(drop=True).idxmax(axis=0, skipna=False)\n",
    ").groupby(level=0).max()\n",
    "d = days_to_first_pol.values.flatten()\n",
    "plt.hist(d[d>0], bins=20)\n",
    "plt.title('Days to first policy from beginning of regression')"
   ]
  },
  {
   "cell_type": "markdown",
   "metadata": {},
   "source": [
    "Based on this analysis, we are going to set our simulations to have the first policy start sometime 10-15 days into the simulation. This corresponds to 10-15 days after the first exposure, even though we don't start the regression until there are 10 cumulative cases, which often takes 7-10 days given the parameters we are evaluating. This means that many policies will be starting immediately after the synthetic regression dataset begins. This provides robustness in estimating no-policy growth rates with limited no-policy observations. The figure above shows the distribution of within-country maxima for the value \"days from the start of the regression to the first policy\"."
   ]
  },
  {
   "cell_type": "markdown",
   "metadata": {},
   "source": [
    "### Duration after last policy"
   ]
  },
  {
   "cell_type": "code",
   "execution_count": 19,
   "metadata": {},
   "outputs": [
    {
     "data": {
      "text/plain": [
       "Text(0.5, 1.0, 'Distribution of Max days after last policy for all admin units in a country')"
      ]
     },
     "execution_count": 19,
     "metadata": {},
     "output_type": "execute_result"
    },
    {
     "data": {
      "image/png": "[encoded data removed]",
      "text/plain": [
       "<Figure size 432x288 with 1 Axes>"
      ]
     },
     "metadata": {},
     "output_type": "display_data"
    }
   ],
   "source": [
    "days_after_last_pol = (policy_vars.sort_index(ascending=False)>0).groupby(\n",
    "    level=[0,1]\n",
    ").apply(\n",
    "    lambda x: x.reset_index(drop=True).idxmax(axis=0, skipna=False)\n",
    ").groupby(level=0).max()\n",
    "d = days_after_last_pol.values.flatten()\n",
    "plt.hist(d[d>0])\n",
    "plt.xlim(0,50)\n",
    "plt.title('Distribution of Max days after last policy for all admin units in a country')"
   ]
  },
  {
   "cell_type": "markdown",
   "metadata": {},
   "source": [
    "### Reasonable noise settings"
   ]
  },
  {
   "cell_type": "markdown",
   "metadata": {},
   "source": [
    "We can look at the RMSE of daily growth rates from our model predictions and use that to find a rough value that can be used to parameterize noise in the transmission rate $\\beta$ in the simulations."
   ]
  },
  {
   "cell_type": "code",
   "execution_count": 20,
   "metadata": {},
   "outputs": [
    {
     "data": {
      "text/plain": [
       "0.0664951348334208"
      ]
     },
     "execution_count": 20,
     "metadata": {},
     "output_type": "execute_result"
    }
   ],
   "source": [
    "resid_file = cutil.RESULTS / \"source_data\" / \"ExtendedDataFigure10_e.csv\"\n",
    "rmses = pd.read_csv(resid_file, usecols=[1]).e\n",
    "rmse = np.sqrt(rmses**2).mean()\n",
    "rmse"
   ]
  },
  {
   "cell_type": "markdown",
   "metadata": {},
   "source": [
    "## Settings"
   ]
  },
  {
   "cell_type": "markdown",
   "metadata": {},
   "source": [
    "Based on the rough diagnostics of our regression datasets depicted above, we have chosen some reasonable search parameters for this simulation exercise. You may alter them in the below cell to try out new parameter groupings. See the docstring for `src.epi.simulate_and_regress` for the definition of each setting."
   ]
  },
  {
   "cell_type": "code",
   "execution_count": 27,
   "metadata": {
    "tags": [
     "parameters"
    ]
   },
   "outputs": [],
   "source": [
    "# sim settings\n",
    "n_days = 45\n",
    "tsteps_per_day = 24\n",
    "n_samples = 1000\n",
    "pops = [1e5, 1e6, 1e7, 1e8]\n",
    "\n",
    "# epi settings\n",
    "E0 = 1\n",
    "I0 = 0\n",
    "R0 = 0\n",
    "gamma_to_test = [0.05, 0.2, 0.33]\n",
    "sigma_to_test = [0.2, 0.33, 0.5]\n",
    "\n",
    "# regression settings\n",
    "min_cases = 10\n",
    "LHS_vars = [\"I\", \"EI\", \"IR\", \"EIR\"]\n",
    "reg_lag_days = [0]\n",
    "random_end = True\n",
    "\n",
    "# policy settings\n",
    "no_policy_growth_rate = 0.4\n",
    "\n",
    "# policy effects settings\n",
    "p_effects = [-0.05, -0.1, -0.2]\n",
    "p_lags = [\n",
    "    [],\n",
    "    [],\n",
    "    [],\n",
    "]\n",
    "p_start_interval = [10, 25]\n",
    "ordered_policies = False\n",
    "random_end = True\n",
    "\n",
    "# stochasticity settings\n",
    "measurement_noise_on = \"normal\"\n",
    "measurement_noise_sd = .05 # only used if noise_on=\"normal\"\n",
    "\n",
    "beta_noise_on = \"exponential\"\n",
    "beta_noise_sd = 0\n",
    "\n",
    "gamma_noise_on = \"normal\"\n",
    "gamma_noise_sd = .01\n",
    "\n",
    "sigma_noise_on = \"normal\"\n",
    "sigma_noise_sd = .03"
   ]
  },
  {
   "cell_type": "code",
   "execution_count": 28,
   "metadata": {},
   "outputs": [],
   "source": [
    "# choose where to save results\n",
    "strs = []\n",
    "sds = [measurement_noise_sd, beta_noise_sd, gamma_noise_sd, sigma_noise_sd]\n",
    "for nx,n in enumerate([measurement_noise_on, beta_noise_on, gamma_noise_on, sigma_noise_on]):\n",
    "    if n==\"exponential\":\n",
    "        strs.append(\"Exp\")\n",
    "    elif n==\"inv_exponential\":\n",
    "        strs.append(\"invExp\")\n",
    "    elif n==\"normal\":\n",
    "        strs.append(sds[nx])\n",
    "    elif not n:\n",
    "        strs.append(0)\n",
    "reg_dir = out_home / \"measNoise_{}_betaNoise_{}_gammaNoise_{}_sigmaNoise_{}\".format(*strs)\n",
    "reg_dir.mkdir(parents=True, exist_ok=True)"
   ]
  },
  {
   "cell_type": "markdown",
   "metadata": {},
   "source": [
    "## Run simulations"
   ]
  },
  {
   "cell_type": "code",
   "execution_count": 29,
   "metadata": {},
   "outputs": [
    {
     "name": "stdout",
     "output_type": "stream",
     "text": [
      "SIR\n",
      "100000.0\n"
     ]
    },
    {
     "name": "stderr",
     "output_type": "stream",
     "text": [
      "/home/bolliger/git_repos/gpl-covid/code/models/epi.py:362: UserWarning: Parameter gamma has 165519/3243000 values <0 (5.10%). These are non-physical params. If they are dropped in the simulation, this will change the mean. Fraction of negative values:           gamma_stoch\n",
      "gamma                \n",
      "0.002086     0.153100\n",
      "0.008368     0.000017\n",
      "0.013845     0.000000\n",
      "  f\"Parameter {param} has {n_bad}/{n_tot} values <0 ({n_bad/n_tot:.2%}). \"\n"
     ]
    },
    {
     "name": "stdout",
     "output_type": "stream",
     "text": [
      "1000000.0\n"
     ]
    },
    {
     "name": "stderr",
     "output_type": "stream",
     "text": [
      "/home/bolliger/git_repos/gpl-covid/code/models/epi.py:362: UserWarning: Parameter gamma has 165519/3243000 values <0 (5.10%). These are non-physical params. If they are dropped in the simulation, this will change the mean. Fraction of negative values:           gamma_stoch\n",
      "gamma                \n",
      "0.002086     0.153100\n",
      "0.008368     0.000017\n",
      "0.013845     0.000000\n",
      "  f\"Parameter {param} has {n_bad}/{n_tot} values <0 ({n_bad/n_tot:.2%}). \"\n"
     ]
    },
    {
     "name": "stdout",
     "output_type": "stream",
     "text": [
      "10000000.0\n"
     ]
    },
    {
     "name": "stderr",
     "output_type": "stream",
     "text": [
      "/home/bolliger/git_repos/gpl-covid/code/models/epi.py:362: UserWarning: Parameter gamma has 165519/3243000 values <0 (5.10%). These are non-physical params. If they are dropped in the simulation, this will change the mean. Fraction of negative values:           gamma_stoch\n",
      "gamma                \n",
      "0.002086     0.153100\n",
      "0.008368     0.000017\n",
      "0.013845     0.000000\n",
      "  f\"Parameter {param} has {n_bad}/{n_tot} values <0 ({n_bad/n_tot:.2%}). \"\n"
     ]
    },
    {
     "name": "stdout",
     "output_type": "stream",
     "text": [
      "100000000.0\n"
     ]
    },
    {
     "name": "stderr",
     "output_type": "stream",
     "text": [
      "/home/bolliger/git_repos/gpl-covid/code/models/epi.py:362: UserWarning: Parameter gamma has 165519/3243000 values <0 (5.10%). These are non-physical params. If they are dropped in the simulation, this will change the mean. Fraction of negative values:           gamma_stoch\n",
      "gamma                \n",
      "0.002086     0.153100\n",
      "0.008368     0.000017\n",
      "0.013845     0.000000\n",
      "  f\"Parameter {param} has {n_bad}/{n_tot} values <0 ({n_bad/n_tot:.2%}). \"\n"
     ]
    },
    {
     "name": "stdout",
     "output_type": "stream",
     "text": [
      "SEIR\n",
      "100000.0\n"
     ]
    },
    {
     "name": "stderr",
     "output_type": "stream",
     "text": [
      "/home/bolliger/git_repos/gpl-covid/code/models/epi.py:362: UserWarning: Parameter gamma has 165647/3243000 values <0 (5.11%). These are non-physical params. If they are dropped in the simulation, this will change the mean. Fraction of negative values:           gamma_stoch\n",
      "gamma                \n",
      "0.002086     0.153213\n",
      "0.008368     0.000022\n",
      "0.013845     0.000000\n",
      "  f\"Parameter {param} has {n_bad}/{n_tot} values <0 ({n_bad/n_tot:.2%}). \"\n",
      "/home/bolliger/git_repos/gpl-covid/code/models/epi.py:362: UserWarning: Parameter sigma has 106123/3243000 values <0 (3.27%). These are non-physical params. If they are dropped in the simulation, this will change the mean. Fraction of negative values:           sigma_stoch\n",
      "sigma                \n",
      "0.008368     0.086056\n",
      "0.013845     0.011858\n",
      "0.021052     0.000258\n",
      "  f\"Parameter {param} has {n_bad}/{n_tot} values <0 ({n_bad/n_tot:.2%}). \"\n",
      "/home/bolliger/miniconda3/envs/gpl-covid/lib/python3.7/site-packages/xarray/core/computation.py:604: RuntimeWarning: invalid value encountered in sqrt\n",
      "  result_data = func(*input_data)\n",
      "/home/bolliger/miniconda3/envs/gpl-covid/lib/python3.7/site-packages/xarray/core/computation.py:604: RuntimeWarning: divide by zero encountered in log\n",
      "  result_data = func(*input_data)\n"
     ]
    },
    {
     "name": "stdout",
     "output_type": "stream",
     "text": [
      "1000000.0\n"
     ]
    },
    {
     "name": "stderr",
     "output_type": "stream",
     "text": [
      "/home/bolliger/git_repos/gpl-covid/code/models/epi.py:362: UserWarning: Parameter gamma has 165647/3243000 values <0 (5.11%). These are non-physical params. If they are dropped in the simulation, this will change the mean. Fraction of negative values:           gamma_stoch\n",
      "gamma                \n",
      "0.002086     0.153213\n",
      "0.008368     0.000022\n",
      "0.013845     0.000000\n",
      "  f\"Parameter {param} has {n_bad}/{n_tot} values <0 ({n_bad/n_tot:.2%}). \"\n",
      "/home/bolliger/git_repos/gpl-covid/code/models/epi.py:362: UserWarning: Parameter sigma has 106123/3243000 values <0 (3.27%). These are non-physical params. If they are dropped in the simulation, this will change the mean. Fraction of negative values:           sigma_stoch\n",
      "sigma                \n",
      "0.008368     0.086056\n",
      "0.013845     0.011858\n",
      "0.021052     0.000258\n",
      "  f\"Parameter {param} has {n_bad}/{n_tot} values <0 ({n_bad/n_tot:.2%}). \"\n",
      "/home/bolliger/miniconda3/envs/gpl-covid/lib/python3.7/site-packages/xarray/core/computation.py:604: RuntimeWarning: invalid value encountered in sqrt\n",
      "  result_data = func(*input_data)\n",
      "/home/bolliger/miniconda3/envs/gpl-covid/lib/python3.7/site-packages/xarray/core/computation.py:604: RuntimeWarning: divide by zero encountered in log\n",
      "  result_data = func(*input_data)\n"
     ]
    },
    {
     "name": "stdout",
     "output_type": "stream",
     "text": [
      "10000000.0\n"
     ]
    },
    {
     "name": "stderr",
     "output_type": "stream",
     "text": [
      "/home/bolliger/git_repos/gpl-covid/code/models/epi.py:362: UserWarning: Parameter gamma has 165647/3243000 values <0 (5.11%). These are non-physical params. If they are dropped in the simulation, this will change the mean. Fraction of negative values:           gamma_stoch\n",
      "gamma                \n",
      "0.002086     0.153213\n",
      "0.008368     0.000022\n",
      "0.013845     0.000000\n",
      "  f\"Parameter {param} has {n_bad}/{n_tot} values <0 ({n_bad/n_tot:.2%}). \"\n",
      "/home/bolliger/git_repos/gpl-covid/code/models/epi.py:362: UserWarning: Parameter sigma has 106123/3243000 values <0 (3.27%). These are non-physical params. If they are dropped in the simulation, this will change the mean. Fraction of negative values:           sigma_stoch\n",
      "sigma                \n",
      "0.008368     0.086056\n",
      "0.013845     0.011858\n",
      "0.021052     0.000258\n",
      "  f\"Parameter {param} has {n_bad}/{n_tot} values <0 ({n_bad/n_tot:.2%}). \"\n",
      "/home/bolliger/miniconda3/envs/gpl-covid/lib/python3.7/site-packages/xarray/core/computation.py:604: RuntimeWarning: invalid value encountered in sqrt\n",
      "  result_data = func(*input_data)\n",
      "/home/bolliger/miniconda3/envs/gpl-covid/lib/python3.7/site-packages/xarray/core/computation.py:604: RuntimeWarning: divide by zero encountered in log\n",
      "  result_data = func(*input_data)\n"
     ]
    },
    {
     "name": "stdout",
     "output_type": "stream",
     "text": [
      "100000000.0\n"
     ]
    },
    {
     "name": "stderr",
     "output_type": "stream",
     "text": [
      "/home/bolliger/git_repos/gpl-covid/code/models/epi.py:362: UserWarning: Parameter gamma has 165647/3243000 values <0 (5.11%). These are non-physical params. If they are dropped in the simulation, this will change the mean. Fraction of negative values:           gamma_stoch\n",
      "gamma                \n",
      "0.002086     0.153213\n",
      "0.008368     0.000022\n",
      "0.013845     0.000000\n",
      "  f\"Parameter {param} has {n_bad}/{n_tot} values <0 ({n_bad/n_tot:.2%}). \"\n",
      "/home/bolliger/git_repos/gpl-covid/code/models/epi.py:362: UserWarning: Parameter sigma has 106123/3243000 values <0 (3.27%). These are non-physical params. If they are dropped in the simulation, this will change the mean. Fraction of negative values:           sigma_stoch\n",
      "sigma                \n",
      "0.008368     0.086056\n",
      "0.013845     0.011858\n",
      "0.021052     0.000258\n",
      "  f\"Parameter {param} has {n_bad}/{n_tot} values <0 ({n_bad/n_tot:.2%}). \"\n",
      "/home/bolliger/miniconda3/envs/gpl-covid/lib/python3.7/site-packages/xarray/core/computation.py:604: RuntimeWarning: invalid value encountered in sqrt\n",
      "  result_data = func(*input_data)\n",
      "/home/bolliger/miniconda3/envs/gpl-covid/lib/python3.7/site-packages/xarray/core/computation.py:604: RuntimeWarning: divide by zero encountered in log\n",
      "  result_data = func(*input_data)\n"
     ]
    }
   ],
   "source": [
    "reg_res_ds = {\n",
    "    \"SIR\": [],\n",
    "    \"SEIR\": []\n",
    "}\n",
    "for m in [\"SIR\", \"SEIR\"]:\n",
    "    print(m)\n",
    "    if m==\"SIR\":\n",
    "        this_I0 = E0\n",
    "    elif m==\"SEIR\":\n",
    "        this_I0 = I0\n",
    "    for p in pops:\n",
    "        print(p)\n",
    "        reg_res_ds[m].append(\n",
    "            epi.simulate_and_regress(\n",
    "                p,\n",
    "                no_policy_growth_rate,\n",
    "                p_effects,\n",
    "                p_lags,\n",
    "                p_start_interval,\n",
    "                n_days,\n",
    "                tsteps_per_day,\n",
    "                n_samples,\n",
    "                LHS_vars,\n",
    "                reg_lag_days,\n",
    "                gamma_to_test,\n",
    "                min_cases,\n",
    "                sigma_to_test=sigma_to_test,\n",
    "                measurement_noise_on=measurement_noise_on,\n",
    "                measurement_noise_sd=measurement_noise_sd,\n",
    "                beta_noise_on=beta_noise_on,\n",
    "                beta_noise_sd=beta_noise_sd,\n",
    "                sigma_noise_sd=sigma_noise_sd,\n",
    "                sigma_noise_on=sigma_noise_on,\n",
    "                gamma_noise_on=gamma_noise_on,\n",
    "                gamma_noise_sd=gamma_noise_sd,\n",
    "                E0=E0,\n",
    "                I0=this_I0,\n",
    "                R0=R0,\n",
    "                save_dir=reg_dir / m / \"regression\",\n",
    "                kind=m,\n",
    "                ordered_policies=ordered_policies,\n",
    "                random_end=random_end\n",
    "            )\n",
    "        )"
   ]
  },
  {
   "cell_type": "code",
   "execution_count": null,
   "metadata": {},
   "outputs": [],
   "source": []
  }
 ],
 "metadata": {
  "kernelspec": {
   "display_name": "Python 3",
   "language": "python",
   "name": "python3"
  },
  "language_info": {
   "codemirror_mode": {
    "name": "ipython",
    "version": 3
   },
   "file_extension": ".py",
   "mimetype": "text/x-python",
   "name": "python",
   "nbconvert_exporter": "python",
   "pygments_lexer": "ipython3",
   "version": "3.7.6"
  }
 },
 "nbformat": 4,
 "nbformat_minor": 4
}
